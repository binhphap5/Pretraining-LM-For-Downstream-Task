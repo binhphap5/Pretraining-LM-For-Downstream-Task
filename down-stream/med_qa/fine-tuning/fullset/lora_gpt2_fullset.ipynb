{
 "cells": [
  {
   "cell_type": "markdown",
   "id": "f04b197f",
   "metadata": {},
   "source": [
    "# Load datasets"
   ]
  },
  {
   "cell_type": "code",
   "execution_count": 1,
   "id": "b35c76f9",
   "metadata": {},
   "outputs": [],
   "source": [
    "from datasets import load_dataset\n",
    "import torch\n",
    "ds = load_dataset(\"hungnm/vietnamese-medical-qa\", split=\"train\")"
   ]
  },
  {
   "cell_type": "code",
   "execution_count": 2,
   "id": "dd17c8be",
   "metadata": {},
   "outputs": [
    {
     "name": "stdout",
     "output_type": "stream",
     "text": [
      "{'answer': 'Chào bạn,\\nĐể trả lời câu hỏi trên, bác sĩ xin giải đáp như sau:\\nRăng bạn hiện tại có mủ dưới lợi gây đau nhức nhiều. Bạn có thể đến phòng khám răng hàm mặt bệnh viện để được thăm khám, chụp phim và tư vấn cho bạn được chính xác\\nTrân trọng!', 'question': 'Chào bác sĩ,\\nRăng cháu hiện tại có mủ ở dưới lợi nhưng khi đau cháu sẽ không ngủ được (quá đau). Tuy nhiên chỉ vài ngày là hết mà thỉnh thoảng nó lại bị đau. Chị cháu bảo là trước chị cháu cũng bị như vậy chỉ là đau răng tuổi dậy thì thôi. Bác sĩ cho cháu hỏi đau răng kèm có mủ dưới lợi là bệnh gì? Cháu có cần đi chữa trị không? Cháu cảm ơn.'}\n",
      "{'answer': 'Chào bạn,\\nĐể trả lời câu hỏi trên, bác sĩ xin giải đáp như sau:\\nTriệu chứng nốt mụn đỏ vùng dưới lưỡi, đau khi chạm vào gợi ý tình trạng mụn viêm vùng lưỡi, nếu nốt mụn không to thêm và tự hết trong 7-10 ngày thì bạn không cần quá lo lắng.\\nTrong trường hợp nốt mụn to dần hoặc nốt mụn tồn tại trên 02 tuần không hết thì bạn cần đến bác sĩ để khám kiểm tra. Đối với các nốt lớn mặt trên lưỡi thì bạn có thể đến phòng khám Tai mũi họng để bác sĩ khám kiểm tra và tư vấn cụ thể hơn.\\nTrân trọng!', 'question': 'Chào bác sĩ,\\nEm thấy mặt dưới, phía cuống lưỡi của mình có 2 nốt mụn nhỏ, đỏ xung quanh, ở giữa có nhân trắng, đau nhẹ khi dùng đầu lưỡi chạm vào. Đồng thời, phía cuống lưỡi mặt trên cũng có các nốt lớn nổi lên, không gây đau. Bác sĩ cho em hỏi cuống lưỡi nổi mụn nhỏ là dấu hiệu bệnh gì? Có phải em đang mắc bệnh gì không hay chỉ bị nhiệt miệng bình thường? Em cảm ơn bác sĩ.'}\n",
      "{'answer': 'Chào bạn,\\nĐể trả lời câu hỏi trên, bác sĩ xin giải đáp như sau:\\nCác triệu chứng sốt, đau họng, amidan có mủ tái đi tái lại nhiều lần gợi ý tình trạng viêm amidan mạn. Tình trạng viêm amidan của chị tái đi tái lại thường xuyên, ảnh hưởng nhiều đến sức khỏe và sinh hoạt bản thân do đó có chỉ định cắt amidan để điều trị hiệu quả tình trạng trên.\\nViêm amidan mạn không phải là nguy cơ ung thư vòm họng, tuy vậy bạn nên đến phòng khám Tai mũi họng để khám, nội soi kiểm tra nhằm xác định có đúng là chị đang có tình trạng viêm amidan mạn hay không, đồng thời tầm soát thêm một số nguyên nhân gây sốt, đau họng khác.\\nTrân trọng!', 'question': 'Chào bác sĩ,\\nTừ tháng 4/2020, em mới xuất hiện lần đầu triệu chứng viêm amidan có mủ và sốt. Tuy nhiên, kể từ thời gian đó trở đi, bệnh tái phát nhiều lần (khoảng 1,2 tháng bị 01 lần), nhất là sau khi bị cảm tình trạng viêm nặng hơn lúc bình thường (sốt và có mủ, không tự khỏi được). Tình trạng trên ảnh hưởng rất nhiều đến sức khỏe và sinh hoạt của bản thân. Bác sĩ cho em hỏi viêm amidan có mủ kèm sốt tái phát nhiều lần phải làm sao? Em có nguy cơ bị ung thư vòm họng không? Em cảm ơn.'}\n",
      "{'answer': 'Chào bạn,\\nĐể trả lời câu hỏi trên, bác sĩ xin giải đáp như sau:\\nCác dấu hiệu: nghẹt mũi, vướng họng có thể gặp trong các bệnh lý viêm mũi xoang, viêm họng, viêm amidan, trào ngược dạ dày - thực quản,... Bạn có thể đến phòng khám Tai mũi họng để nội soi mũi xoang, họng - thanh quản kiểm tra và tư vấn điều trị hiệu quả.\\nTrân trọng!', 'question': 'Chào bác sĩ,\\nDạo gần đây, mỗi tối ngủ con hay bị nghẹt mũi kèm theo vướng họng nhưng không có đờm, đặc biệt là lúc nằm xuống. Còn ban ngày chỉ thấy vướng họng. Bác sĩ cho con hỏi nghẹt mũi kèm vướng họng là dấu hiệu bệnh gì? Con cảm ơn.'}\n",
      "{'answer': 'Chào bạn,\\nĐể trả lời câu hỏi trên, bác sĩ xin giải đáp như sau:\\nTăng tiết mồ hôi nguyên phát thường do rối loạn chức năng của hệ thống thần kinh thực vật (cường giao cảm) gây nên; Yếu tố tinh thần, cảm xúc (lo âu, căng thẳng), sử dụng rượu bia, cà phê, thiếu ngủ là những tác nhân kích hoạt tuyến mồ hôi hoạt động mạnh hơn.\\nTăng tiết mồ hôi thứ phát xảy ra sau khi mắc một số bệnh lý như đái tháo đường, cường giáp, bệnh gút, ung thư, nhiễm trùng, béo phì hoặc phụ nữ trong thời kỳ mãn kinh; tùy từng người, có biểu hiện tăng tiết mồ hôi vị trí khác nhau (nách, bàn tay, ngực...).\\nBạn có thể điều trị bằng thuốc hoặc phẫu thuật; bạn nên đến bệnh viện khám chuyên khoa nội, ngoại lồng ngực để xác định nguyên nhân và tìm phương thức điều trị phù hợp.\\nTrân trọng!', 'question': 'Chào bác sĩ,\\nEm bị tăng tiết mồ hôi, nhất là vùng mặt và ngực ra rất nhiều. Bác sĩ cho em hỏi tăng tiết mồ hôi ở vùng mặt và ngực có điều trị được không? Em cảm ơn bác sĩ.'}\n"
     ]
    }
   ],
   "source": [
    "# print first 5 samples\n",
    "for i in range(5):\n",
    "    print(ds[i])"
   ]
  },
  {
   "cell_type": "code",
   "execution_count": 3,
   "id": "909e9c2b",
   "metadata": {},
   "outputs": [],
   "source": [
    "import re\n",
    "\n",
    "def clean_text(text):\n",
    "    # Loại bỏ các cụm từ dư thừa\n",
    "    patterns = [\n",
    "        r\"(?i)\\b(chào|xin chào|kính chào)\\s*(bác sĩ|bạn|em|anh|chị)?[:,!.]?\",\n",
    "        r\"(?i)\\b(để trả lời câu hỏi trên, bác sĩ xin giải đáp như sau)[:,]?\",\n",
    "        r\"(?i)\\b(để trả lời câu hỏi trên, bác sĩ giải đáp như sau)[:,]?\",\n",
    "        r\"(?i)\\b(bác sĩ cho (cháu|em|tôi) hỏi)[:,]?\",\n",
    "        r\"(?i)\\b(em muốn hỏi)[:,]?\",\n",
    "        r\"(?i)\\b(xin hỏi)[:,]?\",\n",
    "        r\"(?i)\\b(em cảm ơn|cháu cảm ơn|cháu xin cảm ơn bs)[:,.!]?\",\n",
    "        r\"(?i)\\b(trân trọng|thân ái|chúc bạn sức khỏe|thân mến)[:,.!]?\"\n",
    "    ]\n",
    "    for pattern in patterns:\n",
    "        text = re.sub(pattern, '', text)\n",
    "    # Loại bỏ khoảng trắng thừa\n",
    "    text = re.sub(r'\\s+', ' ', text).strip()\n",
    "    return text"
   ]
  },
  {
   "cell_type": "code",
   "execution_count": 4,
   "id": "ea59323c",
   "metadata": {},
   "outputs": [],
   "source": [
    "def preprocess(example):\n",
    "    input = clean_text(example[\"question\"])\n",
    "    response = clean_text(example[\"answer\"])\n",
    "    return {\n",
    "        \"instruction\": \"\",\n",
    "        \"input\": input,\n",
    "        \"output\": response\n",
    "    }\n",
    "\n",
    "processed_dataset = ds.map(\n",
    "    preprocess,\n",
    "    remove_columns=[\"question\", \"answer\"],\n",
    ")"
   ]
  },
  {
   "cell_type": "code",
   "execution_count": 5,
   "id": "3064d69c",
   "metadata": {},
   "outputs": [
    {
     "name": "stdout",
     "output_type": "stream",
     "text": [
      "{'instruction': '', 'input': 'Răng cháu hiện tại có mủ ở dưới lợi nhưng khi đau cháu sẽ không ngủ được (quá đau). Tuy nhiên chỉ vài ngày là hết mà thỉnh thoảng nó lại bị đau. Chị cháu bảo là trước chị cháu cũng bị như vậy chỉ là đau răng tuổi dậy thì thôi. đau răng kèm có mủ dưới lợi là bệnh gì? Cháu có cần đi chữa trị không?', 'output': 'Răng bạn hiện tại có mủ dưới lợi gây đau nhức nhiều. Bạn có thể đến phòng khám răng hàm mặt bệnh viện để được thăm khám, chụp phim và tư vấn cho bạn được chính xác'}\n",
      "{'instruction': '', 'input': 'Em thấy mặt dưới, phía cuống lưỡi của mình có 2 nốt mụn nhỏ, đỏ xung quanh, ở giữa có nhân trắng, đau nhẹ khi dùng đầu lưỡi chạm vào. Đồng thời, phía cuống lưỡi mặt trên cũng có các nốt lớn nổi lên, không gây đau. cuống lưỡi nổi mụn nhỏ là dấu hiệu bệnh gì? Có phải em đang mắc bệnh gì không hay chỉ bị nhiệt miệng bình thường? bác sĩ.', 'output': 'Triệu chứng nốt mụn đỏ vùng dưới lưỡi, đau khi chạm vào gợi ý tình trạng mụn viêm vùng lưỡi, nếu nốt mụn không to thêm và tự hết trong 7-10 ngày thì bạn không cần quá lo lắng. Trong trường hợp nốt mụn to dần hoặc nốt mụn tồn tại trên 02 tuần không hết thì bạn cần đến bác sĩ để khám kiểm tra. Đối với các nốt lớn mặt trên lưỡi thì bạn có thể đến phòng khám Tai mũi họng để bác sĩ khám kiểm tra và tư vấn cụ thể hơn.'}\n",
      "{'instruction': '', 'input': 'Từ tháng 4/2020, em mới xuất hiện lần đầu triệu chứng viêm amidan có mủ và sốt. Tuy nhiên, kể từ thời gian đó trở đi, bệnh tái phát nhiều lần (khoảng 1,2 tháng bị 01 lần), nhất là sau khi bị cảm tình trạng viêm nặng hơn lúc bình thường (sốt và có mủ, không tự khỏi được). Tình trạng trên ảnh hưởng rất nhiều đến sức khỏe và sinh hoạt của bản thân. viêm amidan có mủ kèm sốt tái phát nhiều lần phải làm sao? Em có nguy cơ bị ung thư vòm họng không?', 'output': 'Các triệu chứng sốt, đau họng, amidan có mủ tái đi tái lại nhiều lần gợi ý tình trạng viêm amidan mạn. Tình trạng viêm amidan của chị tái đi tái lại thường xuyên, ảnh hưởng nhiều đến sức khỏe và sinh hoạt bản thân do đó có chỉ định cắt amidan để điều trị hiệu quả tình trạng trên. Viêm amidan mạn không phải là nguy cơ ung thư vòm họng, tuy vậy bạn nên đến phòng khám Tai mũi họng để khám, nội soi kiểm tra nhằm xác định có đúng là chị đang có tình trạng viêm amidan mạn hay không, đồng thời tầm soát thêm một số nguyên nhân gây sốt, đau họng khác.'}\n",
      "{'instruction': '', 'input': 'Dạo gần đây, mỗi tối ngủ con hay bị nghẹt mũi kèm theo vướng họng nhưng không có đờm, đặc biệt là lúc nằm xuống. Còn ban ngày chỉ thấy vướng họng. Bác sĩ cho con hỏi nghẹt mũi kèm vướng họng là dấu hiệu bệnh gì? Con cảm ơn.', 'output': 'Các dấu hiệu: nghẹt mũi, vướng họng có thể gặp trong các bệnh lý viêm mũi xoang, viêm họng, viêm amidan, trào ngược dạ dày - thực quản,... Bạn có thể đến phòng khám Tai mũi họng để nội soi mũi xoang, họng - thanh quản kiểm tra và tư vấn điều trị hiệu quả.'}\n",
      "{'instruction': '', 'input': 'Em bị tăng tiết mồ hôi, nhất là vùng mặt và ngực ra rất nhiều. tăng tiết mồ hôi ở vùng mặt và ngực có điều trị được không? bác sĩ.', 'output': 'Tăng tiết mồ hôi nguyên phát thường do rối loạn chức năng của hệ thống thần kinh thực vật (cường giao cảm) gây nên; Yếu tố tinh thần, cảm xúc (lo âu, căng thẳng), sử dụng rượu bia, cà phê, thiếu ngủ là những tác nhân kích hoạt tuyến mồ hôi hoạt động mạnh hơn. Tăng tiết mồ hôi thứ phát xảy ra sau khi mắc một số bệnh lý như đái tháo đường, cường giáp, bệnh gút, ung thư, nhiễm trùng, béo phì hoặc phụ nữ trong thời kỳ mãn kinh; tùy từng người, có biểu hiện tăng tiết mồ hôi vị trí khác nhau (nách, bàn tay, ngực...). Bạn có thể điều trị bằng thuốc hoặc phẫu thuật; bạn nên đến bệnh viện khám chuyên khoa nội, ngoại lồng ngực để xác định nguyên nhân và tìm phương thức điều trị phù hợp.'}\n"
     ]
    }
   ],
   "source": [
    "for i in range(5):\n",
    "    print(processed_dataset[i])"
   ]
  },
  {
   "cell_type": "code",
   "execution_count": 6,
   "id": "eda3715d",
   "metadata": {},
   "outputs": [
    {
     "name": "stdout",
     "output_type": "stream",
     "text": [
      "Dataset({\n",
      "    features: ['instruction', 'input', 'output'],\n",
      "    num_rows: 8868\n",
      "})\n",
      "Dataset({\n",
      "    features: ['instruction', 'input', 'output'],\n",
      "    num_rows: 467\n",
      "})\n"
     ]
    }
   ],
   "source": [
    "full_dataset = processed_dataset.train_test_split(test_size=0.05, shuffle=True)\n",
    "dataset_train = full_dataset['train']\n",
    "dataset_valid = full_dataset['test']\n",
    " \n",
    "print(dataset_train)\n",
    "print(dataset_valid)"
   ]
  },
  {
   "cell_type": "markdown",
   "id": "78766122",
   "metadata": {},
   "source": [
    "# Load model"
   ]
  },
  {
   "cell_type": "code",
   "execution_count": 7,
   "id": "dc2cf3eb",
   "metadata": {},
   "outputs": [],
   "source": [
    "from transformers import AutoModelForCausalLM, AutoTokenizer, BitsAndBytesConfig\n",
    "from peft import prepare_model_for_kbit_training\n",
    "\n",
    "model_name = \"binhphap5/gpt2-vietnamese-medium-instruct-bf16\"\n",
    "\n",
    "bnb_config = BitsAndBytesConfig(\n",
    "    load_in_4bit=True,\n",
    "    bnb_4bit_compute_dtype=torch.bfloat16,\n",
    "    bnb_4bit_quant_type=\"nf4\",\n",
    "    bnb_4bit_use_double_quant=True\n",
    ")\n",
    "\n",
    "model = AutoModelForCausalLM.from_pretrained(\n",
    "    model_name,\n",
    "    device_map=\"cuda:0\",\n",
    "    torch_dtype = torch.bfloat16,\n",
    "    # quantization_config = bnb_config,\n",
    ")\n",
    "\n",
    "model.enable_input_require_grads() \n",
    "\n",
    "tokenizer = AutoTokenizer.from_pretrained(\n",
    "    model_name,\n",
    ")\n",
    "\n",
    "# tokenizer.pad_token = tokenizer.eos_token\n",
    "# model = prepare_model_for_kbit_training(model)"
   ]
  },
  {
   "cell_type": "code",
   "execution_count": 8,
   "id": "7dc9f8e5",
   "metadata": {},
   "outputs": [
    {
     "name": "stdout",
     "output_type": "stream",
     "text": [
      "GPT2LMHeadModel(\n",
      "  (transformer): GPT2Model(\n",
      "    (wte): Embedding(50258, 1024)\n",
      "    (wpe): Embedding(1024, 1024)\n",
      "    (drop): Dropout(p=0.0, inplace=False)\n",
      "    (h): ModuleList(\n",
      "      (0-23): 24 x GPT2Block(\n",
      "        (ln_1): LayerNorm((1024,), eps=1e-05, elementwise_affine=True)\n",
      "        (attn): GPT2Attention(\n",
      "          (c_attn): Conv1D(nf=3072, nx=1024)\n",
      "          (c_proj): Conv1D(nf=1024, nx=1024)\n",
      "          (attn_dropout): Dropout(p=0.0, inplace=False)\n",
      "          (resid_dropout): Dropout(p=0.0, inplace=False)\n",
      "        )\n",
      "        (ln_2): LayerNorm((1024,), eps=1e-05, elementwise_affine=True)\n",
      "        (mlp): GPT2MLP(\n",
      "          (c_fc): Conv1D(nf=4096, nx=1024)\n",
      "          (c_proj): Conv1D(nf=1024, nx=4096)\n",
      "          (act): NewGELUActivation()\n",
      "          (dropout): Dropout(p=0.0, inplace=False)\n",
      "        )\n",
      "      )\n",
      "    )\n",
      "    (ln_f): LayerNorm((1024,), eps=1e-05, elementwise_affine=True)\n",
      "  )\n",
      "  (lm_head): Linear(in_features=1024, out_features=50258, bias=False)\n",
      ")\n",
      "354,824,192 total parameters.\n",
      "354,824,192 training parameters.\n"
     ]
    }
   ],
   "source": [
    "# Total parameters and trainable parameters.\n",
    "print(model)\n",
    "total_params = sum(p.numel() for p in model.parameters())\n",
    "print(f\"{total_params:,} total parameters.\")\n",
    "total_trainable_params = sum(\n",
    "    p.numel() for p in model.parameters() if p.requires_grad)\n",
    "print(f\"{total_trainable_params:,} training parameters.\")"
   ]
  },
  {
   "cell_type": "markdown",
   "id": "16ef9429",
   "metadata": {},
   "source": [
    "# Build LoRA config"
   ]
  },
  {
   "cell_type": "code",
   "execution_count": 9,
   "id": "10ede17d",
   "metadata": {},
   "outputs": [
    {
     "name": "stdout",
     "output_type": "stream",
     "text": [
      "trainable params: 4,325,376 || all params: 359,149,568 || trainable%: 1.2043\n"
     ]
    }
   ],
   "source": [
    "from peft import LoraConfig, get_peft_model, TaskType\n",
    "\n",
    "lora_config = LoraConfig(\n",
    "    r=16,\n",
    "    lora_alpha=32,\n",
    "    lora_dropout=0.1,\n",
    "    target_modules=[\"c_attn\", \"c_proj\"],\n",
    "    bias=\"none\",\n",
    "    task_type=TaskType.CAUSAL_LM,\n",
    "    fan_in_fan_out = True,\n",
    "    inference_mode = False\n",
    ")\n",
    "\n",
    "# Apply LoRA\n",
    "model = get_peft_model(model, lora_config)\n",
    "model.print_trainable_parameters() "
   ]
  },
  {
   "cell_type": "code",
   "execution_count": 10,
   "id": "8cf582b5",
   "metadata": {},
   "outputs": [
    {
     "data": {
      "text/plain": [
       "PeftModelForCausalLM(\n",
       "  (base_model): LoraModel(\n",
       "    (model): GPT2LMHeadModel(\n",
       "      (transformer): GPT2Model(\n",
       "        (wte): Embedding(50258, 1024)\n",
       "        (wpe): Embedding(1024, 1024)\n",
       "        (drop): Dropout(p=0.0, inplace=False)\n",
       "        (h): ModuleList(\n",
       "          (0-23): 24 x GPT2Block(\n",
       "            (ln_1): LayerNorm((1024,), eps=1e-05, elementwise_affine=True)\n",
       "            (attn): GPT2Attention(\n",
       "              (c_attn): lora.Linear(\n",
       "                (base_layer): Conv1D(nf=3072, nx=1024)\n",
       "                (lora_dropout): ModuleDict(\n",
       "                  (default): Dropout(p=0.1, inplace=False)\n",
       "                )\n",
       "                (lora_A): ModuleDict(\n",
       "                  (default): Linear(in_features=1024, out_features=16, bias=False)\n",
       "                )\n",
       "                (lora_B): ModuleDict(\n",
       "                  (default): Linear(in_features=16, out_features=3072, bias=False)\n",
       "                )\n",
       "                (lora_embedding_A): ParameterDict()\n",
       "                (lora_embedding_B): ParameterDict()\n",
       "                (lora_magnitude_vector): ModuleDict()\n",
       "              )\n",
       "              (c_proj): lora.Linear(\n",
       "                (base_layer): Conv1D(nf=1024, nx=1024)\n",
       "                (lora_dropout): ModuleDict(\n",
       "                  (default): Dropout(p=0.1, inplace=False)\n",
       "                )\n",
       "                (lora_A): ModuleDict(\n",
       "                  (default): Linear(in_features=1024, out_features=16, bias=False)\n",
       "                )\n",
       "                (lora_B): ModuleDict(\n",
       "                  (default): Linear(in_features=16, out_features=1024, bias=False)\n",
       "                )\n",
       "                (lora_embedding_A): ParameterDict()\n",
       "                (lora_embedding_B): ParameterDict()\n",
       "                (lora_magnitude_vector): ModuleDict()\n",
       "              )\n",
       "              (attn_dropout): Dropout(p=0.0, inplace=False)\n",
       "              (resid_dropout): Dropout(p=0.0, inplace=False)\n",
       "            )\n",
       "            (ln_2): LayerNorm((1024,), eps=1e-05, elementwise_affine=True)\n",
       "            (mlp): GPT2MLP(\n",
       "              (c_fc): Conv1D(nf=4096, nx=1024)\n",
       "              (c_proj): lora.Linear(\n",
       "                (base_layer): Conv1D(nf=1024, nx=4096)\n",
       "                (lora_dropout): ModuleDict(\n",
       "                  (default): Dropout(p=0.1, inplace=False)\n",
       "                )\n",
       "                (lora_A): ModuleDict(\n",
       "                  (default): Linear(in_features=4096, out_features=16, bias=False)\n",
       "                )\n",
       "                (lora_B): ModuleDict(\n",
       "                  (default): Linear(in_features=16, out_features=1024, bias=False)\n",
       "                )\n",
       "                (lora_embedding_A): ParameterDict()\n",
       "                (lora_embedding_B): ParameterDict()\n",
       "                (lora_magnitude_vector): ModuleDict()\n",
       "              )\n",
       "              (act): NewGELUActivation()\n",
       "              (dropout): Dropout(p=0.0, inplace=False)\n",
       "            )\n",
       "          )\n",
       "        )\n",
       "        (ln_f): LayerNorm((1024,), eps=1e-05, elementwise_affine=True)\n",
       "      )\n",
       "      (lm_head): Linear(in_features=1024, out_features=50258, bias=False)\n",
       "    )\n",
       "  )\n",
       ")"
      ]
     },
     "execution_count": 10,
     "metadata": {},
     "output_type": "execute_result"
    }
   ],
   "source": [
    "model"
   ]
  },
  {
   "cell_type": "markdown",
   "id": "777a967b",
   "metadata": {},
   "source": [
    "# Preprocessing"
   ]
  },
  {
   "cell_type": "code",
   "execution_count": 11,
   "id": "d4635744",
   "metadata": {},
   "outputs": [],
   "source": [
    "def preprocess_function(example):\n",
    "    \"\"\"\n",
    "    Formatting function with clear delimiters and handling of empty inputs.\n",
    "    \"\"\"\n",
    "    # instruction = example['instruction'].strip()\n",
    "    # Handle empty or None input gracefully\n",
    "    input_text = example[\"input\"].strip() if example[\"input\"] else \"\"\n",
    "    output = example[\"output\"].strip()\n",
    "\n",
    "    # Format with clear separators\n",
    "    # if input_text:\n",
    "    text = f\"### Instruction:\\nHãy trả lời câu hỏi với mô tả sau.\\n\\n### Input:\\n{input_text}\\n\\n### Response:\\n{output}\"\n",
    "    # else:\n",
    "    #     text = f\"### Instruction:\\n{instruction}\\n\\n### Response:\\n{output}\\n\\n\"\n",
    "    return text"
   ]
  },
  {
   "cell_type": "code",
   "execution_count": 12,
   "id": "ad91f8a9",
   "metadata": {},
   "outputs": [],
   "source": [
    "# data collator for causal LM\n",
    "from trl import DataCollatorForCompletionOnlyLM\n",
    "\n",
    "response_template = \"### Response:\\n\"\n",
    "data_collator = DataCollatorForCompletionOnlyLM(\n",
    "    tokenizer=tokenizer,\n",
    "    response_template=response_template,\n",
    ")"
   ]
  },
  {
   "cell_type": "markdown",
   "id": "cfdbeee0",
   "metadata": {},
   "source": [
    "# Training"
   ]
  },
  {
   "cell_type": "code",
   "execution_count": 13,
   "id": "aaf2f58a",
   "metadata": {},
   "outputs": [],
   "source": [
    "from trl import SFTConfig, SFTTrainer\n",
    "\n",
    "sft_config = SFTConfig(\n",
    "    # Paths & Datasets\n",
    "    output_dir=\"gpt2-vietnamese-medium-instruct-medical-qa\",    \n",
    "    logging_dir=\"logs\",                  \n",
    "    \n",
    "    # Truncation \n",
    "    max_length=tokenizer.model_max_length,\n",
    "    \n",
    "    per_device_train_batch_size=4,       \n",
    "    per_device_eval_batch_size=4,\n",
    "    gradient_accumulation_steps=4,\n",
    "\n",
    "    # Optimization & LR Scheduling\n",
    "    learning_rate=5e-5,\n",
    "    weight_decay=0.03,\n",
    "    num_train_epochs=10,\n",
    "    lr_scheduler_type=\"cosine\",\n",
    "\n",
    "    # Evaluation / Checkpoint\n",
    "    eval_strategy=\"epoch\",              \n",
    "    save_strategy=\"epoch\",              \n",
    "    logging_strategy=\"epoch\",           \n",
    "    save_total_limit=1,\n",
    "\n",
    "    # Best‑model selection\n",
    "    load_best_model_at_end=True,\n",
    "    metric_for_best_model=\"eval_loss\",\n",
    "    greater_is_better=False,\n",
    "\n",
    "    optim=\"paged_adamw_32bit\",\n",
    "    gradient_checkpointing=True\n",
    ")"
   ]
  },
  {
   "cell_type": "code",
   "execution_count": 14,
   "id": "516418f6",
   "metadata": {},
   "outputs": [
    {
     "data": {
      "application/vnd.jupyter.widget-view+json": {
       "model_id": "67491809e05c479da8b4fee2cc36cda9",
       "version_major": 2,
       "version_minor": 0
      },
      "text/plain": [
       "Applying formatting function to train dataset:   0%|          | 0/8868 [00:00<?, ? examples/s]"
      ]
     },
     "metadata": {},
     "output_type": "display_data"
    },
    {
     "data": {
      "application/vnd.jupyter.widget-view+json": {
       "model_id": "5f8d5bd3b317433682196b2500baecdc",
       "version_major": 2,
       "version_minor": 0
      },
      "text/plain": [
       "Converting train dataset to ChatML:   0%|          | 0/8868 [00:00<?, ? examples/s]"
      ]
     },
     "metadata": {},
     "output_type": "display_data"
    },
    {
     "data": {
      "application/vnd.jupyter.widget-view+json": {
       "model_id": "12049ecb13ea425d83a512f12d7f7961",
       "version_major": 2,
       "version_minor": 0
      },
      "text/plain": [
       "Applying chat template to train dataset:   0%|          | 0/8868 [00:00<?, ? examples/s]"
      ]
     },
     "metadata": {},
     "output_type": "display_data"
    },
    {
     "data": {
      "application/vnd.jupyter.widget-view+json": {
       "model_id": "f3007633768c4487a6215cef27ff5608",
       "version_major": 2,
       "version_minor": 0
      },
      "text/plain": [
       "Tokenizing train dataset:   0%|          | 0/8868 [00:00<?, ? examples/s]"
      ]
     },
     "metadata": {},
     "output_type": "display_data"
    },
    {
     "name": "stderr",
     "output_type": "stream",
     "text": [
      "Token indices sequence length is longer than the specified maximum sequence length for this model (1184 > 1024). Running this sequence through the model will result in indexing errors\n"
     ]
    },
    {
     "data": {
      "application/vnd.jupyter.widget-view+json": {
       "model_id": "a0999917cc45457f907aeea86483f468",
       "version_major": 2,
       "version_minor": 0
      },
      "text/plain": [
       "Truncating train dataset:   0%|          | 0/8868 [00:00<?, ? examples/s]"
      ]
     },
     "metadata": {},
     "output_type": "display_data"
    },
    {
     "data": {
      "application/vnd.jupyter.widget-view+json": {
       "model_id": "0e90bf06b2084dd882b0b7c9777b37f2",
       "version_major": 2,
       "version_minor": 0
      },
      "text/plain": [
       "Applying formatting function to eval dataset:   0%|          | 0/467 [00:00<?, ? examples/s]"
      ]
     },
     "metadata": {},
     "output_type": "display_data"
    },
    {
     "data": {
      "application/vnd.jupyter.widget-view+json": {
       "model_id": "46d81775e53f4e37930d8299515828fb",
       "version_major": 2,
       "version_minor": 0
      },
      "text/plain": [
       "Converting eval dataset to ChatML:   0%|          | 0/467 [00:00<?, ? examples/s]"
      ]
     },
     "metadata": {},
     "output_type": "display_data"
    },
    {
     "data": {
      "application/vnd.jupyter.widget-view+json": {
       "model_id": "85c28176f4444176bb5591176223f1bf",
       "version_major": 2,
       "version_minor": 0
      },
      "text/plain": [
       "Applying chat template to eval dataset:   0%|          | 0/467 [00:00<?, ? examples/s]"
      ]
     },
     "metadata": {},
     "output_type": "display_data"
    },
    {
     "data": {
      "application/vnd.jupyter.widget-view+json": {
       "model_id": "d0f3779ff74d4ea4a29ab59f3bc9665c",
       "version_major": 2,
       "version_minor": 0
      },
      "text/plain": [
       "Tokenizing eval dataset:   0%|          | 0/467 [00:00<?, ? examples/s]"
      ]
     },
     "metadata": {},
     "output_type": "display_data"
    },
    {
     "data": {
      "application/vnd.jupyter.widget-view+json": {
       "model_id": "f2c66f6231454d14a170fe8fd36044f2",
       "version_major": 2,
       "version_minor": 0
      },
      "text/plain": [
       "Truncating eval dataset:   0%|          | 0/467 [00:00<?, ? examples/s]"
      ]
     },
     "metadata": {},
     "output_type": "display_data"
    },
    {
     "name": "stderr",
     "output_type": "stream",
     "text": [
      "No label_names provided for model class `PeftModelForCausalLM`. Since `PeftModel` hides base models input arguments, if label_names is not given, label_names can't be set automatically within `Trainer`. Note that empty label_names list will be used instead.\n"
     ]
    }
   ],
   "source": [
    "trainer = SFTTrainer(\n",
    "    model=model,                         \n",
    "    train_dataset=dataset_train,\n",
    "    eval_dataset=dataset_valid,\n",
    "    args=sft_config,                     \n",
    "    processing_class=tokenizer,\n",
    "    formatting_func=preprocess_function,\n",
    "    data_collator=data_collator,\n",
    ")"
   ]
  },
  {
   "cell_type": "code",
   "execution_count": 15,
   "id": "cc87db3c",
   "metadata": {},
   "outputs": [],
   "source": [
    "# # get dataloader in trainer\n",
    "# data_loader = trainer.get_train_dataloader()\n",
    "# for batch in data_loader:\n",
    "#     # print an example\n",
    "#     print(batch[\"input_ids\"][0].shape)\n",
    "    "
   ]
  },
  {
   "cell_type": "code",
   "execution_count": 16,
   "id": "f018fc5e",
   "metadata": {},
   "outputs": [
    {
     "name": "stderr",
     "output_type": "stream",
     "text": [
      "`use_cache=True` is incompatible with gradient checkpointing. Setting `use_cache=False`...\n",
      "`loss_type=None` was set in the config but it is unrecognised.Using the default loss: `ForCausalLMLoss`.\n"
     ]
    },
    {
     "data": {
      "text/html": [
       "\n",
       "    <div>\n",
       "      \n",
       "      <progress value='5540' max='5540' style='width:300px; height:20px; vertical-align: middle;'></progress>\n",
       "      [5540/5540 53:46, Epoch 9/10]\n",
       "    </div>\n",
       "    <table border=\"1\" class=\"dataframe\">\n",
       "  <thead>\n",
       " <tr style=\"text-align: left;\">\n",
       "      <th>Epoch</th>\n",
       "      <th>Training Loss</th>\n",
       "      <th>Validation Loss</th>\n",
       "    </tr>\n",
       "  </thead>\n",
       "  <tbody>\n",
       "    <tr>\n",
       "      <td>1</td>\n",
       "      <td>3.015600</td>\n",
       "      <td>2.881226</td>\n",
       "    </tr>\n",
       "    <tr>\n",
       "      <td>2</td>\n",
       "      <td>2.863600</td>\n",
       "      <td>2.821907</td>\n",
       "    </tr>\n",
       "    <tr>\n",
       "      <td>3</td>\n",
       "      <td>2.803800</td>\n",
       "      <td>2.790011</td>\n",
       "    </tr>\n",
       "    <tr>\n",
       "      <td>4</td>\n",
       "      <td>2.759100</td>\n",
       "      <td>2.768887</td>\n",
       "    </tr>\n",
       "    <tr>\n",
       "      <td>5</td>\n",
       "      <td>2.728000</td>\n",
       "      <td>2.756187</td>\n",
       "    </tr>\n",
       "    <tr>\n",
       "      <td>6</td>\n",
       "      <td>2.703000</td>\n",
       "      <td>2.749101</td>\n",
       "    </tr>\n",
       "    <tr>\n",
       "      <td>7</td>\n",
       "      <td>2.686000</td>\n",
       "      <td>2.743526</td>\n",
       "    </tr>\n",
       "    <tr>\n",
       "      <td>8</td>\n",
       "      <td>2.674900</td>\n",
       "      <td>2.741616</td>\n",
       "    </tr>\n",
       "    <tr>\n",
       "      <td>9</td>\n",
       "      <td>2.665600</td>\n",
       "      <td>2.740715</td>\n",
       "    </tr>\n",
       "  </tbody>\n",
       "</table><p>"
      ],
      "text/plain": [
       "<IPython.core.display.HTML object>"
      ]
     },
     "metadata": {},
     "output_type": "display_data"
    },
    {
     "name": "stderr",
     "output_type": "stream",
     "text": [
      "c:\\Users\\Admin\\miniconda3\\envs\\tf-gpu\\lib\\site-packages\\trl\\trainer\\utils.py:145: UserWarning: Could not find response key `### Response:\n",
      "` in the following instance: ### Instruction:\n",
      "Hãy trả lời câu hỏi với mô tả sau.\n",
      "\n",
      "### Input:\n",
      "Cho em hỏi sau khi quan hệ không bảo vệ em đã dùng thuốc tránh thai, nhưng thời gian cũng không lâu trong ngày hôm đó, em lại quan hệ không bảo vệ lần nữa, vậy thuốc tránh thai ban đầu em dùng có tác dụng với lần sau không ạ? Thanh Thúy (1996) tôi muốn hỏi sau 10 ngày quan hệ còn có thể uống thuốc tránh thai được không ạ? Mong bác sĩ tư vấn giúp tôi, cảm ơn bác sĩ. Cho em hỏi là em quan hệ tới giờ đã 5 ngày. Có loại thuốc tránh thai nào dùng được cho trường hợp của em nữa không ạ, em chưa muốn có con giờ. Cảm ơn bác sĩ Em có uống thuốc tránh thai 72h vào ngày 4/3 nhưng đến ngày 5/3 em quan hệ mà không dùng biện pháp tránh thai thì khả năng có thai cao không ạ. Cảm ơn bác sĩ! Em uống thuốc tránh thai khẩn cấp loại 72h và quan hệ không an toàn sau đó 1 ngày thì có dễ mang thai không ạ. Cảm ơn bác sĩ. Lần đầu quan hệ cháu làm rách bao cao su nên đã uống thuốc tránh thai khẩn cấp. Ngày hôm sau vẫn bị trường hợp như vậy nhưng cháu không dùng thuốc tránh thai nữa thì liệu có khả năng mang thai không ạ? Cảm ơn bác sĩ. Cho tôi hỏi ạ: hôm nay tôi có quan hệ xong có uống thuốc tránh thai cấp tốc, rồi ngày mai tôi vẫn quan hệ. Cho tôi hỏi có thể dính bầu không ạ. Ngày đầu tiên quan hệ trúng ngày rụng trứng luôn ạ. Cảm ơn bác sĩ. Vợ mình dùng thuốc tránh thai khẩn cấp 2 ngày trước ngày thứ 3 mình quan hệ không dùng bao cao su thì có khả năng mang thai không ạ? Cảm ơn bác sĩ. Em và bạn trai quan hệ với nhau 1 tuần em có uống thuốc tránh thai 1 lần. Em đã uống 5 lần, mà đã đến kỳ kinh nguyệt vẫn chưa có kinh nguyệt thì cho em hỏi như vậy có sao không vậy? Cảm ơn bác sĩ. cho em hỏi em có uống thuốc tránh thai 72 giờ, sau hai ngày em quan hệ tiếp em không dùng biện pháp gì bảo vệ vậy thuốc còn có tác dụng không ạ. bác sĩ. Dương Thị Thảo (1990) Sau khi uống thuốc ngừa thai cấp tốc 24h thì trong 24h vừa uống xong, em có thể quan hệ mà không cần biện pháp phòng tránh không ạ? Cảm ơn bác sĩ. Con muốn bác tư vấn cho cháu với. Sau 3 ngày quan hệ con đã dùng viên tránh thai khẩn cấp nhưng sau đêm thứ 3 đó chồng con lại xịt vào trong liệu có dính không ạ? Con cảm ơn ạ. Em uống thuốc tránh thai 72 giờ sau khi quan hệ đến ngày thứ 3 lại quan hệ tiếp không bảo vệ nhưng khi quan hệ lại vào lúc thuốc hết tác dụng 72 giờ tức là qua 72 giờ tầm 1 tiếng thì liệu có thai không ạ? Mong bác sĩ tư vấn giúp em ạ. Cảm ơn bác sĩ. Em quan hệ với bạn em uống thuốc tránh thai khẩn cấp sau quan hệ lần 1. Lần 2 em uống thêm 1 lần nữa cách lần 1, 8 tiếng liệu thuốc có tác dụng không ạ. Tụi em không dùng bao, bạn em xuất ra ngoài! Mong bác sĩ tư vấn giúp em với ạ. Sau khi quan hệ lần đầu, em uống thuốc tránh thai khẩn cấp, nhưng sau đó 1 tuần em lại quan hệ không dùng biện pháp gì cả, sau 1 tuần liệu thuốc còn tác dụng nữa không ạ bác sĩ. Mong bác sĩ tư vấn giúp em. Dạ là khi nào thì dùng thuốc tránh thai khẩn cấp và dùng luôn hay sau bao nhiêu giờ ạ? Mong bác sĩ tư vấn giúp em ạ. Nguyễn Văn Hùng (1998) Uống 2 viên thuốc tránh thai 1 tháng có làm sao không ạ. Mong bác sĩ giải đáp giúp em. Cảm ơn bác sĩ tư vấn. Hôm đó em uống rượu say. Em và người yêu của em có quan hệ. Nhưng chỉ 1 lần rồi 4 ngày sau em mới mua thuốc tránh thai khẩn cấp uống. Nhưng sau hôm quan hệ đó thì ngày nào em cũng uống rượu. Liệu rằng em có thụ thai không ạ. Em lo quá. Lúc quan hệ thì em hết kinh được 10 ngày ạ. Mong bác sĩ trả lời giúp. Xin cảm ơn. em nghe được thông tin uống thuốc tránh thai tháng không quá 2 viên, 1 năm không quá 3 viên đúng không ạ, uống 4 viên 1 năm thì ảnh hưởng ra sao? Có thể cho em xin tài liệu tham khảo không! Cảm ơn bác sĩ. Tối trước 2 vợ chồng em quan hệ không an toàn. Sáng sớm đã uống thuốc. Thưa ông xã không kìm chế được do mới đi xa về. Vậy có cần uống thêm thuốc không ạ ( e uống loại 1 viên ). Mong bác sĩ tư vấn. Dạ. Dùng thuốc tránh thai 120h thì sau khi dùng vẫn trong khoảng thời gian của thuốc mình vẫn quan hệ thì có phải uống thêm thuốc không ạ. Sau mỗi ngày quan hệ em. This instance will be ignored in loss calculation. Note, if this happens often, consider increasing the `max_length`.\n",
      "  warnings.warn(\n",
      "c:\\Users\\Admin\\miniconda3\\envs\\tf-gpu\\lib\\site-packages\\trl\\trainer\\utils.py:145: UserWarning: Could not find response key `### Response:\n",
      "` in the following instance: ### Instruction:\n",
      "Hãy trả lời câu hỏi với mô tả sau.\n",
      "\n",
      "### Input:\n",
      "Cho em hỏi, em quan hệ xong uống thuốc tránh thai khẩn cấp, rồi lại quan hệ tiếp nữa mà lần sau tụi em dùng đồ tránh vậy có thai không ạ? Nguyễn Minh Thư (1987) nếu như hôm trước sau khi quan hệ có xuất tinh trong âm đạo em đã uống thuốc tránh thai khẩn cấp, hôm nay cũng quan hệ và xuất tinh trong nhưng không uống thuốc nữa thì thuốc hôm qua còn tác dụng không ạ? Có bao nhiêu phần trăm dính bầu ạ? Mong bác sĩ tư vấn, em xin cảm ơn. Thưa bác sĩ, khoảng 2 ngày trước em có quan hệ và sử dụng thuốc tránh thai khẩn cấp 120h (đây là lần đầu tiên uống thuốc) và khoảng 2 ngày sau có quan hệ lại thì có phải uống thuốc nữa không ( trong lúc quan hệ không dùng biện pháp an toàn nhưng có cho ra ngoài ). Cảm ơn bác sĩ. em quan hệ không dùng bao nhưng đã uống thuốc tránh thai 48h. Không xuất trong. Và hôm sau em quan hệ không bao không xuất trong như thế thì cần uống thêm thuốc không ạ. Mong bác sĩ trả lời giúp em. Cho em hỏi em hết kinh được 14 ngày rồi quan hệ không an toàn với chồng, em đã dùng thuốc tránh thai khẩn cấp 1 lần nhưng em lại quan hệ với chồng vào vài ngày sau. Như vậy em có tránh thai được không? Có cần uống thuốc tránh thai khẩn cấp nữa không? Cảm ơn bác sĩ. Tiếp tục quan hệ sau khi uống thuốc tránh thai có thai không bác sĩ. Mong bác sĩ tư vấn giúp ạ. Cảm ơn bác sĩ. Dạ Em có thắc mắc muốn hỏi ạ. Nếu như hôm qua em quan hệ buổi trưa, tối về khoảng 10h em uống 1 viên khẩn cấp 72 giờ. Rồi tối hôm nay em quan hệ không có biện pháp tránh thai an toàn thì viên thuốc em uống tối hôm trước có còn tác dụng ngừa thai hay không ạ? Bây giờ em có cần phải uống thêm 1 viên nữa hay không ạ. bác sĩ. Em vừa uống tránh thai hôm qua hôm nay có quan hệ bắn vào trong thì có nên uống thuốc lại không? Mong bác sĩ tư vấn giúp em ạ. vợ chồng em vừa quan hệ xong, em uống thuốc tránh thai khẩn cấp ngay sau đó 15 phút. Vậy 1 hoặc 2 ngày sau bọn em lại quan hệ không dùng biện pháp bảo vệ thì có khả năng mang thai không ạ? là em uống thuốc tránh thai khẩn cấp sau quan hệ, 9 tiếng sau em lại quan hệ tiếp thì có sao không ạ. Cảm ơn bác sĩ. Bác sĩ ơi người yêu của cháu uống thuốc tránh thai trước khi quan hệ 2 ngày thì thuốc có còn tác dục không ạ, bạn gái cháu dùng loại thuốc tránh thai khẩn cấp. ạ! Cho em hỏi là cách đây 1 ngày em và bạn trai có quan hệ mà không sử dụng biện pháp phòng bị nào. Sau khi quan hệ em đã uống thuốc tránh thai khẩn cấp trong vòng 24h. Và hôm nay em và bạn trai lại quan hệ cũng không sử dụng biện pháp phòng bị nào. Thì cho em hỏi là bây giờ uống thuốc tránh thai tiếp có được không ạ? Mong bác sĩ tư vấn. Em uống thuốc tránh thai khẩn cấp từ lúc 7h tối thì lúc nào mới hết hiệu lực ạ? Mong bác sĩ tư vấn. Xin cảm ơn. Lê Thị Kim Thanh (1999) Cho em hỏi sau khi dùng thuốc ngừa thai sau 3 tiếng em lại quan hệ với bạn nữ em lỡ xuất tiếp vào trong thì có bị dính bầu không ạ? Mong bác sĩ tư vấn. Xin cảm ơn. Sau khi quan hệ không biện pháp bảo vệ em có dùng thuốc 120h và có quan hệ thêm một lần nữa nhưng khi xuất tinh thì có mang thai không ạ có cần uống thêm viên nữa không ạ? Mong bác sĩ tư vấn. Xin cảm ơn. Em có dùng thuốc 72h nhưng đến giờ thứ 48 em mới quan hệ thì có dính thai hay không, nếu dính thai em phải sao, em không muốn sinh con. Mong bác sĩ tư vấn. Xin cảm ơn. Hai hôm liên tục quan hệ hôm trước có uống thuốc tránh thai khẩn cấp. Nhưng hôm sau không uống có thể có thai không ạ? Mong bác sĩ tư vấn. Xin cảm ơn. Uống thuốc tránh thai 24h xong quan hệ tiếp chưa hết 24h có phải uống tiếp không ạ bác sĩ? Mong bác sĩ tư vấn. Xin cảm ơn. em và bạn trai có quan hệ không an toàn, sau đó em có uống thuốc tránh thai khẩn cấp, sau 12 nếu có quan hệ nữa thì có thai không ạ? Mong bác sĩ tư vấn. Xin cảm ơn. Sau 2 ngày em quan hệ. Mới uống thuốc tránh thai khẩn cấp. Tối lại quan hệ tiếp thì liệu có cần phải uống thêm thuốc tránh thai nữa không ạ? Mong bác sĩ tư vấn. Xin cảm ơn Phạm Thủy (2000) Bác sĩ ơi cháu và bạn trai quan hệ ba ngày liên tục cháu uống thuốc tránh thai khẩn cấp ngày thứ nhất. This instance will be ignored in loss calculation. Note, if this happens often, consider increasing the `max_length`.\n",
      "  warnings.warn(\n",
      "c:\\Users\\Admin\\miniconda3\\envs\\tf-gpu\\lib\\site-packages\\trl\\trainer\\utils.py:145: UserWarning: Could not find response key `### Response:\n",
      "` in the following instance: ### Instruction:\n",
      "Hãy trả lời câu hỏi với mô tả sau.\n",
      "\n",
      "### Input:\n",
      "Em năm nay 23t. Cao 1m67 nặng 47kg. Tuy ốm nhưng ít khi bệnh vặt và cũng khỏe.. Vào khoảng tháng 3 em có dùng chất kích thích nhiều khi đi chơi bar cùng bạn bè. Cụ thể 15 ngày liên tiếp, các chất em dùng là thuốc lắc dạng viên nén, ketamin dạng bột hít bằng mủi. sau đó khi đi đường đột nhiên em bị khó thở và tim đập nhanh và người cảm giác như muốn gục xuống. Nhưng em vẫn đủ bình tỉnh để dắt xe vao lê đường và băt taxi đi bênh viện. sau khi nhâp viện các bác sĩ siêu âm và sét nhiệm tất cả thì em không bị gì cả. Và điều trị băng phương pháp truyền đạm và điện giải khoảng 15 đến 20 ngày, trong khoang thơi gian này vào ban ngày em rất tỉnh táo, nhưng vao buôi tối em bị khó thở cảm giác thở nhưng không đủ oxy ngợp thở nên phải thở bằng bình oxy, rất dể cáu gắt với người thân. Sau khi xuất viện vẫn còn tình trạng trên nhưng em nổ lực thể dục thì cũng hết dần. Một thời gian sau khoang thang 5 em đang đi ăn cùng bạn bè rất bình thường đột nhiên chân tay em lạnh buốt, người cảm giác run rẩy, tim đập nhanh, sợ hải,. Cứ như vậy nhập viện thêm 3 4 lần nửa, nhưng khi lên đến bệnh viện thì lại hết. Tháng 6 em đi tp hcm set nghiệm tổng quát, trước khi đi người rất binh thường, khi lên tàu năm đến 1h thì bổng dưng nghĩ vu vơ, sợ hải mình bị gì đó, tim đap nhanh, chân tay lạnh, phải dừng tau lại nhâp viện bv long khánh. Sau đó nhập viện đai học y dược tp hcm. Sau khi nhâp viên dh y dược 1 tuần, set nghiệm điện não, tim, v.v em hoan toan binh thường. Các bác sĩ kêt luân em bị rối loạn hoãng loạn, và cho thuốc về uống gồm các thuốc an thần và thuốc ngủ. Nhưng càng uống em cảm thấy càng mẹt.mỏi, ủe oải hơn trước kia. Em quyêt đinh ngưng không dung thuôc nưa thì lai binh thuong Sau đó em đi bệnh viện tâm thần tp hcm. Các bác sĩ trac nhiêm tâm.ly v.v thi kêt luân em bị rối loạn loạn thần, nên kê đơn thuốc gồm sullivan và milgamma mono. Em uông 2 loai thuốc này thi cam thấy mình khỏe hơn, ít lo âu suy nghĩ vu vơ hơn và trở lai vơi con ngươi cua mình như. This instance will be ignored in loss calculation. Note, if this happens often, consider increasing the `max_length`.\n",
      "  warnings.warn(\n",
      "c:\\Users\\Admin\\miniconda3\\envs\\tf-gpu\\lib\\site-packages\\trl\\trainer\\utils.py:145: UserWarning: Could not find response key `### Response:\n",
      "` in the following instance: ### Instruction:\n",
      "Hãy trả lời câu hỏi với mô tả sau.\n",
      "\n",
      "### Input:\n",
      "Cho em hỏi, em quan hệ xong uống thuốc tránh thai khẩn cấp, rồi lại quan hệ tiếp nữa mà lần sau tụi em dùng đồ tránh vậy có thai không ạ? Nguyễn Minh Thư (1987) nếu như hôm trước sau khi quan hệ có xuất tinh trong âm đạo em đã uống thuốc tránh thai khẩn cấp, hôm nay cũng quan hệ và xuất tinh trong nhưng không uống thuốc nữa thì thuốc hôm qua còn tác dụng không ạ? Có bao nhiêu phần trăm dính bầu ạ? Mong bác sĩ tư vấn, em xin cảm ơn. Thưa bác sĩ, khoảng 2 ngày trước em có quan hệ và sử dụng thuốc tránh thai khẩn cấp 120h (đây là lần đầu tiên uống thuốc) và khoảng 2 ngày sau có quan hệ lại thì có phải uống thuốc nữa không ( trong lúc quan hệ không dùng biện pháp an toàn nhưng có cho ra ngoài ). Cảm ơn bác sĩ. em quan hệ không dùng bao nhưng đã uống thuốc tránh thai 48h. Không xuất trong. Và hôm sau em quan hệ không bao không xuất trong như thế thì cần uống thêm thuốc không ạ. Mong bác sĩ trả lời giúp em. Cho em hỏi em hết kinh được 14 ngày rồi quan hệ không an toàn với chồng, em đã dùng thuốc tránh thai khẩn cấp 1 lần nhưng em lại quan hệ với chồng vào vài ngày sau. Như vậy em có tránh thai được không? Có cần uống thuốc tránh thai khẩn cấp nữa không? Cảm ơn bác sĩ. Tiếp tục quan hệ sau khi uống thuốc tránh thai có thai không bác sĩ. Mong bác sĩ tư vấn giúp ạ. Cảm ơn bác sĩ. Dạ Em có thắc mắc muốn hỏi ạ. Nếu như hôm qua em quan hệ buổi trưa, tối về khoảng 10h em uống 1 viên khẩn cấp 72 giờ. Rồi tối hôm nay em quan hệ không có biện pháp tránh thai an toàn thì viên thuốc em uống tối hôm trước có còn tác dụng ngừa thai hay không ạ? Bây giờ em có cần phải uống thêm 1 viên nữa hay không ạ. bác sĩ. Em vừa uống tránh thai hôm qua hôm nay có quan hệ bắn vào trong thì có nên uống thuốc lại không? Mong bác sĩ tư vấn giúp em ạ. vợ chồng em vừa quan hệ xong, em uống thuốc tránh thai khẩn cấp ngay sau đó 15 phút. Vậy 1 hoặc 2 ngày sau bọn em lại quan hệ không dùng biện pháp bảo vệ thì có khả năng mang thai không ạ? là em uống thuốc tránh thai khẩn cấp sau quan hệ, 9 tiếng sau em lại quan hệ tiếp thì có sao không ạ. Cảm ơn bác sĩ. Bác sĩ ơi người yêu của cháu uống thuốc tránh thai trước khi quan hệ 2 ngày thì thuốc có còn tác dục không ạ, bạn gái cháu dùng loại thuốc tránh thai khẩn cấp. ạ! Cho em hỏi là cách đây 1 ngày em và bạn trai có quan hệ mà không sử dụng biện pháp phòng bị nào. Sau khi quan hệ em đã uống thuốc tránh thai khẩn cấp trong vòng 24h. Và hôm nay em và bạn trai lại quan hệ cũng không sử dụng biện pháp phòng bị nào. Thì cho em hỏi là bây giờ uống thuốc tránh thai tiếp có được không ạ? Mong bác sĩ tư vấn. Em uống thuốc tránh thai khẩn cấp từ lúc 7h tối thì lúc nào mới hết hiệu lực ạ? Mong bác sĩ tư vấn. Xin cảm ơn. Lê Thị Kim Thanh (1999) Cho em hỏi sau khi dùng thuốc ngừa thai sau 3 tiếng em lại quan hệ với bạn nữ em lỡ xuất tiếp vào trong thì có bị dính bầu không ạ? Mong bác sĩ tư vấn. Xin cảm ơn. Sau khi quan hệ không biện pháp bảo vệ em có dùng thuốc 120h và có quan hệ thêm một lần nữa nhưng khi xuất tinh thì có mang thai không ạ có cần uống thêm viên nữa không ạ? Mong bác sĩ tư vấn. Xin cảm ơn. Em có dùng thuốc 72h nhưng đến giờ thứ 48 em mới quan hệ thì có dính thai hay không, nếu dính thai em phải sao, em không muốn sinh con. Mong bác sĩ tư vấn. Xin cảm ơn. Hai hôm liên tục quan hệ hôm trước có uống thuốc tránh thai khẩn cấp. Nhưng hôm sau không uống có thể có thai không ạ? Mong bác sĩ tư vấn. Xin cảm ơn. Uống thuốc tránh thai 24h xong quan hệ tiếp chưa hết 24h có phải uống tiếp không ạ bác sĩ? Mong bác sĩ tư vấn. Xin cảm ơn. em và bạn trai có quan hệ không an toàn, sau đó em có uống thuốc tránh thai khẩn cấp, sau 12 nếu có quan hệ nữa thì có thai không ạ? Mong bác sĩ tư vấn. Xin cảm ơn. Sau 2 ngày em quan hệ. Mới uống thuốc tránh thai khẩn cấp. Tối lại quan hệ tiếp thì liệu có cần phải uống thêm thuốc tránh thai nữa không ạ? Mong bác sĩ tư vấn. Xin cảm ơn Phạm Thủy (2000) Bác sĩ ơi cháu và bạn trai quan hệ ba ngày liên tục cháu uống thuốc tránh thai khẩn cấp ngày thứ nhất. This instance will be ignored in loss calculation. Note, if this happens often, consider increasing the `max_length`.\n",
      "  warnings.warn(\n",
      "c:\\Users\\Admin\\miniconda3\\envs\\tf-gpu\\lib\\site-packages\\trl\\trainer\\utils.py:145: UserWarning: Could not find response key `### Response:\n",
      "` in the following instance: ### Instruction:\n",
      "Hãy trả lời câu hỏi với mô tả sau.\n",
      "\n",
      "### Input:\n",
      "Em năm nay 23t. Cao 1m67 nặng 47kg. Tuy ốm nhưng ít khi bệnh vặt và cũng khỏe.. Vào khoảng tháng 3 em có dùng chất kích thích nhiều khi đi chơi bar cùng bạn bè. Cụ thể 15 ngày liên tiếp, các chất em dùng là thuốc lắc dạng viên nén, ketamin dạng bột hít bằng mủi. sau đó khi đi đường đột nhiên em bị khó thở và tim đập nhanh và người cảm giác như muốn gục xuống. Nhưng em vẫn đủ bình tỉnh để dắt xe vao lê đường và băt taxi đi bênh viện. sau khi nhâp viện các bác sĩ siêu âm và sét nhiệm tất cả thì em không bị gì cả. Và điều trị băng phương pháp truyền đạm và điện giải khoảng 15 đến 20 ngày, trong khoang thơi gian này vào ban ngày em rất tỉnh táo, nhưng vao buôi tối em bị khó thở cảm giác thở nhưng không đủ oxy ngợp thở nên phải thở bằng bình oxy, rất dể cáu gắt với người thân. Sau khi xuất viện vẫn còn tình trạng trên nhưng em nổ lực thể dục thì cũng hết dần. Một thời gian sau khoang thang 5 em đang đi ăn cùng bạn bè rất bình thường đột nhiên chân tay em lạnh buốt, người cảm giác run rẩy, tim đập nhanh, sợ hải,. Cứ như vậy nhập viện thêm 3 4 lần nửa, nhưng khi lên đến bệnh viện thì lại hết. Tháng 6 em đi tp hcm set nghiệm tổng quát, trước khi đi người rất binh thường, khi lên tàu năm đến 1h thì bổng dưng nghĩ vu vơ, sợ hải mình bị gì đó, tim đap nhanh, chân tay lạnh, phải dừng tau lại nhâp viện bv long khánh. Sau đó nhập viện đai học y dược tp hcm. Sau khi nhâp viên dh y dược 1 tuần, set nghiệm điện não, tim, v.v em hoan toan binh thường. Các bác sĩ kêt luân em bị rối loạn hoãng loạn, và cho thuốc về uống gồm các thuốc an thần và thuốc ngủ. Nhưng càng uống em cảm thấy càng mẹt.mỏi, ủe oải hơn trước kia. Em quyêt đinh ngưng không dung thuôc nưa thì lai binh thuong Sau đó em đi bệnh viện tâm thần tp hcm. Các bác sĩ trac nhiêm tâm.ly v.v thi kêt luân em bị rối loạn loạn thần, nên kê đơn thuốc gồm sullivan và milgamma mono. Em uông 2 loai thuốc này thi cam thấy mình khỏe hơn, ít lo âu suy nghĩ vu vơ hơn và trở lai vơi con ngươi cua mình như. This instance will be ignored in loss calculation. Note, if this happens often, consider increasing the `max_length`.\n",
      "  warnings.warn(\n",
      "c:\\Users\\Admin\\miniconda3\\envs\\tf-gpu\\lib\\site-packages\\trl\\trainer\\utils.py:145: UserWarning: Could not find response key `### Response:\n",
      "` in the following instance: ### Instruction:\n",
      "Hãy trả lời câu hỏi với mô tả sau.\n",
      "\n",
      "### Input:\n",
      "Cho em hỏi sau khi quan hệ không bảo vệ em đã dùng thuốc tránh thai, nhưng thời gian cũng không lâu trong ngày hôm đó, em lại quan hệ không bảo vệ lần nữa, vậy thuốc tránh thai ban đầu em dùng có tác dụng với lần sau không ạ? Thanh Thúy (1996) tôi muốn hỏi sau 10 ngày quan hệ còn có thể uống thuốc tránh thai được không ạ? Mong bác sĩ tư vấn giúp tôi, cảm ơn bác sĩ. Cho em hỏi là em quan hệ tới giờ đã 5 ngày. Có loại thuốc tránh thai nào dùng được cho trường hợp của em nữa không ạ, em chưa muốn có con giờ. Cảm ơn bác sĩ Em có uống thuốc tránh thai 72h vào ngày 4/3 nhưng đến ngày 5/3 em quan hệ mà không dùng biện pháp tránh thai thì khả năng có thai cao không ạ. Cảm ơn bác sĩ! Em uống thuốc tránh thai khẩn cấp loại 72h và quan hệ không an toàn sau đó 1 ngày thì có dễ mang thai không ạ. Cảm ơn bác sĩ. Lần đầu quan hệ cháu làm rách bao cao su nên đã uống thuốc tránh thai khẩn cấp. Ngày hôm sau vẫn bị trường hợp như vậy nhưng cháu không dùng thuốc tránh thai nữa thì liệu có khả năng mang thai không ạ? Cảm ơn bác sĩ. Cho tôi hỏi ạ: hôm nay tôi có quan hệ xong có uống thuốc tránh thai cấp tốc, rồi ngày mai tôi vẫn quan hệ. Cho tôi hỏi có thể dính bầu không ạ. Ngày đầu tiên quan hệ trúng ngày rụng trứng luôn ạ. Cảm ơn bác sĩ. Vợ mình dùng thuốc tránh thai khẩn cấp 2 ngày trước ngày thứ 3 mình quan hệ không dùng bao cao su thì có khả năng mang thai không ạ? Cảm ơn bác sĩ. Em và bạn trai quan hệ với nhau 1 tuần em có uống thuốc tránh thai 1 lần. Em đã uống 5 lần, mà đã đến kỳ kinh nguyệt vẫn chưa có kinh nguyệt thì cho em hỏi như vậy có sao không vậy? Cảm ơn bác sĩ. cho em hỏi em có uống thuốc tránh thai 72 giờ, sau hai ngày em quan hệ tiếp em không dùng biện pháp gì bảo vệ vậy thuốc còn có tác dụng không ạ. bác sĩ. Dương Thị Thảo (1990) Sau khi uống thuốc ngừa thai cấp tốc 24h thì trong 24h vừa uống xong, em có thể quan hệ mà không cần biện pháp phòng tránh không ạ? Cảm ơn bác sĩ. Con muốn bác tư vấn cho cháu với. Sau 3 ngày quan hệ con đã dùng viên tránh thai khẩn cấp nhưng sau đêm thứ 3 đó chồng con lại xịt vào trong liệu có dính không ạ? Con cảm ơn ạ. Em uống thuốc tránh thai 72 giờ sau khi quan hệ đến ngày thứ 3 lại quan hệ tiếp không bảo vệ nhưng khi quan hệ lại vào lúc thuốc hết tác dụng 72 giờ tức là qua 72 giờ tầm 1 tiếng thì liệu có thai không ạ? Mong bác sĩ tư vấn giúp em ạ. Cảm ơn bác sĩ. Em quan hệ với bạn em uống thuốc tránh thai khẩn cấp sau quan hệ lần 1. Lần 2 em uống thêm 1 lần nữa cách lần 1, 8 tiếng liệu thuốc có tác dụng không ạ. Tụi em không dùng bao, bạn em xuất ra ngoài! Mong bác sĩ tư vấn giúp em với ạ. Sau khi quan hệ lần đầu, em uống thuốc tránh thai khẩn cấp, nhưng sau đó 1 tuần em lại quan hệ không dùng biện pháp gì cả, sau 1 tuần liệu thuốc còn tác dụng nữa không ạ bác sĩ. Mong bác sĩ tư vấn giúp em. Dạ là khi nào thì dùng thuốc tránh thai khẩn cấp và dùng luôn hay sau bao nhiêu giờ ạ? Mong bác sĩ tư vấn giúp em ạ. Nguyễn Văn Hùng (1998) Uống 2 viên thuốc tránh thai 1 tháng có làm sao không ạ. Mong bác sĩ giải đáp giúp em. Cảm ơn bác sĩ tư vấn. Hôm đó em uống rượu say. Em và người yêu của em có quan hệ. Nhưng chỉ 1 lần rồi 4 ngày sau em mới mua thuốc tránh thai khẩn cấp uống. Nhưng sau hôm quan hệ đó thì ngày nào em cũng uống rượu. Liệu rằng em có thụ thai không ạ. Em lo quá. Lúc quan hệ thì em hết kinh được 10 ngày ạ. Mong bác sĩ trả lời giúp. Xin cảm ơn. em nghe được thông tin uống thuốc tránh thai tháng không quá 2 viên, 1 năm không quá 3 viên đúng không ạ, uống 4 viên 1 năm thì ảnh hưởng ra sao? Có thể cho em xin tài liệu tham khảo không! Cảm ơn bác sĩ. Tối trước 2 vợ chồng em quan hệ không an toàn. Sáng sớm đã uống thuốc. Thưa ông xã không kìm chế được do mới đi xa về. Vậy có cần uống thêm thuốc không ạ ( e uống loại 1 viên ). Mong bác sĩ tư vấn. Dạ. Dùng thuốc tránh thai 120h thì sau khi dùng vẫn trong khoảng thời gian của thuốc mình vẫn quan hệ thì có phải uống thêm thuốc không ạ. Sau mỗi ngày quan hệ em. This instance will be ignored in loss calculation. Note, if this happens often, consider increasing the `max_length`.\n",
      "  warnings.warn(\n",
      "c:\\Users\\Admin\\miniconda3\\envs\\tf-gpu\\lib\\site-packages\\trl\\trainer\\utils.py:145: UserWarning: Could not find response key `### Response:\n",
      "` in the following instance: ### Instruction:\n",
      "Hãy trả lời câu hỏi với mô tả sau.\n",
      "\n",
      "### Input:\n",
      "Cho em hỏi sau khi quan hệ không bảo vệ em đã dùng thuốc tránh thai, nhưng thời gian cũng không lâu trong ngày hôm đó, em lại quan hệ không bảo vệ lần nữa, vậy thuốc tránh thai ban đầu em dùng có tác dụng với lần sau không ạ? Thanh Thúy (1996) tôi muốn hỏi sau 10 ngày quan hệ còn có thể uống thuốc tránh thai được không ạ? Mong bác sĩ tư vấn giúp tôi, cảm ơn bác sĩ. Cho em hỏi là em quan hệ tới giờ đã 5 ngày. Có loại thuốc tránh thai nào dùng được cho trường hợp của em nữa không ạ, em chưa muốn có con giờ. Cảm ơn bác sĩ Em có uống thuốc tránh thai 72h vào ngày 4/3 nhưng đến ngày 5/3 em quan hệ mà không dùng biện pháp tránh thai thì khả năng có thai cao không ạ. Cảm ơn bác sĩ! Em uống thuốc tránh thai khẩn cấp loại 72h và quan hệ không an toàn sau đó 1 ngày thì có dễ mang thai không ạ. Cảm ơn bác sĩ. Lần đầu quan hệ cháu làm rách bao cao su nên đã uống thuốc tránh thai khẩn cấp. Ngày hôm sau vẫn bị trường hợp như vậy nhưng cháu không dùng thuốc tránh thai nữa thì liệu có khả năng mang thai không ạ? Cảm ơn bác sĩ. Cho tôi hỏi ạ: hôm nay tôi có quan hệ xong có uống thuốc tránh thai cấp tốc, rồi ngày mai tôi vẫn quan hệ. Cho tôi hỏi có thể dính bầu không ạ. Ngày đầu tiên quan hệ trúng ngày rụng trứng luôn ạ. Cảm ơn bác sĩ. Vợ mình dùng thuốc tránh thai khẩn cấp 2 ngày trước ngày thứ 3 mình quan hệ không dùng bao cao su thì có khả năng mang thai không ạ? Cảm ơn bác sĩ. Em và bạn trai quan hệ với nhau 1 tuần em có uống thuốc tránh thai 1 lần. Em đã uống 5 lần, mà đã đến kỳ kinh nguyệt vẫn chưa có kinh nguyệt thì cho em hỏi như vậy có sao không vậy? Cảm ơn bác sĩ. cho em hỏi em có uống thuốc tránh thai 72 giờ, sau hai ngày em quan hệ tiếp em không dùng biện pháp gì bảo vệ vậy thuốc còn có tác dụng không ạ. bác sĩ. Dương Thị Thảo (1990) Sau khi uống thuốc ngừa thai cấp tốc 24h thì trong 24h vừa uống xong, em có thể quan hệ mà không cần biện pháp phòng tránh không ạ? Cảm ơn bác sĩ. Con muốn bác tư vấn cho cháu với. Sau 3 ngày quan hệ con đã dùng viên tránh thai khẩn cấp nhưng sau đêm thứ 3 đó chồng con lại xịt vào trong liệu có dính không ạ? Con cảm ơn ạ. Em uống thuốc tránh thai 72 giờ sau khi quan hệ đến ngày thứ 3 lại quan hệ tiếp không bảo vệ nhưng khi quan hệ lại vào lúc thuốc hết tác dụng 72 giờ tức là qua 72 giờ tầm 1 tiếng thì liệu có thai không ạ? Mong bác sĩ tư vấn giúp em ạ. Cảm ơn bác sĩ. Em quan hệ với bạn em uống thuốc tránh thai khẩn cấp sau quan hệ lần 1. Lần 2 em uống thêm 1 lần nữa cách lần 1, 8 tiếng liệu thuốc có tác dụng không ạ. Tụi em không dùng bao, bạn em xuất ra ngoài! Mong bác sĩ tư vấn giúp em với ạ. Sau khi quan hệ lần đầu, em uống thuốc tránh thai khẩn cấp, nhưng sau đó 1 tuần em lại quan hệ không dùng biện pháp gì cả, sau 1 tuần liệu thuốc còn tác dụng nữa không ạ bác sĩ. Mong bác sĩ tư vấn giúp em. Dạ là khi nào thì dùng thuốc tránh thai khẩn cấp và dùng luôn hay sau bao nhiêu giờ ạ? Mong bác sĩ tư vấn giúp em ạ. Nguyễn Văn Hùng (1998) Uống 2 viên thuốc tránh thai 1 tháng có làm sao không ạ. Mong bác sĩ giải đáp giúp em. Cảm ơn bác sĩ tư vấn. Hôm đó em uống rượu say. Em và người yêu của em có quan hệ. Nhưng chỉ 1 lần rồi 4 ngày sau em mới mua thuốc tránh thai khẩn cấp uống. Nhưng sau hôm quan hệ đó thì ngày nào em cũng uống rượu. Liệu rằng em có thụ thai không ạ. Em lo quá. Lúc quan hệ thì em hết kinh được 10 ngày ạ. Mong bác sĩ trả lời giúp. Xin cảm ơn. em nghe được thông tin uống thuốc tránh thai tháng không quá 2 viên, 1 năm không quá 3 viên đúng không ạ, uống 4 viên 1 năm thì ảnh hưởng ra sao? Có thể cho em xin tài liệu tham khảo không! Cảm ơn bác sĩ. Tối trước 2 vợ chồng em quan hệ không an toàn. Sáng sớm đã uống thuốc. Thưa ông xã không kìm chế được do mới đi xa về. Vậy có cần uống thêm thuốc không ạ ( e uống loại 1 viên ). Mong bác sĩ tư vấn. Dạ. Dùng thuốc tránh thai 120h thì sau khi dùng vẫn trong khoảng thời gian của thuốc mình vẫn quan hệ thì có phải uống thêm thuốc không ạ. Sau mỗi ngày quan hệ em. This instance will be ignored in loss calculation. Note, if this happens often, consider increasing the `max_length`.\n",
      "  warnings.warn(\n",
      "c:\\Users\\Admin\\miniconda3\\envs\\tf-gpu\\lib\\site-packages\\trl\\trainer\\utils.py:145: UserWarning: Could not find response key `### Response:\n",
      "` in the following instance: ### Instruction:\n",
      "Hãy trả lời câu hỏi với mô tả sau.\n",
      "\n",
      "### Input:\n",
      "Cho em hỏi, em quan hệ xong uống thuốc tránh thai khẩn cấp, rồi lại quan hệ tiếp nữa mà lần sau tụi em dùng đồ tránh vậy có thai không ạ? Nguyễn Minh Thư (1987) nếu như hôm trước sau khi quan hệ có xuất tinh trong âm đạo em đã uống thuốc tránh thai khẩn cấp, hôm nay cũng quan hệ và xuất tinh trong nhưng không uống thuốc nữa thì thuốc hôm qua còn tác dụng không ạ? Có bao nhiêu phần trăm dính bầu ạ? Mong bác sĩ tư vấn, em xin cảm ơn. Thưa bác sĩ, khoảng 2 ngày trước em có quan hệ và sử dụng thuốc tránh thai khẩn cấp 120h (đây là lần đầu tiên uống thuốc) và khoảng 2 ngày sau có quan hệ lại thì có phải uống thuốc nữa không ( trong lúc quan hệ không dùng biện pháp an toàn nhưng có cho ra ngoài ). Cảm ơn bác sĩ. em quan hệ không dùng bao nhưng đã uống thuốc tránh thai 48h. Không xuất trong. Và hôm sau em quan hệ không bao không xuất trong như thế thì cần uống thêm thuốc không ạ. Mong bác sĩ trả lời giúp em. Cho em hỏi em hết kinh được 14 ngày rồi quan hệ không an toàn với chồng, em đã dùng thuốc tránh thai khẩn cấp 1 lần nhưng em lại quan hệ với chồng vào vài ngày sau. Như vậy em có tránh thai được không? Có cần uống thuốc tránh thai khẩn cấp nữa không? Cảm ơn bác sĩ. Tiếp tục quan hệ sau khi uống thuốc tránh thai có thai không bác sĩ. Mong bác sĩ tư vấn giúp ạ. Cảm ơn bác sĩ. Dạ Em có thắc mắc muốn hỏi ạ. Nếu như hôm qua em quan hệ buổi trưa, tối về khoảng 10h em uống 1 viên khẩn cấp 72 giờ. Rồi tối hôm nay em quan hệ không có biện pháp tránh thai an toàn thì viên thuốc em uống tối hôm trước có còn tác dụng ngừa thai hay không ạ? Bây giờ em có cần phải uống thêm 1 viên nữa hay không ạ. bác sĩ. Em vừa uống tránh thai hôm qua hôm nay có quan hệ bắn vào trong thì có nên uống thuốc lại không? Mong bác sĩ tư vấn giúp em ạ. vợ chồng em vừa quan hệ xong, em uống thuốc tránh thai khẩn cấp ngay sau đó 15 phút. Vậy 1 hoặc 2 ngày sau bọn em lại quan hệ không dùng biện pháp bảo vệ thì có khả năng mang thai không ạ? là em uống thuốc tránh thai khẩn cấp sau quan hệ, 9 tiếng sau em lại quan hệ tiếp thì có sao không ạ. Cảm ơn bác sĩ. Bác sĩ ơi người yêu của cháu uống thuốc tránh thai trước khi quan hệ 2 ngày thì thuốc có còn tác dục không ạ, bạn gái cháu dùng loại thuốc tránh thai khẩn cấp. ạ! Cho em hỏi là cách đây 1 ngày em và bạn trai có quan hệ mà không sử dụng biện pháp phòng bị nào. Sau khi quan hệ em đã uống thuốc tránh thai khẩn cấp trong vòng 24h. Và hôm nay em và bạn trai lại quan hệ cũng không sử dụng biện pháp phòng bị nào. Thì cho em hỏi là bây giờ uống thuốc tránh thai tiếp có được không ạ? Mong bác sĩ tư vấn. Em uống thuốc tránh thai khẩn cấp từ lúc 7h tối thì lúc nào mới hết hiệu lực ạ? Mong bác sĩ tư vấn. Xin cảm ơn. Lê Thị Kim Thanh (1999) Cho em hỏi sau khi dùng thuốc ngừa thai sau 3 tiếng em lại quan hệ với bạn nữ em lỡ xuất tiếp vào trong thì có bị dính bầu không ạ? Mong bác sĩ tư vấn. Xin cảm ơn. Sau khi quan hệ không biện pháp bảo vệ em có dùng thuốc 120h và có quan hệ thêm một lần nữa nhưng khi xuất tinh thì có mang thai không ạ có cần uống thêm viên nữa không ạ? Mong bác sĩ tư vấn. Xin cảm ơn. Em có dùng thuốc 72h nhưng đến giờ thứ 48 em mới quan hệ thì có dính thai hay không, nếu dính thai em phải sao, em không muốn sinh con. Mong bác sĩ tư vấn. Xin cảm ơn. Hai hôm liên tục quan hệ hôm trước có uống thuốc tránh thai khẩn cấp. Nhưng hôm sau không uống có thể có thai không ạ? Mong bác sĩ tư vấn. Xin cảm ơn. Uống thuốc tránh thai 24h xong quan hệ tiếp chưa hết 24h có phải uống tiếp không ạ bác sĩ? Mong bác sĩ tư vấn. Xin cảm ơn. em và bạn trai có quan hệ không an toàn, sau đó em có uống thuốc tránh thai khẩn cấp, sau 12 nếu có quan hệ nữa thì có thai không ạ? Mong bác sĩ tư vấn. Xin cảm ơn. Sau 2 ngày em quan hệ. Mới uống thuốc tránh thai khẩn cấp. Tối lại quan hệ tiếp thì liệu có cần phải uống thêm thuốc tránh thai nữa không ạ? Mong bác sĩ tư vấn. Xin cảm ơn Phạm Thủy (2000) Bác sĩ ơi cháu và bạn trai quan hệ ba ngày liên tục cháu uống thuốc tránh thai khẩn cấp ngày thứ nhất. This instance will be ignored in loss calculation. Note, if this happens often, consider increasing the `max_length`.\n",
      "  warnings.warn(\n",
      "c:\\Users\\Admin\\miniconda3\\envs\\tf-gpu\\lib\\site-packages\\trl\\trainer\\utils.py:145: UserWarning: Could not find response key `### Response:\n",
      "` in the following instance: ### Instruction:\n",
      "Hãy trả lời câu hỏi với mô tả sau.\n",
      "\n",
      "### Input:\n",
      "Em năm nay 23t. Cao 1m67 nặng 47kg. Tuy ốm nhưng ít khi bệnh vặt và cũng khỏe.. Vào khoảng tháng 3 em có dùng chất kích thích nhiều khi đi chơi bar cùng bạn bè. Cụ thể 15 ngày liên tiếp, các chất em dùng là thuốc lắc dạng viên nén, ketamin dạng bột hít bằng mủi. sau đó khi đi đường đột nhiên em bị khó thở và tim đập nhanh và người cảm giác như muốn gục xuống. Nhưng em vẫn đủ bình tỉnh để dắt xe vao lê đường và băt taxi đi bênh viện. sau khi nhâp viện các bác sĩ siêu âm và sét nhiệm tất cả thì em không bị gì cả. Và điều trị băng phương pháp truyền đạm và điện giải khoảng 15 đến 20 ngày, trong khoang thơi gian này vào ban ngày em rất tỉnh táo, nhưng vao buôi tối em bị khó thở cảm giác thở nhưng không đủ oxy ngợp thở nên phải thở bằng bình oxy, rất dể cáu gắt với người thân. Sau khi xuất viện vẫn còn tình trạng trên nhưng em nổ lực thể dục thì cũng hết dần. Một thời gian sau khoang thang 5 em đang đi ăn cùng bạn bè rất bình thường đột nhiên chân tay em lạnh buốt, người cảm giác run rẩy, tim đập nhanh, sợ hải,. Cứ như vậy nhập viện thêm 3 4 lần nửa, nhưng khi lên đến bệnh viện thì lại hết. Tháng 6 em đi tp hcm set nghiệm tổng quát, trước khi đi người rất binh thường, khi lên tàu năm đến 1h thì bổng dưng nghĩ vu vơ, sợ hải mình bị gì đó, tim đap nhanh, chân tay lạnh, phải dừng tau lại nhâp viện bv long khánh. Sau đó nhập viện đai học y dược tp hcm. Sau khi nhâp viên dh y dược 1 tuần, set nghiệm điện não, tim, v.v em hoan toan binh thường. Các bác sĩ kêt luân em bị rối loạn hoãng loạn, và cho thuốc về uống gồm các thuốc an thần và thuốc ngủ. Nhưng càng uống em cảm thấy càng mẹt.mỏi, ủe oải hơn trước kia. Em quyêt đinh ngưng không dung thuôc nưa thì lai binh thuong Sau đó em đi bệnh viện tâm thần tp hcm. Các bác sĩ trac nhiêm tâm.ly v.v thi kêt luân em bị rối loạn loạn thần, nên kê đơn thuốc gồm sullivan và milgamma mono. Em uông 2 loai thuốc này thi cam thấy mình khỏe hơn, ít lo âu suy nghĩ vu vơ hơn và trở lai vơi con ngươi cua mình như. This instance will be ignored in loss calculation. Note, if this happens often, consider increasing the `max_length`.\n",
      "  warnings.warn(\n",
      "c:\\Users\\Admin\\miniconda3\\envs\\tf-gpu\\lib\\site-packages\\trl\\trainer\\utils.py:145: UserWarning: Could not find response key `### Response:\n",
      "` in the following instance: ### Instruction:\n",
      "Hãy trả lời câu hỏi với mô tả sau.\n",
      "\n",
      "### Input:\n",
      "Cho em hỏi sau khi quan hệ không bảo vệ em đã dùng thuốc tránh thai, nhưng thời gian cũng không lâu trong ngày hôm đó, em lại quan hệ không bảo vệ lần nữa, vậy thuốc tránh thai ban đầu em dùng có tác dụng với lần sau không ạ? Thanh Thúy (1996) tôi muốn hỏi sau 10 ngày quan hệ còn có thể uống thuốc tránh thai được không ạ? Mong bác sĩ tư vấn giúp tôi, cảm ơn bác sĩ. Cho em hỏi là em quan hệ tới giờ đã 5 ngày. Có loại thuốc tránh thai nào dùng được cho trường hợp của em nữa không ạ, em chưa muốn có con giờ. Cảm ơn bác sĩ Em có uống thuốc tránh thai 72h vào ngày 4/3 nhưng đến ngày 5/3 em quan hệ mà không dùng biện pháp tránh thai thì khả năng có thai cao không ạ. Cảm ơn bác sĩ! Em uống thuốc tránh thai khẩn cấp loại 72h và quan hệ không an toàn sau đó 1 ngày thì có dễ mang thai không ạ. Cảm ơn bác sĩ. Lần đầu quan hệ cháu làm rách bao cao su nên đã uống thuốc tránh thai khẩn cấp. Ngày hôm sau vẫn bị trường hợp như vậy nhưng cháu không dùng thuốc tránh thai nữa thì liệu có khả năng mang thai không ạ? Cảm ơn bác sĩ. Cho tôi hỏi ạ: hôm nay tôi có quan hệ xong có uống thuốc tránh thai cấp tốc, rồi ngày mai tôi vẫn quan hệ. Cho tôi hỏi có thể dính bầu không ạ. Ngày đầu tiên quan hệ trúng ngày rụng trứng luôn ạ. Cảm ơn bác sĩ. Vợ mình dùng thuốc tránh thai khẩn cấp 2 ngày trước ngày thứ 3 mình quan hệ không dùng bao cao su thì có khả năng mang thai không ạ? Cảm ơn bác sĩ. Em và bạn trai quan hệ với nhau 1 tuần em có uống thuốc tránh thai 1 lần. Em đã uống 5 lần, mà đã đến kỳ kinh nguyệt vẫn chưa có kinh nguyệt thì cho em hỏi như vậy có sao không vậy? Cảm ơn bác sĩ. cho em hỏi em có uống thuốc tránh thai 72 giờ, sau hai ngày em quan hệ tiếp em không dùng biện pháp gì bảo vệ vậy thuốc còn có tác dụng không ạ. bác sĩ. Dương Thị Thảo (1990) Sau khi uống thuốc ngừa thai cấp tốc 24h thì trong 24h vừa uống xong, em có thể quan hệ mà không cần biện pháp phòng tránh không ạ? Cảm ơn bác sĩ. Con muốn bác tư vấn cho cháu với. Sau 3 ngày quan hệ con đã dùng viên tránh thai khẩn cấp nhưng sau đêm thứ 3 đó chồng con lại xịt vào trong liệu có dính không ạ? Con cảm ơn ạ. Em uống thuốc tránh thai 72 giờ sau khi quan hệ đến ngày thứ 3 lại quan hệ tiếp không bảo vệ nhưng khi quan hệ lại vào lúc thuốc hết tác dụng 72 giờ tức là qua 72 giờ tầm 1 tiếng thì liệu có thai không ạ? Mong bác sĩ tư vấn giúp em ạ. Cảm ơn bác sĩ. Em quan hệ với bạn em uống thuốc tránh thai khẩn cấp sau quan hệ lần 1. Lần 2 em uống thêm 1 lần nữa cách lần 1, 8 tiếng liệu thuốc có tác dụng không ạ. Tụi em không dùng bao, bạn em xuất ra ngoài! Mong bác sĩ tư vấn giúp em với ạ. Sau khi quan hệ lần đầu, em uống thuốc tránh thai khẩn cấp, nhưng sau đó 1 tuần em lại quan hệ không dùng biện pháp gì cả, sau 1 tuần liệu thuốc còn tác dụng nữa không ạ bác sĩ. Mong bác sĩ tư vấn giúp em. Dạ là khi nào thì dùng thuốc tránh thai khẩn cấp và dùng luôn hay sau bao nhiêu giờ ạ? Mong bác sĩ tư vấn giúp em ạ. Nguyễn Văn Hùng (1998) Uống 2 viên thuốc tránh thai 1 tháng có làm sao không ạ. Mong bác sĩ giải đáp giúp em. Cảm ơn bác sĩ tư vấn. Hôm đó em uống rượu say. Em và người yêu của em có quan hệ. Nhưng chỉ 1 lần rồi 4 ngày sau em mới mua thuốc tránh thai khẩn cấp uống. Nhưng sau hôm quan hệ đó thì ngày nào em cũng uống rượu. Liệu rằng em có thụ thai không ạ. Em lo quá. Lúc quan hệ thì em hết kinh được 10 ngày ạ. Mong bác sĩ trả lời giúp. Xin cảm ơn. em nghe được thông tin uống thuốc tránh thai tháng không quá 2 viên, 1 năm không quá 3 viên đúng không ạ, uống 4 viên 1 năm thì ảnh hưởng ra sao? Có thể cho em xin tài liệu tham khảo không! Cảm ơn bác sĩ. Tối trước 2 vợ chồng em quan hệ không an toàn. Sáng sớm đã uống thuốc. Thưa ông xã không kìm chế được do mới đi xa về. Vậy có cần uống thêm thuốc không ạ ( e uống loại 1 viên ). Mong bác sĩ tư vấn. Dạ. Dùng thuốc tránh thai 120h thì sau khi dùng vẫn trong khoảng thời gian của thuốc mình vẫn quan hệ thì có phải uống thêm thuốc không ạ. Sau mỗi ngày quan hệ em. This instance will be ignored in loss calculation. Note, if this happens often, consider increasing the `max_length`.\n",
      "  warnings.warn(\n",
      "c:\\Users\\Admin\\miniconda3\\envs\\tf-gpu\\lib\\site-packages\\trl\\trainer\\utils.py:145: UserWarning: Could not find response key `### Response:\n",
      "` in the following instance: ### Instruction:\n",
      "Hãy trả lời câu hỏi với mô tả sau.\n",
      "\n",
      "### Input:\n",
      "Cho em hỏi, em quan hệ xong uống thuốc tránh thai khẩn cấp, rồi lại quan hệ tiếp nữa mà lần sau tụi em dùng đồ tránh vậy có thai không ạ? Nguyễn Minh Thư (1987) nếu như hôm trước sau khi quan hệ có xuất tinh trong âm đạo em đã uống thuốc tránh thai khẩn cấp, hôm nay cũng quan hệ và xuất tinh trong nhưng không uống thuốc nữa thì thuốc hôm qua còn tác dụng không ạ? Có bao nhiêu phần trăm dính bầu ạ? Mong bác sĩ tư vấn, em xin cảm ơn. Thưa bác sĩ, khoảng 2 ngày trước em có quan hệ và sử dụng thuốc tránh thai khẩn cấp 120h (đây là lần đầu tiên uống thuốc) và khoảng 2 ngày sau có quan hệ lại thì có phải uống thuốc nữa không ( trong lúc quan hệ không dùng biện pháp an toàn nhưng có cho ra ngoài ). Cảm ơn bác sĩ. em quan hệ không dùng bao nhưng đã uống thuốc tránh thai 48h. Không xuất trong. Và hôm sau em quan hệ không bao không xuất trong như thế thì cần uống thêm thuốc không ạ. Mong bác sĩ trả lời giúp em. Cho em hỏi em hết kinh được 14 ngày rồi quan hệ không an toàn với chồng, em đã dùng thuốc tránh thai khẩn cấp 1 lần nhưng em lại quan hệ với chồng vào vài ngày sau. Như vậy em có tránh thai được không? Có cần uống thuốc tránh thai khẩn cấp nữa không? Cảm ơn bác sĩ. Tiếp tục quan hệ sau khi uống thuốc tránh thai có thai không bác sĩ. Mong bác sĩ tư vấn giúp ạ. Cảm ơn bác sĩ. Dạ Em có thắc mắc muốn hỏi ạ. Nếu như hôm qua em quan hệ buổi trưa, tối về khoảng 10h em uống 1 viên khẩn cấp 72 giờ. Rồi tối hôm nay em quan hệ không có biện pháp tránh thai an toàn thì viên thuốc em uống tối hôm trước có còn tác dụng ngừa thai hay không ạ? Bây giờ em có cần phải uống thêm 1 viên nữa hay không ạ. bác sĩ. Em vừa uống tránh thai hôm qua hôm nay có quan hệ bắn vào trong thì có nên uống thuốc lại không? Mong bác sĩ tư vấn giúp em ạ. vợ chồng em vừa quan hệ xong, em uống thuốc tránh thai khẩn cấp ngay sau đó 15 phút. Vậy 1 hoặc 2 ngày sau bọn em lại quan hệ không dùng biện pháp bảo vệ thì có khả năng mang thai không ạ? là em uống thuốc tránh thai khẩn cấp sau quan hệ, 9 tiếng sau em lại quan hệ tiếp thì có sao không ạ. Cảm ơn bác sĩ. Bác sĩ ơi người yêu của cháu uống thuốc tránh thai trước khi quan hệ 2 ngày thì thuốc có còn tác dục không ạ, bạn gái cháu dùng loại thuốc tránh thai khẩn cấp. ạ! Cho em hỏi là cách đây 1 ngày em và bạn trai có quan hệ mà không sử dụng biện pháp phòng bị nào. Sau khi quan hệ em đã uống thuốc tránh thai khẩn cấp trong vòng 24h. Và hôm nay em và bạn trai lại quan hệ cũng không sử dụng biện pháp phòng bị nào. Thì cho em hỏi là bây giờ uống thuốc tránh thai tiếp có được không ạ? Mong bác sĩ tư vấn. Em uống thuốc tránh thai khẩn cấp từ lúc 7h tối thì lúc nào mới hết hiệu lực ạ? Mong bác sĩ tư vấn. Xin cảm ơn. Lê Thị Kim Thanh (1999) Cho em hỏi sau khi dùng thuốc ngừa thai sau 3 tiếng em lại quan hệ với bạn nữ em lỡ xuất tiếp vào trong thì có bị dính bầu không ạ? Mong bác sĩ tư vấn. Xin cảm ơn. Sau khi quan hệ không biện pháp bảo vệ em có dùng thuốc 120h và có quan hệ thêm một lần nữa nhưng khi xuất tinh thì có mang thai không ạ có cần uống thêm viên nữa không ạ? Mong bác sĩ tư vấn. Xin cảm ơn. Em có dùng thuốc 72h nhưng đến giờ thứ 48 em mới quan hệ thì có dính thai hay không, nếu dính thai em phải sao, em không muốn sinh con. Mong bác sĩ tư vấn. Xin cảm ơn. Hai hôm liên tục quan hệ hôm trước có uống thuốc tránh thai khẩn cấp. Nhưng hôm sau không uống có thể có thai không ạ? Mong bác sĩ tư vấn. Xin cảm ơn. Uống thuốc tránh thai 24h xong quan hệ tiếp chưa hết 24h có phải uống tiếp không ạ bác sĩ? Mong bác sĩ tư vấn. Xin cảm ơn. em và bạn trai có quan hệ không an toàn, sau đó em có uống thuốc tránh thai khẩn cấp, sau 12 nếu có quan hệ nữa thì có thai không ạ? Mong bác sĩ tư vấn. Xin cảm ơn. Sau 2 ngày em quan hệ. Mới uống thuốc tránh thai khẩn cấp. Tối lại quan hệ tiếp thì liệu có cần phải uống thêm thuốc tránh thai nữa không ạ? Mong bác sĩ tư vấn. Xin cảm ơn Phạm Thủy (2000) Bác sĩ ơi cháu và bạn trai quan hệ ba ngày liên tục cháu uống thuốc tránh thai khẩn cấp ngày thứ nhất. This instance will be ignored in loss calculation. Note, if this happens often, consider increasing the `max_length`.\n",
      "  warnings.warn(\n",
      "c:\\Users\\Admin\\miniconda3\\envs\\tf-gpu\\lib\\site-packages\\trl\\trainer\\utils.py:145: UserWarning: Could not find response key `### Response:\n",
      "` in the following instance: ### Instruction:\n",
      "Hãy trả lời câu hỏi với mô tả sau.\n",
      "\n",
      "### Input:\n",
      "Em năm nay 23t. Cao 1m67 nặng 47kg. Tuy ốm nhưng ít khi bệnh vặt và cũng khỏe.. Vào khoảng tháng 3 em có dùng chất kích thích nhiều khi đi chơi bar cùng bạn bè. Cụ thể 15 ngày liên tiếp, các chất em dùng là thuốc lắc dạng viên nén, ketamin dạng bột hít bằng mủi. sau đó khi đi đường đột nhiên em bị khó thở và tim đập nhanh và người cảm giác như muốn gục xuống. Nhưng em vẫn đủ bình tỉnh để dắt xe vao lê đường và băt taxi đi bênh viện. sau khi nhâp viện các bác sĩ siêu âm và sét nhiệm tất cả thì em không bị gì cả. Và điều trị băng phương pháp truyền đạm và điện giải khoảng 15 đến 20 ngày, trong khoang thơi gian này vào ban ngày em rất tỉnh táo, nhưng vao buôi tối em bị khó thở cảm giác thở nhưng không đủ oxy ngợp thở nên phải thở bằng bình oxy, rất dể cáu gắt với người thân. Sau khi xuất viện vẫn còn tình trạng trên nhưng em nổ lực thể dục thì cũng hết dần. Một thời gian sau khoang thang 5 em đang đi ăn cùng bạn bè rất bình thường đột nhiên chân tay em lạnh buốt, người cảm giác run rẩy, tim đập nhanh, sợ hải,. Cứ như vậy nhập viện thêm 3 4 lần nửa, nhưng khi lên đến bệnh viện thì lại hết. Tháng 6 em đi tp hcm set nghiệm tổng quát, trước khi đi người rất binh thường, khi lên tàu năm đến 1h thì bổng dưng nghĩ vu vơ, sợ hải mình bị gì đó, tim đap nhanh, chân tay lạnh, phải dừng tau lại nhâp viện bv long khánh. Sau đó nhập viện đai học y dược tp hcm. Sau khi nhâp viên dh y dược 1 tuần, set nghiệm điện não, tim, v.v em hoan toan binh thường. Các bác sĩ kêt luân em bị rối loạn hoãng loạn, và cho thuốc về uống gồm các thuốc an thần và thuốc ngủ. Nhưng càng uống em cảm thấy càng mẹt.mỏi, ủe oải hơn trước kia. Em quyêt đinh ngưng không dung thuôc nưa thì lai binh thuong Sau đó em đi bệnh viện tâm thần tp hcm. Các bác sĩ trac nhiêm tâm.ly v.v thi kêt luân em bị rối loạn loạn thần, nên kê đơn thuốc gồm sullivan và milgamma mono. Em uông 2 loai thuốc này thi cam thấy mình khỏe hơn, ít lo âu suy nghĩ vu vơ hơn và trở lai vơi con ngươi cua mình như. This instance will be ignored in loss calculation. Note, if this happens often, consider increasing the `max_length`.\n",
      "  warnings.warn(\n",
      "c:\\Users\\Admin\\miniconda3\\envs\\tf-gpu\\lib\\site-packages\\trl\\trainer\\utils.py:145: UserWarning: Could not find response key `### Response:\n",
      "` in the following instance: ### Instruction:\n",
      "Hãy trả lời câu hỏi với mô tả sau.\n",
      "\n",
      "### Input:\n",
      "Cho em hỏi, em quan hệ xong uống thuốc tránh thai khẩn cấp, rồi lại quan hệ tiếp nữa mà lần sau tụi em dùng đồ tránh vậy có thai không ạ? Nguyễn Minh Thư (1987) nếu như hôm trước sau khi quan hệ có xuất tinh trong âm đạo em đã uống thuốc tránh thai khẩn cấp, hôm nay cũng quan hệ và xuất tinh trong nhưng không uống thuốc nữa thì thuốc hôm qua còn tác dụng không ạ? Có bao nhiêu phần trăm dính bầu ạ? Mong bác sĩ tư vấn, em xin cảm ơn. Thưa bác sĩ, khoảng 2 ngày trước em có quan hệ và sử dụng thuốc tránh thai khẩn cấp 120h (đây là lần đầu tiên uống thuốc) và khoảng 2 ngày sau có quan hệ lại thì có phải uống thuốc nữa không ( trong lúc quan hệ không dùng biện pháp an toàn nhưng có cho ra ngoài ). Cảm ơn bác sĩ. em quan hệ không dùng bao nhưng đã uống thuốc tránh thai 48h. Không xuất trong. Và hôm sau em quan hệ không bao không xuất trong như thế thì cần uống thêm thuốc không ạ. Mong bác sĩ trả lời giúp em. Cho em hỏi em hết kinh được 14 ngày rồi quan hệ không an toàn với chồng, em đã dùng thuốc tránh thai khẩn cấp 1 lần nhưng em lại quan hệ với chồng vào vài ngày sau. Như vậy em có tránh thai được không? Có cần uống thuốc tránh thai khẩn cấp nữa không? Cảm ơn bác sĩ. Tiếp tục quan hệ sau khi uống thuốc tránh thai có thai không bác sĩ. Mong bác sĩ tư vấn giúp ạ. Cảm ơn bác sĩ. Dạ Em có thắc mắc muốn hỏi ạ. Nếu như hôm qua em quan hệ buổi trưa, tối về khoảng 10h em uống 1 viên khẩn cấp 72 giờ. Rồi tối hôm nay em quan hệ không có biện pháp tránh thai an toàn thì viên thuốc em uống tối hôm trước có còn tác dụng ngừa thai hay không ạ? Bây giờ em có cần phải uống thêm 1 viên nữa hay không ạ. bác sĩ. Em vừa uống tránh thai hôm qua hôm nay có quan hệ bắn vào trong thì có nên uống thuốc lại không? Mong bác sĩ tư vấn giúp em ạ. vợ chồng em vừa quan hệ xong, em uống thuốc tránh thai khẩn cấp ngay sau đó 15 phút. Vậy 1 hoặc 2 ngày sau bọn em lại quan hệ không dùng biện pháp bảo vệ thì có khả năng mang thai không ạ? là em uống thuốc tránh thai khẩn cấp sau quan hệ, 9 tiếng sau em lại quan hệ tiếp thì có sao không ạ. Cảm ơn bác sĩ. Bác sĩ ơi người yêu của cháu uống thuốc tránh thai trước khi quan hệ 2 ngày thì thuốc có còn tác dục không ạ, bạn gái cháu dùng loại thuốc tránh thai khẩn cấp. ạ! Cho em hỏi là cách đây 1 ngày em và bạn trai có quan hệ mà không sử dụng biện pháp phòng bị nào. Sau khi quan hệ em đã uống thuốc tránh thai khẩn cấp trong vòng 24h. Và hôm nay em và bạn trai lại quan hệ cũng không sử dụng biện pháp phòng bị nào. Thì cho em hỏi là bây giờ uống thuốc tránh thai tiếp có được không ạ? Mong bác sĩ tư vấn. Em uống thuốc tránh thai khẩn cấp từ lúc 7h tối thì lúc nào mới hết hiệu lực ạ? Mong bác sĩ tư vấn. Xin cảm ơn. Lê Thị Kim Thanh (1999) Cho em hỏi sau khi dùng thuốc ngừa thai sau 3 tiếng em lại quan hệ với bạn nữ em lỡ xuất tiếp vào trong thì có bị dính bầu không ạ? Mong bác sĩ tư vấn. Xin cảm ơn. Sau khi quan hệ không biện pháp bảo vệ em có dùng thuốc 120h và có quan hệ thêm một lần nữa nhưng khi xuất tinh thì có mang thai không ạ có cần uống thêm viên nữa không ạ? Mong bác sĩ tư vấn. Xin cảm ơn. Em có dùng thuốc 72h nhưng đến giờ thứ 48 em mới quan hệ thì có dính thai hay không, nếu dính thai em phải sao, em không muốn sinh con. Mong bác sĩ tư vấn. Xin cảm ơn. Hai hôm liên tục quan hệ hôm trước có uống thuốc tránh thai khẩn cấp. Nhưng hôm sau không uống có thể có thai không ạ? Mong bác sĩ tư vấn. Xin cảm ơn. Uống thuốc tránh thai 24h xong quan hệ tiếp chưa hết 24h có phải uống tiếp không ạ bác sĩ? Mong bác sĩ tư vấn. Xin cảm ơn. em và bạn trai có quan hệ không an toàn, sau đó em có uống thuốc tránh thai khẩn cấp, sau 12 nếu có quan hệ nữa thì có thai không ạ? Mong bác sĩ tư vấn. Xin cảm ơn. Sau 2 ngày em quan hệ. Mới uống thuốc tránh thai khẩn cấp. Tối lại quan hệ tiếp thì liệu có cần phải uống thêm thuốc tránh thai nữa không ạ? Mong bác sĩ tư vấn. Xin cảm ơn Phạm Thủy (2000) Bác sĩ ơi cháu và bạn trai quan hệ ba ngày liên tục cháu uống thuốc tránh thai khẩn cấp ngày thứ nhất. This instance will be ignored in loss calculation. Note, if this happens often, consider increasing the `max_length`.\n",
      "  warnings.warn(\n",
      "c:\\Users\\Admin\\miniconda3\\envs\\tf-gpu\\lib\\site-packages\\trl\\trainer\\utils.py:145: UserWarning: Could not find response key `### Response:\n",
      "` in the following instance: ### Instruction:\n",
      "Hãy trả lời câu hỏi với mô tả sau.\n",
      "\n",
      "### Input:\n",
      "Em năm nay 23t. Cao 1m67 nặng 47kg. Tuy ốm nhưng ít khi bệnh vặt và cũng khỏe.. Vào khoảng tháng 3 em có dùng chất kích thích nhiều khi đi chơi bar cùng bạn bè. Cụ thể 15 ngày liên tiếp, các chất em dùng là thuốc lắc dạng viên nén, ketamin dạng bột hít bằng mủi. sau đó khi đi đường đột nhiên em bị khó thở và tim đập nhanh và người cảm giác như muốn gục xuống. Nhưng em vẫn đủ bình tỉnh để dắt xe vao lê đường và băt taxi đi bênh viện. sau khi nhâp viện các bác sĩ siêu âm và sét nhiệm tất cả thì em không bị gì cả. Và điều trị băng phương pháp truyền đạm và điện giải khoảng 15 đến 20 ngày, trong khoang thơi gian này vào ban ngày em rất tỉnh táo, nhưng vao buôi tối em bị khó thở cảm giác thở nhưng không đủ oxy ngợp thở nên phải thở bằng bình oxy, rất dể cáu gắt với người thân. Sau khi xuất viện vẫn còn tình trạng trên nhưng em nổ lực thể dục thì cũng hết dần. Một thời gian sau khoang thang 5 em đang đi ăn cùng bạn bè rất bình thường đột nhiên chân tay em lạnh buốt, người cảm giác run rẩy, tim đập nhanh, sợ hải,. Cứ như vậy nhập viện thêm 3 4 lần nửa, nhưng khi lên đến bệnh viện thì lại hết. Tháng 6 em đi tp hcm set nghiệm tổng quát, trước khi đi người rất binh thường, khi lên tàu năm đến 1h thì bổng dưng nghĩ vu vơ, sợ hải mình bị gì đó, tim đap nhanh, chân tay lạnh, phải dừng tau lại nhâp viện bv long khánh. Sau đó nhập viện đai học y dược tp hcm. Sau khi nhâp viên dh y dược 1 tuần, set nghiệm điện não, tim, v.v em hoan toan binh thường. Các bác sĩ kêt luân em bị rối loạn hoãng loạn, và cho thuốc về uống gồm các thuốc an thần và thuốc ngủ. Nhưng càng uống em cảm thấy càng mẹt.mỏi, ủe oải hơn trước kia. Em quyêt đinh ngưng không dung thuôc nưa thì lai binh thuong Sau đó em đi bệnh viện tâm thần tp hcm. Các bác sĩ trac nhiêm tâm.ly v.v thi kêt luân em bị rối loạn loạn thần, nên kê đơn thuốc gồm sullivan và milgamma mono. Em uông 2 loai thuốc này thi cam thấy mình khỏe hơn, ít lo âu suy nghĩ vu vơ hơn và trở lai vơi con ngươi cua mình như. This instance will be ignored in loss calculation. Note, if this happens often, consider increasing the `max_length`.\n",
      "  warnings.warn(\n",
      "c:\\Users\\Admin\\miniconda3\\envs\\tf-gpu\\lib\\site-packages\\trl\\trainer\\utils.py:145: UserWarning: Could not find response key `### Response:\n",
      "` in the following instance: ### Instruction:\n",
      "Hãy trả lời câu hỏi với mô tả sau.\n",
      "\n",
      "### Input:\n",
      "Cho em hỏi sau khi quan hệ không bảo vệ em đã dùng thuốc tránh thai, nhưng thời gian cũng không lâu trong ngày hôm đó, em lại quan hệ không bảo vệ lần nữa, vậy thuốc tránh thai ban đầu em dùng có tác dụng với lần sau không ạ? Thanh Thúy (1996) tôi muốn hỏi sau 10 ngày quan hệ còn có thể uống thuốc tránh thai được không ạ? Mong bác sĩ tư vấn giúp tôi, cảm ơn bác sĩ. Cho em hỏi là em quan hệ tới giờ đã 5 ngày. Có loại thuốc tránh thai nào dùng được cho trường hợp của em nữa không ạ, em chưa muốn có con giờ. Cảm ơn bác sĩ Em có uống thuốc tránh thai 72h vào ngày 4/3 nhưng đến ngày 5/3 em quan hệ mà không dùng biện pháp tránh thai thì khả năng có thai cao không ạ. Cảm ơn bác sĩ! Em uống thuốc tránh thai khẩn cấp loại 72h và quan hệ không an toàn sau đó 1 ngày thì có dễ mang thai không ạ. Cảm ơn bác sĩ. Lần đầu quan hệ cháu làm rách bao cao su nên đã uống thuốc tránh thai khẩn cấp. Ngày hôm sau vẫn bị trường hợp như vậy nhưng cháu không dùng thuốc tránh thai nữa thì liệu có khả năng mang thai không ạ? Cảm ơn bác sĩ. Cho tôi hỏi ạ: hôm nay tôi có quan hệ xong có uống thuốc tránh thai cấp tốc, rồi ngày mai tôi vẫn quan hệ. Cho tôi hỏi có thể dính bầu không ạ. Ngày đầu tiên quan hệ trúng ngày rụng trứng luôn ạ. Cảm ơn bác sĩ. Vợ mình dùng thuốc tránh thai khẩn cấp 2 ngày trước ngày thứ 3 mình quan hệ không dùng bao cao su thì có khả năng mang thai không ạ? Cảm ơn bác sĩ. Em và bạn trai quan hệ với nhau 1 tuần em có uống thuốc tránh thai 1 lần. Em đã uống 5 lần, mà đã đến kỳ kinh nguyệt vẫn chưa có kinh nguyệt thì cho em hỏi như vậy có sao không vậy? Cảm ơn bác sĩ. cho em hỏi em có uống thuốc tránh thai 72 giờ, sau hai ngày em quan hệ tiếp em không dùng biện pháp gì bảo vệ vậy thuốc còn có tác dụng không ạ. bác sĩ. Dương Thị Thảo (1990) Sau khi uống thuốc ngừa thai cấp tốc 24h thì trong 24h vừa uống xong, em có thể quan hệ mà không cần biện pháp phòng tránh không ạ? Cảm ơn bác sĩ. Con muốn bác tư vấn cho cháu với. Sau 3 ngày quan hệ con đã dùng viên tránh thai khẩn cấp nhưng sau đêm thứ 3 đó chồng con lại xịt vào trong liệu có dính không ạ? Con cảm ơn ạ. Em uống thuốc tránh thai 72 giờ sau khi quan hệ đến ngày thứ 3 lại quan hệ tiếp không bảo vệ nhưng khi quan hệ lại vào lúc thuốc hết tác dụng 72 giờ tức là qua 72 giờ tầm 1 tiếng thì liệu có thai không ạ? Mong bác sĩ tư vấn giúp em ạ. Cảm ơn bác sĩ. Em quan hệ với bạn em uống thuốc tránh thai khẩn cấp sau quan hệ lần 1. Lần 2 em uống thêm 1 lần nữa cách lần 1, 8 tiếng liệu thuốc có tác dụng không ạ. Tụi em không dùng bao, bạn em xuất ra ngoài! Mong bác sĩ tư vấn giúp em với ạ. Sau khi quan hệ lần đầu, em uống thuốc tránh thai khẩn cấp, nhưng sau đó 1 tuần em lại quan hệ không dùng biện pháp gì cả, sau 1 tuần liệu thuốc còn tác dụng nữa không ạ bác sĩ. Mong bác sĩ tư vấn giúp em. Dạ là khi nào thì dùng thuốc tránh thai khẩn cấp và dùng luôn hay sau bao nhiêu giờ ạ? Mong bác sĩ tư vấn giúp em ạ. Nguyễn Văn Hùng (1998) Uống 2 viên thuốc tránh thai 1 tháng có làm sao không ạ. Mong bác sĩ giải đáp giúp em. Cảm ơn bác sĩ tư vấn. Hôm đó em uống rượu say. Em và người yêu của em có quan hệ. Nhưng chỉ 1 lần rồi 4 ngày sau em mới mua thuốc tránh thai khẩn cấp uống. Nhưng sau hôm quan hệ đó thì ngày nào em cũng uống rượu. Liệu rằng em có thụ thai không ạ. Em lo quá. Lúc quan hệ thì em hết kinh được 10 ngày ạ. Mong bác sĩ trả lời giúp. Xin cảm ơn. em nghe được thông tin uống thuốc tránh thai tháng không quá 2 viên, 1 năm không quá 3 viên đúng không ạ, uống 4 viên 1 năm thì ảnh hưởng ra sao? Có thể cho em xin tài liệu tham khảo không! Cảm ơn bác sĩ. Tối trước 2 vợ chồng em quan hệ không an toàn. Sáng sớm đã uống thuốc. Thưa ông xã không kìm chế được do mới đi xa về. Vậy có cần uống thêm thuốc không ạ ( e uống loại 1 viên ). Mong bác sĩ tư vấn. Dạ. Dùng thuốc tránh thai 120h thì sau khi dùng vẫn trong khoảng thời gian của thuốc mình vẫn quan hệ thì có phải uống thêm thuốc không ạ. Sau mỗi ngày quan hệ em. This instance will be ignored in loss calculation. Note, if this happens often, consider increasing the `max_length`.\n",
      "  warnings.warn(\n",
      "c:\\Users\\Admin\\miniconda3\\envs\\tf-gpu\\lib\\site-packages\\trl\\trainer\\utils.py:145: UserWarning: Could not find response key `### Response:\n",
      "` in the following instance: ### Instruction:\n",
      "Hãy trả lời câu hỏi với mô tả sau.\n",
      "\n",
      "### Input:\n",
      "Cho em hỏi, em quan hệ xong uống thuốc tránh thai khẩn cấp, rồi lại quan hệ tiếp nữa mà lần sau tụi em dùng đồ tránh vậy có thai không ạ? Nguyễn Minh Thư (1987) nếu như hôm trước sau khi quan hệ có xuất tinh trong âm đạo em đã uống thuốc tránh thai khẩn cấp, hôm nay cũng quan hệ và xuất tinh trong nhưng không uống thuốc nữa thì thuốc hôm qua còn tác dụng không ạ? Có bao nhiêu phần trăm dính bầu ạ? Mong bác sĩ tư vấn, em xin cảm ơn. Thưa bác sĩ, khoảng 2 ngày trước em có quan hệ và sử dụng thuốc tránh thai khẩn cấp 120h (đây là lần đầu tiên uống thuốc) và khoảng 2 ngày sau có quan hệ lại thì có phải uống thuốc nữa không ( trong lúc quan hệ không dùng biện pháp an toàn nhưng có cho ra ngoài ). Cảm ơn bác sĩ. em quan hệ không dùng bao nhưng đã uống thuốc tránh thai 48h. Không xuất trong. Và hôm sau em quan hệ không bao không xuất trong như thế thì cần uống thêm thuốc không ạ. Mong bác sĩ trả lời giúp em. Cho em hỏi em hết kinh được 14 ngày rồi quan hệ không an toàn với chồng, em đã dùng thuốc tránh thai khẩn cấp 1 lần nhưng em lại quan hệ với chồng vào vài ngày sau. Như vậy em có tránh thai được không? Có cần uống thuốc tránh thai khẩn cấp nữa không? Cảm ơn bác sĩ. Tiếp tục quan hệ sau khi uống thuốc tránh thai có thai không bác sĩ. Mong bác sĩ tư vấn giúp ạ. Cảm ơn bác sĩ. Dạ Em có thắc mắc muốn hỏi ạ. Nếu như hôm qua em quan hệ buổi trưa, tối về khoảng 10h em uống 1 viên khẩn cấp 72 giờ. Rồi tối hôm nay em quan hệ không có biện pháp tránh thai an toàn thì viên thuốc em uống tối hôm trước có còn tác dụng ngừa thai hay không ạ? Bây giờ em có cần phải uống thêm 1 viên nữa hay không ạ. bác sĩ. Em vừa uống tránh thai hôm qua hôm nay có quan hệ bắn vào trong thì có nên uống thuốc lại không? Mong bác sĩ tư vấn giúp em ạ. vợ chồng em vừa quan hệ xong, em uống thuốc tránh thai khẩn cấp ngay sau đó 15 phút. Vậy 1 hoặc 2 ngày sau bọn em lại quan hệ không dùng biện pháp bảo vệ thì có khả năng mang thai không ạ? là em uống thuốc tránh thai khẩn cấp sau quan hệ, 9 tiếng sau em lại quan hệ tiếp thì có sao không ạ. Cảm ơn bác sĩ. Bác sĩ ơi người yêu của cháu uống thuốc tránh thai trước khi quan hệ 2 ngày thì thuốc có còn tác dục không ạ, bạn gái cháu dùng loại thuốc tránh thai khẩn cấp. ạ! Cho em hỏi là cách đây 1 ngày em và bạn trai có quan hệ mà không sử dụng biện pháp phòng bị nào. Sau khi quan hệ em đã uống thuốc tránh thai khẩn cấp trong vòng 24h. Và hôm nay em và bạn trai lại quan hệ cũng không sử dụng biện pháp phòng bị nào. Thì cho em hỏi là bây giờ uống thuốc tránh thai tiếp có được không ạ? Mong bác sĩ tư vấn. Em uống thuốc tránh thai khẩn cấp từ lúc 7h tối thì lúc nào mới hết hiệu lực ạ? Mong bác sĩ tư vấn. Xin cảm ơn. Lê Thị Kim Thanh (1999) Cho em hỏi sau khi dùng thuốc ngừa thai sau 3 tiếng em lại quan hệ với bạn nữ em lỡ xuất tiếp vào trong thì có bị dính bầu không ạ? Mong bác sĩ tư vấn. Xin cảm ơn. Sau khi quan hệ không biện pháp bảo vệ em có dùng thuốc 120h và có quan hệ thêm một lần nữa nhưng khi xuất tinh thì có mang thai không ạ có cần uống thêm viên nữa không ạ? Mong bác sĩ tư vấn. Xin cảm ơn. Em có dùng thuốc 72h nhưng đến giờ thứ 48 em mới quan hệ thì có dính thai hay không, nếu dính thai em phải sao, em không muốn sinh con. Mong bác sĩ tư vấn. Xin cảm ơn. Hai hôm liên tục quan hệ hôm trước có uống thuốc tránh thai khẩn cấp. Nhưng hôm sau không uống có thể có thai không ạ? Mong bác sĩ tư vấn. Xin cảm ơn. Uống thuốc tránh thai 24h xong quan hệ tiếp chưa hết 24h có phải uống tiếp không ạ bác sĩ? Mong bác sĩ tư vấn. Xin cảm ơn. em và bạn trai có quan hệ không an toàn, sau đó em có uống thuốc tránh thai khẩn cấp, sau 12 nếu có quan hệ nữa thì có thai không ạ? Mong bác sĩ tư vấn. Xin cảm ơn. Sau 2 ngày em quan hệ. Mới uống thuốc tránh thai khẩn cấp. Tối lại quan hệ tiếp thì liệu có cần phải uống thêm thuốc tránh thai nữa không ạ? Mong bác sĩ tư vấn. Xin cảm ơn Phạm Thủy (2000) Bác sĩ ơi cháu và bạn trai quan hệ ba ngày liên tục cháu uống thuốc tránh thai khẩn cấp ngày thứ nhất. This instance will be ignored in loss calculation. Note, if this happens often, consider increasing the `max_length`.\n",
      "  warnings.warn(\n",
      "c:\\Users\\Admin\\miniconda3\\envs\\tf-gpu\\lib\\site-packages\\trl\\trainer\\utils.py:145: UserWarning: Could not find response key `### Response:\n",
      "` in the following instance: ### Instruction:\n",
      "Hãy trả lời câu hỏi với mô tả sau.\n",
      "\n",
      "### Input:\n",
      "Cho em hỏi sau khi quan hệ không bảo vệ em đã dùng thuốc tránh thai, nhưng thời gian cũng không lâu trong ngày hôm đó, em lại quan hệ không bảo vệ lần nữa, vậy thuốc tránh thai ban đầu em dùng có tác dụng với lần sau không ạ? Thanh Thúy (1996) tôi muốn hỏi sau 10 ngày quan hệ còn có thể uống thuốc tránh thai được không ạ? Mong bác sĩ tư vấn giúp tôi, cảm ơn bác sĩ. Cho em hỏi là em quan hệ tới giờ đã 5 ngày. Có loại thuốc tránh thai nào dùng được cho trường hợp của em nữa không ạ, em chưa muốn có con giờ. Cảm ơn bác sĩ Em có uống thuốc tránh thai 72h vào ngày 4/3 nhưng đến ngày 5/3 em quan hệ mà không dùng biện pháp tránh thai thì khả năng có thai cao không ạ. Cảm ơn bác sĩ! Em uống thuốc tránh thai khẩn cấp loại 72h và quan hệ không an toàn sau đó 1 ngày thì có dễ mang thai không ạ. Cảm ơn bác sĩ. Lần đầu quan hệ cháu làm rách bao cao su nên đã uống thuốc tránh thai khẩn cấp. Ngày hôm sau vẫn bị trường hợp như vậy nhưng cháu không dùng thuốc tránh thai nữa thì liệu có khả năng mang thai không ạ? Cảm ơn bác sĩ. Cho tôi hỏi ạ: hôm nay tôi có quan hệ xong có uống thuốc tránh thai cấp tốc, rồi ngày mai tôi vẫn quan hệ. Cho tôi hỏi có thể dính bầu không ạ. Ngày đầu tiên quan hệ trúng ngày rụng trứng luôn ạ. Cảm ơn bác sĩ. Vợ mình dùng thuốc tránh thai khẩn cấp 2 ngày trước ngày thứ 3 mình quan hệ không dùng bao cao su thì có khả năng mang thai không ạ? Cảm ơn bác sĩ. Em và bạn trai quan hệ với nhau 1 tuần em có uống thuốc tránh thai 1 lần. Em đã uống 5 lần, mà đã đến kỳ kinh nguyệt vẫn chưa có kinh nguyệt thì cho em hỏi như vậy có sao không vậy? Cảm ơn bác sĩ. cho em hỏi em có uống thuốc tránh thai 72 giờ, sau hai ngày em quan hệ tiếp em không dùng biện pháp gì bảo vệ vậy thuốc còn có tác dụng không ạ. bác sĩ. Dương Thị Thảo (1990) Sau khi uống thuốc ngừa thai cấp tốc 24h thì trong 24h vừa uống xong, em có thể quan hệ mà không cần biện pháp phòng tránh không ạ? Cảm ơn bác sĩ. Con muốn bác tư vấn cho cháu với. Sau 3 ngày quan hệ con đã dùng viên tránh thai khẩn cấp nhưng sau đêm thứ 3 đó chồng con lại xịt vào trong liệu có dính không ạ? Con cảm ơn ạ. Em uống thuốc tránh thai 72 giờ sau khi quan hệ đến ngày thứ 3 lại quan hệ tiếp không bảo vệ nhưng khi quan hệ lại vào lúc thuốc hết tác dụng 72 giờ tức là qua 72 giờ tầm 1 tiếng thì liệu có thai không ạ? Mong bác sĩ tư vấn giúp em ạ. Cảm ơn bác sĩ. Em quan hệ với bạn em uống thuốc tránh thai khẩn cấp sau quan hệ lần 1. Lần 2 em uống thêm 1 lần nữa cách lần 1, 8 tiếng liệu thuốc có tác dụng không ạ. Tụi em không dùng bao, bạn em xuất ra ngoài! Mong bác sĩ tư vấn giúp em với ạ. Sau khi quan hệ lần đầu, em uống thuốc tránh thai khẩn cấp, nhưng sau đó 1 tuần em lại quan hệ không dùng biện pháp gì cả, sau 1 tuần liệu thuốc còn tác dụng nữa không ạ bác sĩ. Mong bác sĩ tư vấn giúp em. Dạ là khi nào thì dùng thuốc tránh thai khẩn cấp và dùng luôn hay sau bao nhiêu giờ ạ? Mong bác sĩ tư vấn giúp em ạ. Nguyễn Văn Hùng (1998) Uống 2 viên thuốc tránh thai 1 tháng có làm sao không ạ. Mong bác sĩ giải đáp giúp em. Cảm ơn bác sĩ tư vấn. Hôm đó em uống rượu say. Em và người yêu của em có quan hệ. Nhưng chỉ 1 lần rồi 4 ngày sau em mới mua thuốc tránh thai khẩn cấp uống. Nhưng sau hôm quan hệ đó thì ngày nào em cũng uống rượu. Liệu rằng em có thụ thai không ạ. Em lo quá. Lúc quan hệ thì em hết kinh được 10 ngày ạ. Mong bác sĩ trả lời giúp. Xin cảm ơn. em nghe được thông tin uống thuốc tránh thai tháng không quá 2 viên, 1 năm không quá 3 viên đúng không ạ, uống 4 viên 1 năm thì ảnh hưởng ra sao? Có thể cho em xin tài liệu tham khảo không! Cảm ơn bác sĩ. Tối trước 2 vợ chồng em quan hệ không an toàn. Sáng sớm đã uống thuốc. Thưa ông xã không kìm chế được do mới đi xa về. Vậy có cần uống thêm thuốc không ạ ( e uống loại 1 viên ). Mong bác sĩ tư vấn. Dạ. Dùng thuốc tránh thai 120h thì sau khi dùng vẫn trong khoảng thời gian của thuốc mình vẫn quan hệ thì có phải uống thêm thuốc không ạ. Sau mỗi ngày quan hệ em. This instance will be ignored in loss calculation. Note, if this happens often, consider increasing the `max_length`.\n",
      "  warnings.warn(\n",
      "c:\\Users\\Admin\\miniconda3\\envs\\tf-gpu\\lib\\site-packages\\trl\\trainer\\utils.py:145: UserWarning: Could not find response key `### Response:\n",
      "` in the following instance: ### Instruction:\n",
      "Hãy trả lời câu hỏi với mô tả sau.\n",
      "\n",
      "### Input:\n",
      "Em năm nay 23t. Cao 1m67 nặng 47kg. Tuy ốm nhưng ít khi bệnh vặt và cũng khỏe.. Vào khoảng tháng 3 em có dùng chất kích thích nhiều khi đi chơi bar cùng bạn bè. Cụ thể 15 ngày liên tiếp, các chất em dùng là thuốc lắc dạng viên nén, ketamin dạng bột hít bằng mủi. sau đó khi đi đường đột nhiên em bị khó thở và tim đập nhanh và người cảm giác như muốn gục xuống. Nhưng em vẫn đủ bình tỉnh để dắt xe vao lê đường và băt taxi đi bênh viện. sau khi nhâp viện các bác sĩ siêu âm và sét nhiệm tất cả thì em không bị gì cả. Và điều trị băng phương pháp truyền đạm và điện giải khoảng 15 đến 20 ngày, trong khoang thơi gian này vào ban ngày em rất tỉnh táo, nhưng vao buôi tối em bị khó thở cảm giác thở nhưng không đủ oxy ngợp thở nên phải thở bằng bình oxy, rất dể cáu gắt với người thân. Sau khi xuất viện vẫn còn tình trạng trên nhưng em nổ lực thể dục thì cũng hết dần. Một thời gian sau khoang thang 5 em đang đi ăn cùng bạn bè rất bình thường đột nhiên chân tay em lạnh buốt, người cảm giác run rẩy, tim đập nhanh, sợ hải,. Cứ như vậy nhập viện thêm 3 4 lần nửa, nhưng khi lên đến bệnh viện thì lại hết. Tháng 6 em đi tp hcm set nghiệm tổng quát, trước khi đi người rất binh thường, khi lên tàu năm đến 1h thì bổng dưng nghĩ vu vơ, sợ hải mình bị gì đó, tim đap nhanh, chân tay lạnh, phải dừng tau lại nhâp viện bv long khánh. Sau đó nhập viện đai học y dược tp hcm. Sau khi nhâp viên dh y dược 1 tuần, set nghiệm điện não, tim, v.v em hoan toan binh thường. Các bác sĩ kêt luân em bị rối loạn hoãng loạn, và cho thuốc về uống gồm các thuốc an thần và thuốc ngủ. Nhưng càng uống em cảm thấy càng mẹt.mỏi, ủe oải hơn trước kia. Em quyêt đinh ngưng không dung thuôc nưa thì lai binh thuong Sau đó em đi bệnh viện tâm thần tp hcm. Các bác sĩ trac nhiêm tâm.ly v.v thi kêt luân em bị rối loạn loạn thần, nên kê đơn thuốc gồm sullivan và milgamma mono. Em uông 2 loai thuốc này thi cam thấy mình khỏe hơn, ít lo âu suy nghĩ vu vơ hơn và trở lai vơi con ngươi cua mình như. This instance will be ignored in loss calculation. Note, if this happens often, consider increasing the `max_length`.\n",
      "  warnings.warn(\n",
      "c:\\Users\\Admin\\miniconda3\\envs\\tf-gpu\\lib\\site-packages\\trl\\trainer\\utils.py:145: UserWarning: Could not find response key `### Response:\n",
      "` in the following instance: ### Instruction:\n",
      "Hãy trả lời câu hỏi với mô tả sau.\n",
      "\n",
      "### Input:\n",
      "Em năm nay 23t. Cao 1m67 nặng 47kg. Tuy ốm nhưng ít khi bệnh vặt và cũng khỏe.. Vào khoảng tháng 3 em có dùng chất kích thích nhiều khi đi chơi bar cùng bạn bè. Cụ thể 15 ngày liên tiếp, các chất em dùng là thuốc lắc dạng viên nén, ketamin dạng bột hít bằng mủi. sau đó khi đi đường đột nhiên em bị khó thở và tim đập nhanh và người cảm giác như muốn gục xuống. Nhưng em vẫn đủ bình tỉnh để dắt xe vao lê đường và băt taxi đi bênh viện. sau khi nhâp viện các bác sĩ siêu âm và sét nhiệm tất cả thì em không bị gì cả. Và điều trị băng phương pháp truyền đạm và điện giải khoảng 15 đến 20 ngày, trong khoang thơi gian này vào ban ngày em rất tỉnh táo, nhưng vao buôi tối em bị khó thở cảm giác thở nhưng không đủ oxy ngợp thở nên phải thở bằng bình oxy, rất dể cáu gắt với người thân. Sau khi xuất viện vẫn còn tình trạng trên nhưng em nổ lực thể dục thì cũng hết dần. Một thời gian sau khoang thang 5 em đang đi ăn cùng bạn bè rất bình thường đột nhiên chân tay em lạnh buốt, người cảm giác run rẩy, tim đập nhanh, sợ hải,. Cứ như vậy nhập viện thêm 3 4 lần nửa, nhưng khi lên đến bệnh viện thì lại hết. Tháng 6 em đi tp hcm set nghiệm tổng quát, trước khi đi người rất binh thường, khi lên tàu năm đến 1h thì bổng dưng nghĩ vu vơ, sợ hải mình bị gì đó, tim đap nhanh, chân tay lạnh, phải dừng tau lại nhâp viện bv long khánh. Sau đó nhập viện đai học y dược tp hcm. Sau khi nhâp viên dh y dược 1 tuần, set nghiệm điện não, tim, v.v em hoan toan binh thường. Các bác sĩ kêt luân em bị rối loạn hoãng loạn, và cho thuốc về uống gồm các thuốc an thần và thuốc ngủ. Nhưng càng uống em cảm thấy càng mẹt.mỏi, ủe oải hơn trước kia. Em quyêt đinh ngưng không dung thuôc nưa thì lai binh thuong Sau đó em đi bệnh viện tâm thần tp hcm. Các bác sĩ trac nhiêm tâm.ly v.v thi kêt luân em bị rối loạn loạn thần, nên kê đơn thuốc gồm sullivan và milgamma mono. Em uông 2 loai thuốc này thi cam thấy mình khỏe hơn, ít lo âu suy nghĩ vu vơ hơn và trở lai vơi con ngươi cua mình như. This instance will be ignored in loss calculation. Note, if this happens often, consider increasing the `max_length`.\n",
      "  warnings.warn(\n",
      "c:\\Users\\Admin\\miniconda3\\envs\\tf-gpu\\lib\\site-packages\\trl\\trainer\\utils.py:145: UserWarning: Could not find response key `### Response:\n",
      "` in the following instance: ### Instruction:\n",
      "Hãy trả lời câu hỏi với mô tả sau.\n",
      "\n",
      "### Input:\n",
      "Cho em hỏi, em quan hệ xong uống thuốc tránh thai khẩn cấp, rồi lại quan hệ tiếp nữa mà lần sau tụi em dùng đồ tránh vậy có thai không ạ? Nguyễn Minh Thư (1987) nếu như hôm trước sau khi quan hệ có xuất tinh trong âm đạo em đã uống thuốc tránh thai khẩn cấp, hôm nay cũng quan hệ và xuất tinh trong nhưng không uống thuốc nữa thì thuốc hôm qua còn tác dụng không ạ? Có bao nhiêu phần trăm dính bầu ạ? Mong bác sĩ tư vấn, em xin cảm ơn. Thưa bác sĩ, khoảng 2 ngày trước em có quan hệ và sử dụng thuốc tránh thai khẩn cấp 120h (đây là lần đầu tiên uống thuốc) và khoảng 2 ngày sau có quan hệ lại thì có phải uống thuốc nữa không ( trong lúc quan hệ không dùng biện pháp an toàn nhưng có cho ra ngoài ). Cảm ơn bác sĩ. em quan hệ không dùng bao nhưng đã uống thuốc tránh thai 48h. Không xuất trong. Và hôm sau em quan hệ không bao không xuất trong như thế thì cần uống thêm thuốc không ạ. Mong bác sĩ trả lời giúp em. Cho em hỏi em hết kinh được 14 ngày rồi quan hệ không an toàn với chồng, em đã dùng thuốc tránh thai khẩn cấp 1 lần nhưng em lại quan hệ với chồng vào vài ngày sau. Như vậy em có tránh thai được không? Có cần uống thuốc tránh thai khẩn cấp nữa không? Cảm ơn bác sĩ. Tiếp tục quan hệ sau khi uống thuốc tránh thai có thai không bác sĩ. Mong bác sĩ tư vấn giúp ạ. Cảm ơn bác sĩ. Dạ Em có thắc mắc muốn hỏi ạ. Nếu như hôm qua em quan hệ buổi trưa, tối về khoảng 10h em uống 1 viên khẩn cấp 72 giờ. Rồi tối hôm nay em quan hệ không có biện pháp tránh thai an toàn thì viên thuốc em uống tối hôm trước có còn tác dụng ngừa thai hay không ạ? Bây giờ em có cần phải uống thêm 1 viên nữa hay không ạ. bác sĩ. Em vừa uống tránh thai hôm qua hôm nay có quan hệ bắn vào trong thì có nên uống thuốc lại không? Mong bác sĩ tư vấn giúp em ạ. vợ chồng em vừa quan hệ xong, em uống thuốc tránh thai khẩn cấp ngay sau đó 15 phút. Vậy 1 hoặc 2 ngày sau bọn em lại quan hệ không dùng biện pháp bảo vệ thì có khả năng mang thai không ạ? là em uống thuốc tránh thai khẩn cấp sau quan hệ, 9 tiếng sau em lại quan hệ tiếp thì có sao không ạ. Cảm ơn bác sĩ. Bác sĩ ơi người yêu của cháu uống thuốc tránh thai trước khi quan hệ 2 ngày thì thuốc có còn tác dục không ạ, bạn gái cháu dùng loại thuốc tránh thai khẩn cấp. ạ! Cho em hỏi là cách đây 1 ngày em và bạn trai có quan hệ mà không sử dụng biện pháp phòng bị nào. Sau khi quan hệ em đã uống thuốc tránh thai khẩn cấp trong vòng 24h. Và hôm nay em và bạn trai lại quan hệ cũng không sử dụng biện pháp phòng bị nào. Thì cho em hỏi là bây giờ uống thuốc tránh thai tiếp có được không ạ? Mong bác sĩ tư vấn. Em uống thuốc tránh thai khẩn cấp từ lúc 7h tối thì lúc nào mới hết hiệu lực ạ? Mong bác sĩ tư vấn. Xin cảm ơn. Lê Thị Kim Thanh (1999) Cho em hỏi sau khi dùng thuốc ngừa thai sau 3 tiếng em lại quan hệ với bạn nữ em lỡ xuất tiếp vào trong thì có bị dính bầu không ạ? Mong bác sĩ tư vấn. Xin cảm ơn. Sau khi quan hệ không biện pháp bảo vệ em có dùng thuốc 120h và có quan hệ thêm một lần nữa nhưng khi xuất tinh thì có mang thai không ạ có cần uống thêm viên nữa không ạ? Mong bác sĩ tư vấn. Xin cảm ơn. Em có dùng thuốc 72h nhưng đến giờ thứ 48 em mới quan hệ thì có dính thai hay không, nếu dính thai em phải sao, em không muốn sinh con. Mong bác sĩ tư vấn. Xin cảm ơn. Hai hôm liên tục quan hệ hôm trước có uống thuốc tránh thai khẩn cấp. Nhưng hôm sau không uống có thể có thai không ạ? Mong bác sĩ tư vấn. Xin cảm ơn. Uống thuốc tránh thai 24h xong quan hệ tiếp chưa hết 24h có phải uống tiếp không ạ bác sĩ? Mong bác sĩ tư vấn. Xin cảm ơn. em và bạn trai có quan hệ không an toàn, sau đó em có uống thuốc tránh thai khẩn cấp, sau 12 nếu có quan hệ nữa thì có thai không ạ? Mong bác sĩ tư vấn. Xin cảm ơn. Sau 2 ngày em quan hệ. Mới uống thuốc tránh thai khẩn cấp. Tối lại quan hệ tiếp thì liệu có cần phải uống thêm thuốc tránh thai nữa không ạ? Mong bác sĩ tư vấn. Xin cảm ơn Phạm Thủy (2000) Bác sĩ ơi cháu và bạn trai quan hệ ba ngày liên tục cháu uống thuốc tránh thai khẩn cấp ngày thứ nhất. This instance will be ignored in loss calculation. Note, if this happens often, consider increasing the `max_length`.\n",
      "  warnings.warn(\n",
      "c:\\Users\\Admin\\miniconda3\\envs\\tf-gpu\\lib\\site-packages\\trl\\trainer\\utils.py:145: UserWarning: Could not find response key `### Response:\n",
      "` in the following instance: ### Instruction:\n",
      "Hãy trả lời câu hỏi với mô tả sau.\n",
      "\n",
      "### Input:\n",
      "Cho em hỏi sau khi quan hệ không bảo vệ em đã dùng thuốc tránh thai, nhưng thời gian cũng không lâu trong ngày hôm đó, em lại quan hệ không bảo vệ lần nữa, vậy thuốc tránh thai ban đầu em dùng có tác dụng với lần sau không ạ? Thanh Thúy (1996) tôi muốn hỏi sau 10 ngày quan hệ còn có thể uống thuốc tránh thai được không ạ? Mong bác sĩ tư vấn giúp tôi, cảm ơn bác sĩ. Cho em hỏi là em quan hệ tới giờ đã 5 ngày. Có loại thuốc tránh thai nào dùng được cho trường hợp của em nữa không ạ, em chưa muốn có con giờ. Cảm ơn bác sĩ Em có uống thuốc tránh thai 72h vào ngày 4/3 nhưng đến ngày 5/3 em quan hệ mà không dùng biện pháp tránh thai thì khả năng có thai cao không ạ. Cảm ơn bác sĩ! Em uống thuốc tránh thai khẩn cấp loại 72h và quan hệ không an toàn sau đó 1 ngày thì có dễ mang thai không ạ. Cảm ơn bác sĩ. Lần đầu quan hệ cháu làm rách bao cao su nên đã uống thuốc tránh thai khẩn cấp. Ngày hôm sau vẫn bị trường hợp như vậy nhưng cháu không dùng thuốc tránh thai nữa thì liệu có khả năng mang thai không ạ? Cảm ơn bác sĩ. Cho tôi hỏi ạ: hôm nay tôi có quan hệ xong có uống thuốc tránh thai cấp tốc, rồi ngày mai tôi vẫn quan hệ. Cho tôi hỏi có thể dính bầu không ạ. Ngày đầu tiên quan hệ trúng ngày rụng trứng luôn ạ. Cảm ơn bác sĩ. Vợ mình dùng thuốc tránh thai khẩn cấp 2 ngày trước ngày thứ 3 mình quan hệ không dùng bao cao su thì có khả năng mang thai không ạ? Cảm ơn bác sĩ. Em và bạn trai quan hệ với nhau 1 tuần em có uống thuốc tránh thai 1 lần. Em đã uống 5 lần, mà đã đến kỳ kinh nguyệt vẫn chưa có kinh nguyệt thì cho em hỏi như vậy có sao không vậy? Cảm ơn bác sĩ. cho em hỏi em có uống thuốc tránh thai 72 giờ, sau hai ngày em quan hệ tiếp em không dùng biện pháp gì bảo vệ vậy thuốc còn có tác dụng không ạ. bác sĩ. Dương Thị Thảo (1990) Sau khi uống thuốc ngừa thai cấp tốc 24h thì trong 24h vừa uống xong, em có thể quan hệ mà không cần biện pháp phòng tránh không ạ? Cảm ơn bác sĩ. Con muốn bác tư vấn cho cháu với. Sau 3 ngày quan hệ con đã dùng viên tránh thai khẩn cấp nhưng sau đêm thứ 3 đó chồng con lại xịt vào trong liệu có dính không ạ? Con cảm ơn ạ. Em uống thuốc tránh thai 72 giờ sau khi quan hệ đến ngày thứ 3 lại quan hệ tiếp không bảo vệ nhưng khi quan hệ lại vào lúc thuốc hết tác dụng 72 giờ tức là qua 72 giờ tầm 1 tiếng thì liệu có thai không ạ? Mong bác sĩ tư vấn giúp em ạ. Cảm ơn bác sĩ. Em quan hệ với bạn em uống thuốc tránh thai khẩn cấp sau quan hệ lần 1. Lần 2 em uống thêm 1 lần nữa cách lần 1, 8 tiếng liệu thuốc có tác dụng không ạ. Tụi em không dùng bao, bạn em xuất ra ngoài! Mong bác sĩ tư vấn giúp em với ạ. Sau khi quan hệ lần đầu, em uống thuốc tránh thai khẩn cấp, nhưng sau đó 1 tuần em lại quan hệ không dùng biện pháp gì cả, sau 1 tuần liệu thuốc còn tác dụng nữa không ạ bác sĩ. Mong bác sĩ tư vấn giúp em. Dạ là khi nào thì dùng thuốc tránh thai khẩn cấp và dùng luôn hay sau bao nhiêu giờ ạ? Mong bác sĩ tư vấn giúp em ạ. Nguyễn Văn Hùng (1998) Uống 2 viên thuốc tránh thai 1 tháng có làm sao không ạ. Mong bác sĩ giải đáp giúp em. Cảm ơn bác sĩ tư vấn. Hôm đó em uống rượu say. Em và người yêu của em có quan hệ. Nhưng chỉ 1 lần rồi 4 ngày sau em mới mua thuốc tránh thai khẩn cấp uống. Nhưng sau hôm quan hệ đó thì ngày nào em cũng uống rượu. Liệu rằng em có thụ thai không ạ. Em lo quá. Lúc quan hệ thì em hết kinh được 10 ngày ạ. Mong bác sĩ trả lời giúp. Xin cảm ơn. em nghe được thông tin uống thuốc tránh thai tháng không quá 2 viên, 1 năm không quá 3 viên đúng không ạ, uống 4 viên 1 năm thì ảnh hưởng ra sao? Có thể cho em xin tài liệu tham khảo không! Cảm ơn bác sĩ. Tối trước 2 vợ chồng em quan hệ không an toàn. Sáng sớm đã uống thuốc. Thưa ông xã không kìm chế được do mới đi xa về. Vậy có cần uống thêm thuốc không ạ ( e uống loại 1 viên ). Mong bác sĩ tư vấn. Dạ. Dùng thuốc tránh thai 120h thì sau khi dùng vẫn trong khoảng thời gian của thuốc mình vẫn quan hệ thì có phải uống thêm thuốc không ạ. Sau mỗi ngày quan hệ em. This instance will be ignored in loss calculation. Note, if this happens often, consider increasing the `max_length`.\n",
      "  warnings.warn(\n",
      "c:\\Users\\Admin\\miniconda3\\envs\\tf-gpu\\lib\\site-packages\\trl\\trainer\\utils.py:145: UserWarning: Could not find response key `### Response:\n",
      "` in the following instance: ### Instruction:\n",
      "Hãy trả lời câu hỏi với mô tả sau.\n",
      "\n",
      "### Input:\n",
      "Cho em hỏi, em quan hệ xong uống thuốc tránh thai khẩn cấp, rồi lại quan hệ tiếp nữa mà lần sau tụi em dùng đồ tránh vậy có thai không ạ? Nguyễn Minh Thư (1987) nếu như hôm trước sau khi quan hệ có xuất tinh trong âm đạo em đã uống thuốc tránh thai khẩn cấp, hôm nay cũng quan hệ và xuất tinh trong nhưng không uống thuốc nữa thì thuốc hôm qua còn tác dụng không ạ? Có bao nhiêu phần trăm dính bầu ạ? Mong bác sĩ tư vấn, em xin cảm ơn. Thưa bác sĩ, khoảng 2 ngày trước em có quan hệ và sử dụng thuốc tránh thai khẩn cấp 120h (đây là lần đầu tiên uống thuốc) và khoảng 2 ngày sau có quan hệ lại thì có phải uống thuốc nữa không ( trong lúc quan hệ không dùng biện pháp an toàn nhưng có cho ra ngoài ). Cảm ơn bác sĩ. em quan hệ không dùng bao nhưng đã uống thuốc tránh thai 48h. Không xuất trong. Và hôm sau em quan hệ không bao không xuất trong như thế thì cần uống thêm thuốc không ạ. Mong bác sĩ trả lời giúp em. Cho em hỏi em hết kinh được 14 ngày rồi quan hệ không an toàn với chồng, em đã dùng thuốc tránh thai khẩn cấp 1 lần nhưng em lại quan hệ với chồng vào vài ngày sau. Như vậy em có tránh thai được không? Có cần uống thuốc tránh thai khẩn cấp nữa không? Cảm ơn bác sĩ. Tiếp tục quan hệ sau khi uống thuốc tránh thai có thai không bác sĩ. Mong bác sĩ tư vấn giúp ạ. Cảm ơn bác sĩ. Dạ Em có thắc mắc muốn hỏi ạ. Nếu như hôm qua em quan hệ buổi trưa, tối về khoảng 10h em uống 1 viên khẩn cấp 72 giờ. Rồi tối hôm nay em quan hệ không có biện pháp tránh thai an toàn thì viên thuốc em uống tối hôm trước có còn tác dụng ngừa thai hay không ạ? Bây giờ em có cần phải uống thêm 1 viên nữa hay không ạ. bác sĩ. Em vừa uống tránh thai hôm qua hôm nay có quan hệ bắn vào trong thì có nên uống thuốc lại không? Mong bác sĩ tư vấn giúp em ạ. vợ chồng em vừa quan hệ xong, em uống thuốc tránh thai khẩn cấp ngay sau đó 15 phút. Vậy 1 hoặc 2 ngày sau bọn em lại quan hệ không dùng biện pháp bảo vệ thì có khả năng mang thai không ạ? là em uống thuốc tránh thai khẩn cấp sau quan hệ, 9 tiếng sau em lại quan hệ tiếp thì có sao không ạ. Cảm ơn bác sĩ. Bác sĩ ơi người yêu của cháu uống thuốc tránh thai trước khi quan hệ 2 ngày thì thuốc có còn tác dục không ạ, bạn gái cháu dùng loại thuốc tránh thai khẩn cấp. ạ! Cho em hỏi là cách đây 1 ngày em và bạn trai có quan hệ mà không sử dụng biện pháp phòng bị nào. Sau khi quan hệ em đã uống thuốc tránh thai khẩn cấp trong vòng 24h. Và hôm nay em và bạn trai lại quan hệ cũng không sử dụng biện pháp phòng bị nào. Thì cho em hỏi là bây giờ uống thuốc tránh thai tiếp có được không ạ? Mong bác sĩ tư vấn. Em uống thuốc tránh thai khẩn cấp từ lúc 7h tối thì lúc nào mới hết hiệu lực ạ? Mong bác sĩ tư vấn. Xin cảm ơn. Lê Thị Kim Thanh (1999) Cho em hỏi sau khi dùng thuốc ngừa thai sau 3 tiếng em lại quan hệ với bạn nữ em lỡ xuất tiếp vào trong thì có bị dính bầu không ạ? Mong bác sĩ tư vấn. Xin cảm ơn. Sau khi quan hệ không biện pháp bảo vệ em có dùng thuốc 120h và có quan hệ thêm một lần nữa nhưng khi xuất tinh thì có mang thai không ạ có cần uống thêm viên nữa không ạ? Mong bác sĩ tư vấn. Xin cảm ơn. Em có dùng thuốc 72h nhưng đến giờ thứ 48 em mới quan hệ thì có dính thai hay không, nếu dính thai em phải sao, em không muốn sinh con. Mong bác sĩ tư vấn. Xin cảm ơn. Hai hôm liên tục quan hệ hôm trước có uống thuốc tránh thai khẩn cấp. Nhưng hôm sau không uống có thể có thai không ạ? Mong bác sĩ tư vấn. Xin cảm ơn. Uống thuốc tránh thai 24h xong quan hệ tiếp chưa hết 24h có phải uống tiếp không ạ bác sĩ? Mong bác sĩ tư vấn. Xin cảm ơn. em và bạn trai có quan hệ không an toàn, sau đó em có uống thuốc tránh thai khẩn cấp, sau 12 nếu có quan hệ nữa thì có thai không ạ? Mong bác sĩ tư vấn. Xin cảm ơn. Sau 2 ngày em quan hệ. Mới uống thuốc tránh thai khẩn cấp. Tối lại quan hệ tiếp thì liệu có cần phải uống thêm thuốc tránh thai nữa không ạ? Mong bác sĩ tư vấn. Xin cảm ơn Phạm Thủy (2000) Bác sĩ ơi cháu và bạn trai quan hệ ba ngày liên tục cháu uống thuốc tránh thai khẩn cấp ngày thứ nhất. This instance will be ignored in loss calculation. Note, if this happens often, consider increasing the `max_length`.\n",
      "  warnings.warn(\n",
      "c:\\Users\\Admin\\miniconda3\\envs\\tf-gpu\\lib\\site-packages\\trl\\trainer\\utils.py:145: UserWarning: Could not find response key `### Response:\n",
      "` in the following instance: ### Instruction:\n",
      "Hãy trả lời câu hỏi với mô tả sau.\n",
      "\n",
      "### Input:\n",
      "Cho em hỏi sau khi quan hệ không bảo vệ em đã dùng thuốc tránh thai, nhưng thời gian cũng không lâu trong ngày hôm đó, em lại quan hệ không bảo vệ lần nữa, vậy thuốc tránh thai ban đầu em dùng có tác dụng với lần sau không ạ? Thanh Thúy (1996) tôi muốn hỏi sau 10 ngày quan hệ còn có thể uống thuốc tránh thai được không ạ? Mong bác sĩ tư vấn giúp tôi, cảm ơn bác sĩ. Cho em hỏi là em quan hệ tới giờ đã 5 ngày. Có loại thuốc tránh thai nào dùng được cho trường hợp của em nữa không ạ, em chưa muốn có con giờ. Cảm ơn bác sĩ Em có uống thuốc tránh thai 72h vào ngày 4/3 nhưng đến ngày 5/3 em quan hệ mà không dùng biện pháp tránh thai thì khả năng có thai cao không ạ. Cảm ơn bác sĩ! Em uống thuốc tránh thai khẩn cấp loại 72h và quan hệ không an toàn sau đó 1 ngày thì có dễ mang thai không ạ. Cảm ơn bác sĩ. Lần đầu quan hệ cháu làm rách bao cao su nên đã uống thuốc tránh thai khẩn cấp. Ngày hôm sau vẫn bị trường hợp như vậy nhưng cháu không dùng thuốc tránh thai nữa thì liệu có khả năng mang thai không ạ? Cảm ơn bác sĩ. Cho tôi hỏi ạ: hôm nay tôi có quan hệ xong có uống thuốc tránh thai cấp tốc, rồi ngày mai tôi vẫn quan hệ. Cho tôi hỏi có thể dính bầu không ạ. Ngày đầu tiên quan hệ trúng ngày rụng trứng luôn ạ. Cảm ơn bác sĩ. Vợ mình dùng thuốc tránh thai khẩn cấp 2 ngày trước ngày thứ 3 mình quan hệ không dùng bao cao su thì có khả năng mang thai không ạ? Cảm ơn bác sĩ. Em và bạn trai quan hệ với nhau 1 tuần em có uống thuốc tránh thai 1 lần. Em đã uống 5 lần, mà đã đến kỳ kinh nguyệt vẫn chưa có kinh nguyệt thì cho em hỏi như vậy có sao không vậy? Cảm ơn bác sĩ. cho em hỏi em có uống thuốc tránh thai 72 giờ, sau hai ngày em quan hệ tiếp em không dùng biện pháp gì bảo vệ vậy thuốc còn có tác dụng không ạ. bác sĩ. Dương Thị Thảo (1990) Sau khi uống thuốc ngừa thai cấp tốc 24h thì trong 24h vừa uống xong, em có thể quan hệ mà không cần biện pháp phòng tránh không ạ? Cảm ơn bác sĩ. Con muốn bác tư vấn cho cháu với. Sau 3 ngày quan hệ con đã dùng viên tránh thai khẩn cấp nhưng sau đêm thứ 3 đó chồng con lại xịt vào trong liệu có dính không ạ? Con cảm ơn ạ. Em uống thuốc tránh thai 72 giờ sau khi quan hệ đến ngày thứ 3 lại quan hệ tiếp không bảo vệ nhưng khi quan hệ lại vào lúc thuốc hết tác dụng 72 giờ tức là qua 72 giờ tầm 1 tiếng thì liệu có thai không ạ? Mong bác sĩ tư vấn giúp em ạ. Cảm ơn bác sĩ. Em quan hệ với bạn em uống thuốc tránh thai khẩn cấp sau quan hệ lần 1. Lần 2 em uống thêm 1 lần nữa cách lần 1, 8 tiếng liệu thuốc có tác dụng không ạ. Tụi em không dùng bao, bạn em xuất ra ngoài! Mong bác sĩ tư vấn giúp em với ạ. Sau khi quan hệ lần đầu, em uống thuốc tránh thai khẩn cấp, nhưng sau đó 1 tuần em lại quan hệ không dùng biện pháp gì cả, sau 1 tuần liệu thuốc còn tác dụng nữa không ạ bác sĩ. Mong bác sĩ tư vấn giúp em. Dạ là khi nào thì dùng thuốc tránh thai khẩn cấp và dùng luôn hay sau bao nhiêu giờ ạ? Mong bác sĩ tư vấn giúp em ạ. Nguyễn Văn Hùng (1998) Uống 2 viên thuốc tránh thai 1 tháng có làm sao không ạ. Mong bác sĩ giải đáp giúp em. Cảm ơn bác sĩ tư vấn. Hôm đó em uống rượu say. Em và người yêu của em có quan hệ. Nhưng chỉ 1 lần rồi 4 ngày sau em mới mua thuốc tránh thai khẩn cấp uống. Nhưng sau hôm quan hệ đó thì ngày nào em cũng uống rượu. Liệu rằng em có thụ thai không ạ. Em lo quá. Lúc quan hệ thì em hết kinh được 10 ngày ạ. Mong bác sĩ trả lời giúp. Xin cảm ơn. em nghe được thông tin uống thuốc tránh thai tháng không quá 2 viên, 1 năm không quá 3 viên đúng không ạ, uống 4 viên 1 năm thì ảnh hưởng ra sao? Có thể cho em xin tài liệu tham khảo không! Cảm ơn bác sĩ. Tối trước 2 vợ chồng em quan hệ không an toàn. Sáng sớm đã uống thuốc. Thưa ông xã không kìm chế được do mới đi xa về. Vậy có cần uống thêm thuốc không ạ ( e uống loại 1 viên ). Mong bác sĩ tư vấn. Dạ. Dùng thuốc tránh thai 120h thì sau khi dùng vẫn trong khoảng thời gian của thuốc mình vẫn quan hệ thì có phải uống thêm thuốc không ạ. Sau mỗi ngày quan hệ em. This instance will be ignored in loss calculation. Note, if this happens often, consider increasing the `max_length`.\n",
      "  warnings.warn(\n",
      "c:\\Users\\Admin\\miniconda3\\envs\\tf-gpu\\lib\\site-packages\\trl\\trainer\\utils.py:145: UserWarning: Could not find response key `### Response:\n",
      "` in the following instance: ### Instruction:\n",
      "Hãy trả lời câu hỏi với mô tả sau.\n",
      "\n",
      "### Input:\n",
      "Em năm nay 23t. Cao 1m67 nặng 47kg. Tuy ốm nhưng ít khi bệnh vặt và cũng khỏe.. Vào khoảng tháng 3 em có dùng chất kích thích nhiều khi đi chơi bar cùng bạn bè. Cụ thể 15 ngày liên tiếp, các chất em dùng là thuốc lắc dạng viên nén, ketamin dạng bột hít bằng mủi. sau đó khi đi đường đột nhiên em bị khó thở và tim đập nhanh và người cảm giác như muốn gục xuống. Nhưng em vẫn đủ bình tỉnh để dắt xe vao lê đường và băt taxi đi bênh viện. sau khi nhâp viện các bác sĩ siêu âm và sét nhiệm tất cả thì em không bị gì cả. Và điều trị băng phương pháp truyền đạm và điện giải khoảng 15 đến 20 ngày, trong khoang thơi gian này vào ban ngày em rất tỉnh táo, nhưng vao buôi tối em bị khó thở cảm giác thở nhưng không đủ oxy ngợp thở nên phải thở bằng bình oxy, rất dể cáu gắt với người thân. Sau khi xuất viện vẫn còn tình trạng trên nhưng em nổ lực thể dục thì cũng hết dần. Một thời gian sau khoang thang 5 em đang đi ăn cùng bạn bè rất bình thường đột nhiên chân tay em lạnh buốt, người cảm giác run rẩy, tim đập nhanh, sợ hải,. Cứ như vậy nhập viện thêm 3 4 lần nửa, nhưng khi lên đến bệnh viện thì lại hết. Tháng 6 em đi tp hcm set nghiệm tổng quát, trước khi đi người rất binh thường, khi lên tàu năm đến 1h thì bổng dưng nghĩ vu vơ, sợ hải mình bị gì đó, tim đap nhanh, chân tay lạnh, phải dừng tau lại nhâp viện bv long khánh. Sau đó nhập viện đai học y dược tp hcm. Sau khi nhâp viên dh y dược 1 tuần, set nghiệm điện não, tim, v.v em hoan toan binh thường. Các bác sĩ kêt luân em bị rối loạn hoãng loạn, và cho thuốc về uống gồm các thuốc an thần và thuốc ngủ. Nhưng càng uống em cảm thấy càng mẹt.mỏi, ủe oải hơn trước kia. Em quyêt đinh ngưng không dung thuôc nưa thì lai binh thuong Sau đó em đi bệnh viện tâm thần tp hcm. Các bác sĩ trac nhiêm tâm.ly v.v thi kêt luân em bị rối loạn loạn thần, nên kê đơn thuốc gồm sullivan và milgamma mono. Em uông 2 loai thuốc này thi cam thấy mình khỏe hơn, ít lo âu suy nghĩ vu vơ hơn và trở lai vơi con ngươi cua mình như. This instance will be ignored in loss calculation. Note, if this happens often, consider increasing the `max_length`.\n",
      "  warnings.warn(\n",
      "c:\\Users\\Admin\\miniconda3\\envs\\tf-gpu\\lib\\site-packages\\trl\\trainer\\utils.py:145: UserWarning: Could not find response key `### Response:\n",
      "` in the following instance: ### Instruction:\n",
      "Hãy trả lời câu hỏi với mô tả sau.\n",
      "\n",
      "### Input:\n",
      "Em năm nay 23t. Cao 1m67 nặng 47kg. Tuy ốm nhưng ít khi bệnh vặt và cũng khỏe.. Vào khoảng tháng 3 em có dùng chất kích thích nhiều khi đi chơi bar cùng bạn bè. Cụ thể 15 ngày liên tiếp, các chất em dùng là thuốc lắc dạng viên nén, ketamin dạng bột hít bằng mủi. sau đó khi đi đường đột nhiên em bị khó thở và tim đập nhanh và người cảm giác như muốn gục xuống. Nhưng em vẫn đủ bình tỉnh để dắt xe vao lê đường và băt taxi đi bênh viện. sau khi nhâp viện các bác sĩ siêu âm và sét nhiệm tất cả thì em không bị gì cả. Và điều trị băng phương pháp truyền đạm và điện giải khoảng 15 đến 20 ngày, trong khoang thơi gian này vào ban ngày em rất tỉnh táo, nhưng vao buôi tối em bị khó thở cảm giác thở nhưng không đủ oxy ngợp thở nên phải thở bằng bình oxy, rất dể cáu gắt với người thân. Sau khi xuất viện vẫn còn tình trạng trên nhưng em nổ lực thể dục thì cũng hết dần. Một thời gian sau khoang thang 5 em đang đi ăn cùng bạn bè rất bình thường đột nhiên chân tay em lạnh buốt, người cảm giác run rẩy, tim đập nhanh, sợ hải,. Cứ như vậy nhập viện thêm 3 4 lần nửa, nhưng khi lên đến bệnh viện thì lại hết. Tháng 6 em đi tp hcm set nghiệm tổng quát, trước khi đi người rất binh thường, khi lên tàu năm đến 1h thì bổng dưng nghĩ vu vơ, sợ hải mình bị gì đó, tim đap nhanh, chân tay lạnh, phải dừng tau lại nhâp viện bv long khánh. Sau đó nhập viện đai học y dược tp hcm. Sau khi nhâp viên dh y dược 1 tuần, set nghiệm điện não, tim, v.v em hoan toan binh thường. Các bác sĩ kêt luân em bị rối loạn hoãng loạn, và cho thuốc về uống gồm các thuốc an thần và thuốc ngủ. Nhưng càng uống em cảm thấy càng mẹt.mỏi, ủe oải hơn trước kia. Em quyêt đinh ngưng không dung thuôc nưa thì lai binh thuong Sau đó em đi bệnh viện tâm thần tp hcm. Các bác sĩ trac nhiêm tâm.ly v.v thi kêt luân em bị rối loạn loạn thần, nên kê đơn thuốc gồm sullivan và milgamma mono. Em uông 2 loai thuốc này thi cam thấy mình khỏe hơn, ít lo âu suy nghĩ vu vơ hơn và trở lai vơi con ngươi cua mình như. This instance will be ignored in loss calculation. Note, if this happens often, consider increasing the `max_length`.\n",
      "  warnings.warn(\n",
      "c:\\Users\\Admin\\miniconda3\\envs\\tf-gpu\\lib\\site-packages\\trl\\trainer\\utils.py:145: UserWarning: Could not find response key `### Response:\n",
      "` in the following instance: ### Instruction:\n",
      "Hãy trả lời câu hỏi với mô tả sau.\n",
      "\n",
      "### Input:\n",
      "Cho em hỏi sau khi quan hệ không bảo vệ em đã dùng thuốc tránh thai, nhưng thời gian cũng không lâu trong ngày hôm đó, em lại quan hệ không bảo vệ lần nữa, vậy thuốc tránh thai ban đầu em dùng có tác dụng với lần sau không ạ? Thanh Thúy (1996) tôi muốn hỏi sau 10 ngày quan hệ còn có thể uống thuốc tránh thai được không ạ? Mong bác sĩ tư vấn giúp tôi, cảm ơn bác sĩ. Cho em hỏi là em quan hệ tới giờ đã 5 ngày. Có loại thuốc tránh thai nào dùng được cho trường hợp của em nữa không ạ, em chưa muốn có con giờ. Cảm ơn bác sĩ Em có uống thuốc tránh thai 72h vào ngày 4/3 nhưng đến ngày 5/3 em quan hệ mà không dùng biện pháp tránh thai thì khả năng có thai cao không ạ. Cảm ơn bác sĩ! Em uống thuốc tránh thai khẩn cấp loại 72h và quan hệ không an toàn sau đó 1 ngày thì có dễ mang thai không ạ. Cảm ơn bác sĩ. Lần đầu quan hệ cháu làm rách bao cao su nên đã uống thuốc tránh thai khẩn cấp. Ngày hôm sau vẫn bị trường hợp như vậy nhưng cháu không dùng thuốc tránh thai nữa thì liệu có khả năng mang thai không ạ? Cảm ơn bác sĩ. Cho tôi hỏi ạ: hôm nay tôi có quan hệ xong có uống thuốc tránh thai cấp tốc, rồi ngày mai tôi vẫn quan hệ. Cho tôi hỏi có thể dính bầu không ạ. Ngày đầu tiên quan hệ trúng ngày rụng trứng luôn ạ. Cảm ơn bác sĩ. Vợ mình dùng thuốc tránh thai khẩn cấp 2 ngày trước ngày thứ 3 mình quan hệ không dùng bao cao su thì có khả năng mang thai không ạ? Cảm ơn bác sĩ. Em và bạn trai quan hệ với nhau 1 tuần em có uống thuốc tránh thai 1 lần. Em đã uống 5 lần, mà đã đến kỳ kinh nguyệt vẫn chưa có kinh nguyệt thì cho em hỏi như vậy có sao không vậy? Cảm ơn bác sĩ. cho em hỏi em có uống thuốc tránh thai 72 giờ, sau hai ngày em quan hệ tiếp em không dùng biện pháp gì bảo vệ vậy thuốc còn có tác dụng không ạ. bác sĩ. Dương Thị Thảo (1990) Sau khi uống thuốc ngừa thai cấp tốc 24h thì trong 24h vừa uống xong, em có thể quan hệ mà không cần biện pháp phòng tránh không ạ? Cảm ơn bác sĩ. Con muốn bác tư vấn cho cháu với. Sau 3 ngày quan hệ con đã dùng viên tránh thai khẩn cấp nhưng sau đêm thứ 3 đó chồng con lại xịt vào trong liệu có dính không ạ? Con cảm ơn ạ. Em uống thuốc tránh thai 72 giờ sau khi quan hệ đến ngày thứ 3 lại quan hệ tiếp không bảo vệ nhưng khi quan hệ lại vào lúc thuốc hết tác dụng 72 giờ tức là qua 72 giờ tầm 1 tiếng thì liệu có thai không ạ? Mong bác sĩ tư vấn giúp em ạ. Cảm ơn bác sĩ. Em quan hệ với bạn em uống thuốc tránh thai khẩn cấp sau quan hệ lần 1. Lần 2 em uống thêm 1 lần nữa cách lần 1, 8 tiếng liệu thuốc có tác dụng không ạ. Tụi em không dùng bao, bạn em xuất ra ngoài! Mong bác sĩ tư vấn giúp em với ạ. Sau khi quan hệ lần đầu, em uống thuốc tránh thai khẩn cấp, nhưng sau đó 1 tuần em lại quan hệ không dùng biện pháp gì cả, sau 1 tuần liệu thuốc còn tác dụng nữa không ạ bác sĩ. Mong bác sĩ tư vấn giúp em. Dạ là khi nào thì dùng thuốc tránh thai khẩn cấp và dùng luôn hay sau bao nhiêu giờ ạ? Mong bác sĩ tư vấn giúp em ạ. Nguyễn Văn Hùng (1998) Uống 2 viên thuốc tránh thai 1 tháng có làm sao không ạ. Mong bác sĩ giải đáp giúp em. Cảm ơn bác sĩ tư vấn. Hôm đó em uống rượu say. Em và người yêu của em có quan hệ. Nhưng chỉ 1 lần rồi 4 ngày sau em mới mua thuốc tránh thai khẩn cấp uống. Nhưng sau hôm quan hệ đó thì ngày nào em cũng uống rượu. Liệu rằng em có thụ thai không ạ. Em lo quá. Lúc quan hệ thì em hết kinh được 10 ngày ạ. Mong bác sĩ trả lời giúp. Xin cảm ơn. em nghe được thông tin uống thuốc tránh thai tháng không quá 2 viên, 1 năm không quá 3 viên đúng không ạ, uống 4 viên 1 năm thì ảnh hưởng ra sao? Có thể cho em xin tài liệu tham khảo không! Cảm ơn bác sĩ. Tối trước 2 vợ chồng em quan hệ không an toàn. Sáng sớm đã uống thuốc. Thưa ông xã không kìm chế được do mới đi xa về. Vậy có cần uống thêm thuốc không ạ ( e uống loại 1 viên ). Mong bác sĩ tư vấn. Dạ. Dùng thuốc tránh thai 120h thì sau khi dùng vẫn trong khoảng thời gian của thuốc mình vẫn quan hệ thì có phải uống thêm thuốc không ạ. Sau mỗi ngày quan hệ em. This instance will be ignored in loss calculation. Note, if this happens often, consider increasing the `max_length`.\n",
      "  warnings.warn(\n",
      "c:\\Users\\Admin\\miniconda3\\envs\\tf-gpu\\lib\\site-packages\\trl\\trainer\\utils.py:145: UserWarning: Could not find response key `### Response:\n",
      "` in the following instance: ### Instruction:\n",
      "Hãy trả lời câu hỏi với mô tả sau.\n",
      "\n",
      "### Input:\n",
      "Cho em hỏi, em quan hệ xong uống thuốc tránh thai khẩn cấp, rồi lại quan hệ tiếp nữa mà lần sau tụi em dùng đồ tránh vậy có thai không ạ? Nguyễn Minh Thư (1987) nếu như hôm trước sau khi quan hệ có xuất tinh trong âm đạo em đã uống thuốc tránh thai khẩn cấp, hôm nay cũng quan hệ và xuất tinh trong nhưng không uống thuốc nữa thì thuốc hôm qua còn tác dụng không ạ? Có bao nhiêu phần trăm dính bầu ạ? Mong bác sĩ tư vấn, em xin cảm ơn. Thưa bác sĩ, khoảng 2 ngày trước em có quan hệ và sử dụng thuốc tránh thai khẩn cấp 120h (đây là lần đầu tiên uống thuốc) và khoảng 2 ngày sau có quan hệ lại thì có phải uống thuốc nữa không ( trong lúc quan hệ không dùng biện pháp an toàn nhưng có cho ra ngoài ). Cảm ơn bác sĩ. em quan hệ không dùng bao nhưng đã uống thuốc tránh thai 48h. Không xuất trong. Và hôm sau em quan hệ không bao không xuất trong như thế thì cần uống thêm thuốc không ạ. Mong bác sĩ trả lời giúp em. Cho em hỏi em hết kinh được 14 ngày rồi quan hệ không an toàn với chồng, em đã dùng thuốc tránh thai khẩn cấp 1 lần nhưng em lại quan hệ với chồng vào vài ngày sau. Như vậy em có tránh thai được không? Có cần uống thuốc tránh thai khẩn cấp nữa không? Cảm ơn bác sĩ. Tiếp tục quan hệ sau khi uống thuốc tránh thai có thai không bác sĩ. Mong bác sĩ tư vấn giúp ạ. Cảm ơn bác sĩ. Dạ Em có thắc mắc muốn hỏi ạ. Nếu như hôm qua em quan hệ buổi trưa, tối về khoảng 10h em uống 1 viên khẩn cấp 72 giờ. Rồi tối hôm nay em quan hệ không có biện pháp tránh thai an toàn thì viên thuốc em uống tối hôm trước có còn tác dụng ngừa thai hay không ạ? Bây giờ em có cần phải uống thêm 1 viên nữa hay không ạ. bác sĩ. Em vừa uống tránh thai hôm qua hôm nay có quan hệ bắn vào trong thì có nên uống thuốc lại không? Mong bác sĩ tư vấn giúp em ạ. vợ chồng em vừa quan hệ xong, em uống thuốc tránh thai khẩn cấp ngay sau đó 15 phút. Vậy 1 hoặc 2 ngày sau bọn em lại quan hệ không dùng biện pháp bảo vệ thì có khả năng mang thai không ạ? là em uống thuốc tránh thai khẩn cấp sau quan hệ, 9 tiếng sau em lại quan hệ tiếp thì có sao không ạ. Cảm ơn bác sĩ. Bác sĩ ơi người yêu của cháu uống thuốc tránh thai trước khi quan hệ 2 ngày thì thuốc có còn tác dục không ạ, bạn gái cháu dùng loại thuốc tránh thai khẩn cấp. ạ! Cho em hỏi là cách đây 1 ngày em và bạn trai có quan hệ mà không sử dụng biện pháp phòng bị nào. Sau khi quan hệ em đã uống thuốc tránh thai khẩn cấp trong vòng 24h. Và hôm nay em và bạn trai lại quan hệ cũng không sử dụng biện pháp phòng bị nào. Thì cho em hỏi là bây giờ uống thuốc tránh thai tiếp có được không ạ? Mong bác sĩ tư vấn. Em uống thuốc tránh thai khẩn cấp từ lúc 7h tối thì lúc nào mới hết hiệu lực ạ? Mong bác sĩ tư vấn. Xin cảm ơn. Lê Thị Kim Thanh (1999) Cho em hỏi sau khi dùng thuốc ngừa thai sau 3 tiếng em lại quan hệ với bạn nữ em lỡ xuất tiếp vào trong thì có bị dính bầu không ạ? Mong bác sĩ tư vấn. Xin cảm ơn. Sau khi quan hệ không biện pháp bảo vệ em có dùng thuốc 120h và có quan hệ thêm một lần nữa nhưng khi xuất tinh thì có mang thai không ạ có cần uống thêm viên nữa không ạ? Mong bác sĩ tư vấn. Xin cảm ơn. Em có dùng thuốc 72h nhưng đến giờ thứ 48 em mới quan hệ thì có dính thai hay không, nếu dính thai em phải sao, em không muốn sinh con. Mong bác sĩ tư vấn. Xin cảm ơn. Hai hôm liên tục quan hệ hôm trước có uống thuốc tránh thai khẩn cấp. Nhưng hôm sau không uống có thể có thai không ạ? Mong bác sĩ tư vấn. Xin cảm ơn. Uống thuốc tránh thai 24h xong quan hệ tiếp chưa hết 24h có phải uống tiếp không ạ bác sĩ? Mong bác sĩ tư vấn. Xin cảm ơn. em và bạn trai có quan hệ không an toàn, sau đó em có uống thuốc tránh thai khẩn cấp, sau 12 nếu có quan hệ nữa thì có thai không ạ? Mong bác sĩ tư vấn. Xin cảm ơn. Sau 2 ngày em quan hệ. Mới uống thuốc tránh thai khẩn cấp. Tối lại quan hệ tiếp thì liệu có cần phải uống thêm thuốc tránh thai nữa không ạ? Mong bác sĩ tư vấn. Xin cảm ơn Phạm Thủy (2000) Bác sĩ ơi cháu và bạn trai quan hệ ba ngày liên tục cháu uống thuốc tránh thai khẩn cấp ngày thứ nhất. This instance will be ignored in loss calculation. Note, if this happens often, consider increasing the `max_length`.\n",
      "  warnings.warn(\n",
      "c:\\Users\\Admin\\miniconda3\\envs\\tf-gpu\\lib\\site-packages\\trl\\trainer\\utils.py:145: UserWarning: Could not find response key `### Response:\n",
      "` in the following instance: ### Instruction:\n",
      "Hãy trả lời câu hỏi với mô tả sau.\n",
      "\n",
      "### Input:\n",
      "Cho em hỏi, em quan hệ xong uống thuốc tránh thai khẩn cấp, rồi lại quan hệ tiếp nữa mà lần sau tụi em dùng đồ tránh vậy có thai không ạ? Nguyễn Minh Thư (1987) nếu như hôm trước sau khi quan hệ có xuất tinh trong âm đạo em đã uống thuốc tránh thai khẩn cấp, hôm nay cũng quan hệ và xuất tinh trong nhưng không uống thuốc nữa thì thuốc hôm qua còn tác dụng không ạ? Có bao nhiêu phần trăm dính bầu ạ? Mong bác sĩ tư vấn, em xin cảm ơn. Thưa bác sĩ, khoảng 2 ngày trước em có quan hệ và sử dụng thuốc tránh thai khẩn cấp 120h (đây là lần đầu tiên uống thuốc) và khoảng 2 ngày sau có quan hệ lại thì có phải uống thuốc nữa không ( trong lúc quan hệ không dùng biện pháp an toàn nhưng có cho ra ngoài ). Cảm ơn bác sĩ. em quan hệ không dùng bao nhưng đã uống thuốc tránh thai 48h. Không xuất trong. Và hôm sau em quan hệ không bao không xuất trong như thế thì cần uống thêm thuốc không ạ. Mong bác sĩ trả lời giúp em. Cho em hỏi em hết kinh được 14 ngày rồi quan hệ không an toàn với chồng, em đã dùng thuốc tránh thai khẩn cấp 1 lần nhưng em lại quan hệ với chồng vào vài ngày sau. Như vậy em có tránh thai được không? Có cần uống thuốc tránh thai khẩn cấp nữa không? Cảm ơn bác sĩ. Tiếp tục quan hệ sau khi uống thuốc tránh thai có thai không bác sĩ. Mong bác sĩ tư vấn giúp ạ. Cảm ơn bác sĩ. Dạ Em có thắc mắc muốn hỏi ạ. Nếu như hôm qua em quan hệ buổi trưa, tối về khoảng 10h em uống 1 viên khẩn cấp 72 giờ. Rồi tối hôm nay em quan hệ không có biện pháp tránh thai an toàn thì viên thuốc em uống tối hôm trước có còn tác dụng ngừa thai hay không ạ? Bây giờ em có cần phải uống thêm 1 viên nữa hay không ạ. bác sĩ. Em vừa uống tránh thai hôm qua hôm nay có quan hệ bắn vào trong thì có nên uống thuốc lại không? Mong bác sĩ tư vấn giúp em ạ. vợ chồng em vừa quan hệ xong, em uống thuốc tránh thai khẩn cấp ngay sau đó 15 phút. Vậy 1 hoặc 2 ngày sau bọn em lại quan hệ không dùng biện pháp bảo vệ thì có khả năng mang thai không ạ? là em uống thuốc tránh thai khẩn cấp sau quan hệ, 9 tiếng sau em lại quan hệ tiếp thì có sao không ạ. Cảm ơn bác sĩ. Bác sĩ ơi người yêu của cháu uống thuốc tránh thai trước khi quan hệ 2 ngày thì thuốc có còn tác dục không ạ, bạn gái cháu dùng loại thuốc tránh thai khẩn cấp. ạ! Cho em hỏi là cách đây 1 ngày em và bạn trai có quan hệ mà không sử dụng biện pháp phòng bị nào. Sau khi quan hệ em đã uống thuốc tránh thai khẩn cấp trong vòng 24h. Và hôm nay em và bạn trai lại quan hệ cũng không sử dụng biện pháp phòng bị nào. Thì cho em hỏi là bây giờ uống thuốc tránh thai tiếp có được không ạ? Mong bác sĩ tư vấn. Em uống thuốc tránh thai khẩn cấp từ lúc 7h tối thì lúc nào mới hết hiệu lực ạ? Mong bác sĩ tư vấn. Xin cảm ơn. Lê Thị Kim Thanh (1999) Cho em hỏi sau khi dùng thuốc ngừa thai sau 3 tiếng em lại quan hệ với bạn nữ em lỡ xuất tiếp vào trong thì có bị dính bầu không ạ? Mong bác sĩ tư vấn. Xin cảm ơn. Sau khi quan hệ không biện pháp bảo vệ em có dùng thuốc 120h và có quan hệ thêm một lần nữa nhưng khi xuất tinh thì có mang thai không ạ có cần uống thêm viên nữa không ạ? Mong bác sĩ tư vấn. Xin cảm ơn. Em có dùng thuốc 72h nhưng đến giờ thứ 48 em mới quan hệ thì có dính thai hay không, nếu dính thai em phải sao, em không muốn sinh con. Mong bác sĩ tư vấn. Xin cảm ơn. Hai hôm liên tục quan hệ hôm trước có uống thuốc tránh thai khẩn cấp. Nhưng hôm sau không uống có thể có thai không ạ? Mong bác sĩ tư vấn. Xin cảm ơn. Uống thuốc tránh thai 24h xong quan hệ tiếp chưa hết 24h có phải uống tiếp không ạ bác sĩ? Mong bác sĩ tư vấn. Xin cảm ơn. em và bạn trai có quan hệ không an toàn, sau đó em có uống thuốc tránh thai khẩn cấp, sau 12 nếu có quan hệ nữa thì có thai không ạ? Mong bác sĩ tư vấn. Xin cảm ơn. Sau 2 ngày em quan hệ. Mới uống thuốc tránh thai khẩn cấp. Tối lại quan hệ tiếp thì liệu có cần phải uống thêm thuốc tránh thai nữa không ạ? Mong bác sĩ tư vấn. Xin cảm ơn Phạm Thủy (2000) Bác sĩ ơi cháu và bạn trai quan hệ ba ngày liên tục cháu uống thuốc tránh thai khẩn cấp ngày thứ nhất. This instance will be ignored in loss calculation. Note, if this happens often, consider increasing the `max_length`.\n",
      "  warnings.warn(\n",
      "c:\\Users\\Admin\\miniconda3\\envs\\tf-gpu\\lib\\site-packages\\trl\\trainer\\utils.py:145: UserWarning: Could not find response key `### Response:\n",
      "` in the following instance: ### Instruction:\n",
      "Hãy trả lời câu hỏi với mô tả sau.\n",
      "\n",
      "### Input:\n",
      "Em năm nay 23t. Cao 1m67 nặng 47kg. Tuy ốm nhưng ít khi bệnh vặt và cũng khỏe.. Vào khoảng tháng 3 em có dùng chất kích thích nhiều khi đi chơi bar cùng bạn bè. Cụ thể 15 ngày liên tiếp, các chất em dùng là thuốc lắc dạng viên nén, ketamin dạng bột hít bằng mủi. sau đó khi đi đường đột nhiên em bị khó thở và tim đập nhanh và người cảm giác như muốn gục xuống. Nhưng em vẫn đủ bình tỉnh để dắt xe vao lê đường và băt taxi đi bênh viện. sau khi nhâp viện các bác sĩ siêu âm và sét nhiệm tất cả thì em không bị gì cả. Và điều trị băng phương pháp truyền đạm và điện giải khoảng 15 đến 20 ngày, trong khoang thơi gian này vào ban ngày em rất tỉnh táo, nhưng vao buôi tối em bị khó thở cảm giác thở nhưng không đủ oxy ngợp thở nên phải thở bằng bình oxy, rất dể cáu gắt với người thân. Sau khi xuất viện vẫn còn tình trạng trên nhưng em nổ lực thể dục thì cũng hết dần. Một thời gian sau khoang thang 5 em đang đi ăn cùng bạn bè rất bình thường đột nhiên chân tay em lạnh buốt, người cảm giác run rẩy, tim đập nhanh, sợ hải,. Cứ như vậy nhập viện thêm 3 4 lần nửa, nhưng khi lên đến bệnh viện thì lại hết. Tháng 6 em đi tp hcm set nghiệm tổng quát, trước khi đi người rất binh thường, khi lên tàu năm đến 1h thì bổng dưng nghĩ vu vơ, sợ hải mình bị gì đó, tim đap nhanh, chân tay lạnh, phải dừng tau lại nhâp viện bv long khánh. Sau đó nhập viện đai học y dược tp hcm. Sau khi nhâp viên dh y dược 1 tuần, set nghiệm điện não, tim, v.v em hoan toan binh thường. Các bác sĩ kêt luân em bị rối loạn hoãng loạn, và cho thuốc về uống gồm các thuốc an thần và thuốc ngủ. Nhưng càng uống em cảm thấy càng mẹt.mỏi, ủe oải hơn trước kia. Em quyêt đinh ngưng không dung thuôc nưa thì lai binh thuong Sau đó em đi bệnh viện tâm thần tp hcm. Các bác sĩ trac nhiêm tâm.ly v.v thi kêt luân em bị rối loạn loạn thần, nên kê đơn thuốc gồm sullivan và milgamma mono. Em uông 2 loai thuốc này thi cam thấy mình khỏe hơn, ít lo âu suy nghĩ vu vơ hơn và trở lai vơi con ngươi cua mình như. This instance will be ignored in loss calculation. Note, if this happens often, consider increasing the `max_length`.\n",
      "  warnings.warn(\n",
      "c:\\Users\\Admin\\miniconda3\\envs\\tf-gpu\\lib\\site-packages\\trl\\trainer\\utils.py:145: UserWarning: Could not find response key `### Response:\n",
      "` in the following instance: ### Instruction:\n",
      "Hãy trả lời câu hỏi với mô tả sau.\n",
      "\n",
      "### Input:\n",
      "Cho em hỏi sau khi quan hệ không bảo vệ em đã dùng thuốc tránh thai, nhưng thời gian cũng không lâu trong ngày hôm đó, em lại quan hệ không bảo vệ lần nữa, vậy thuốc tránh thai ban đầu em dùng có tác dụng với lần sau không ạ? Thanh Thúy (1996) tôi muốn hỏi sau 10 ngày quan hệ còn có thể uống thuốc tránh thai được không ạ? Mong bác sĩ tư vấn giúp tôi, cảm ơn bác sĩ. Cho em hỏi là em quan hệ tới giờ đã 5 ngày. Có loại thuốc tránh thai nào dùng được cho trường hợp của em nữa không ạ, em chưa muốn có con giờ. Cảm ơn bác sĩ Em có uống thuốc tránh thai 72h vào ngày 4/3 nhưng đến ngày 5/3 em quan hệ mà không dùng biện pháp tránh thai thì khả năng có thai cao không ạ. Cảm ơn bác sĩ! Em uống thuốc tránh thai khẩn cấp loại 72h và quan hệ không an toàn sau đó 1 ngày thì có dễ mang thai không ạ. Cảm ơn bác sĩ. Lần đầu quan hệ cháu làm rách bao cao su nên đã uống thuốc tránh thai khẩn cấp. Ngày hôm sau vẫn bị trường hợp như vậy nhưng cháu không dùng thuốc tránh thai nữa thì liệu có khả năng mang thai không ạ? Cảm ơn bác sĩ. Cho tôi hỏi ạ: hôm nay tôi có quan hệ xong có uống thuốc tránh thai cấp tốc, rồi ngày mai tôi vẫn quan hệ. Cho tôi hỏi có thể dính bầu không ạ. Ngày đầu tiên quan hệ trúng ngày rụng trứng luôn ạ. Cảm ơn bác sĩ. Vợ mình dùng thuốc tránh thai khẩn cấp 2 ngày trước ngày thứ 3 mình quan hệ không dùng bao cao su thì có khả năng mang thai không ạ? Cảm ơn bác sĩ. Em và bạn trai quan hệ với nhau 1 tuần em có uống thuốc tránh thai 1 lần. Em đã uống 5 lần, mà đã đến kỳ kinh nguyệt vẫn chưa có kinh nguyệt thì cho em hỏi như vậy có sao không vậy? Cảm ơn bác sĩ. cho em hỏi em có uống thuốc tránh thai 72 giờ, sau hai ngày em quan hệ tiếp em không dùng biện pháp gì bảo vệ vậy thuốc còn có tác dụng không ạ. bác sĩ. Dương Thị Thảo (1990) Sau khi uống thuốc ngừa thai cấp tốc 24h thì trong 24h vừa uống xong, em có thể quan hệ mà không cần biện pháp phòng tránh không ạ? Cảm ơn bác sĩ. Con muốn bác tư vấn cho cháu với. Sau 3 ngày quan hệ con đã dùng viên tránh thai khẩn cấp nhưng sau đêm thứ 3 đó chồng con lại xịt vào trong liệu có dính không ạ? Con cảm ơn ạ. Em uống thuốc tránh thai 72 giờ sau khi quan hệ đến ngày thứ 3 lại quan hệ tiếp không bảo vệ nhưng khi quan hệ lại vào lúc thuốc hết tác dụng 72 giờ tức là qua 72 giờ tầm 1 tiếng thì liệu có thai không ạ? Mong bác sĩ tư vấn giúp em ạ. Cảm ơn bác sĩ. Em quan hệ với bạn em uống thuốc tránh thai khẩn cấp sau quan hệ lần 1. Lần 2 em uống thêm 1 lần nữa cách lần 1, 8 tiếng liệu thuốc có tác dụng không ạ. Tụi em không dùng bao, bạn em xuất ra ngoài! Mong bác sĩ tư vấn giúp em với ạ. Sau khi quan hệ lần đầu, em uống thuốc tránh thai khẩn cấp, nhưng sau đó 1 tuần em lại quan hệ không dùng biện pháp gì cả, sau 1 tuần liệu thuốc còn tác dụng nữa không ạ bác sĩ. Mong bác sĩ tư vấn giúp em. Dạ là khi nào thì dùng thuốc tránh thai khẩn cấp và dùng luôn hay sau bao nhiêu giờ ạ? Mong bác sĩ tư vấn giúp em ạ. Nguyễn Văn Hùng (1998) Uống 2 viên thuốc tránh thai 1 tháng có làm sao không ạ. Mong bác sĩ giải đáp giúp em. Cảm ơn bác sĩ tư vấn. Hôm đó em uống rượu say. Em và người yêu của em có quan hệ. Nhưng chỉ 1 lần rồi 4 ngày sau em mới mua thuốc tránh thai khẩn cấp uống. Nhưng sau hôm quan hệ đó thì ngày nào em cũng uống rượu. Liệu rằng em có thụ thai không ạ. Em lo quá. Lúc quan hệ thì em hết kinh được 10 ngày ạ. Mong bác sĩ trả lời giúp. Xin cảm ơn. em nghe được thông tin uống thuốc tránh thai tháng không quá 2 viên, 1 năm không quá 3 viên đúng không ạ, uống 4 viên 1 năm thì ảnh hưởng ra sao? Có thể cho em xin tài liệu tham khảo không! Cảm ơn bác sĩ. Tối trước 2 vợ chồng em quan hệ không an toàn. Sáng sớm đã uống thuốc. Thưa ông xã không kìm chế được do mới đi xa về. Vậy có cần uống thêm thuốc không ạ ( e uống loại 1 viên ). Mong bác sĩ tư vấn. Dạ. Dùng thuốc tránh thai 120h thì sau khi dùng vẫn trong khoảng thời gian của thuốc mình vẫn quan hệ thì có phải uống thêm thuốc không ạ. Sau mỗi ngày quan hệ em. This instance will be ignored in loss calculation. Note, if this happens often, consider increasing the `max_length`.\n",
      "  warnings.warn(\n"
     ]
    }
   ],
   "source": [
    "history = trainer.train()"
   ]
  },
  {
   "cell_type": "code",
   "execution_count": 18,
   "id": "77b58dbb",
   "metadata": {},
   "outputs": [],
   "source": [
    "torch.cuda.empty_cache()"
   ]
  },
  {
   "cell_type": "code",
   "execution_count": null,
   "id": "ae9230ce",
   "metadata": {},
   "outputs": [
    {
     "data": {
      "application/vnd.jupyter.widget-view+json": {
       "model_id": "09fcab701e2348e19d10968506816b15",
       "version_major": 2,
       "version_minor": 0
      },
      "text/plain": [
       "Upload 2 LFS files:   0%|          | 0/2 [00:00<?, ?it/s]"
      ]
     },
     "metadata": {},
     "output_type": "display_data"
    },
    {
     "data": {
      "application/vnd.jupyter.widget-view+json": {
       "model_id": "cac48da343fd4ae78dd3453b6d0f9a8a",
       "version_major": 2,
       "version_minor": 0
      },
      "text/plain": [
       "adapter_model.safetensors:   0%|          | 0.00/17.3M [00:00<?, ?B/s]"
      ]
     },
     "metadata": {},
     "output_type": "display_data"
    },
    {
     "data": {
      "application/vnd.jupyter.widget-view+json": {
       "model_id": "1206fb85d43841c98c1264e6f490c293",
       "version_major": 2,
       "version_minor": 0
      },
      "text/plain": [
       "training_args.bin:   0%|          | 0.00/5.56k [00:00<?, ?B/s]"
      ]
     },
     "metadata": {},
     "output_type": "display_data"
    },
    {
     "data": {
      "text/plain": [
       "CommitInfo(commit_url='https://huggingface.co/binhphap5/gpt2-vietnamese-medium-instruct-medical-qa/commit/54dcbfd826e405538f0a263c22b702cbe5c06b5d', commit_message='binhphap5/gpt2-vietnamese-medium-instruct-medical-qa', commit_description='', oid='54dcbfd826e405538f0a263c22b702cbe5c06b5d', pr_url=None, repo_url=RepoUrl('https://huggingface.co/binhphap5/gpt2-vietnamese-medium-instruct-medical-qa', endpoint='https://huggingface.co', repo_type='model', repo_id='binhphap5/gpt2-vietnamese-medium-instruct-medical-qa'), pr_revision=None, pr_num=None)"
      ]
     },
     "execution_count": 17,
     "metadata": {},
     "output_type": "execute_result"
    }
   ],
   "source": [
    "# push to hub\n",
    "trainer.push_to_hub(\"binhphap5/gpt2-vietnamese-medium-instruct-medical-qa\")"
   ]
  },
  {
   "cell_type": "code",
   "execution_count": 37,
   "id": "fe82153a",
   "metadata": {},
   "outputs": [
    {
     "name": "stdout",
     "output_type": "stream",
     "text": [
      "### Instruction:\n",
      "Hãy trả lời câu hỏi với mô tả sau.\n",
      "\n",
      "### Input:\n",
      "Cơ thể của tôi cảm thấy nhức khi ngủ dậy vào buổi sáng, đây có thể là triệu chứng gì?\n",
      "\n",
      "### Response:\n",
      "Với biểu hiện trên bạn nên khám bác sĩ chuyên khoa về thần kinh để xác định chính xác nguyên nhân và điều trị phù hợp!<|endoftext|>\n"
     ]
    }
   ],
   "source": [
    "template = \"\"\"### Instruction:\n",
    "Hãy trả lời câu hỏi với mô tả sau.\n",
    "\n",
    "### Input:\n",
    "{}\n",
    "\n",
    "### Response:\n",
    "{}\"\"\"\n",
    "\n",
    "input = 'Cơ thể của tôi cảm thấy nhức khi ngủ dậy vào buổi sáng, đây có thể là triệu chứng gì ?'\n",
    "response = ''\n",
    "prompt = template.format(input, response)\n",
    "\n",
    "model.eval()\n",
    "inputs = tokenizer(prompt, return_tensors=\"pt\").to(model.device)\n",
    "outputs = model.generate(\n",
    "    **inputs,\n",
    "    max_new_tokens=256,\n",
    "    do_sample=True,\n",
    "    temperature=0.7,\n",
    "    top_k=50,\n",
    "    top_p=0.95,\n",
    "    repetition_penalty=1.2,\n",
    "    eos_token_id=tokenizer.eos_token_id,\n",
    "    pad_token_id=tokenizer.pad_token_id,\n",
    ")\n",
    "print(tokenizer.decode(outputs[0], skip_special_tokens=False))"
   ]
  },
  {
   "cell_type": "code",
   "execution_count": 30,
   "id": "0bd495ba",
   "metadata": {},
   "outputs": [
    {
     "data": {
      "text/html": [
       "\n",
       "    <div>\n",
       "      \n",
       "      <progress value='117' max='117' style='width:300px; height:20px; vertical-align: middle;'></progress>\n",
       "      [117/117 00:04]\n",
       "    </div>\n",
       "    "
      ],
      "text/plain": [
       "<IPython.core.display.HTML object>"
      ]
     },
     "metadata": {},
     "output_type": "display_data"
    }
   ],
   "source": [
    "metrics = trainer.evaluate()"
   ]
  },
  {
   "cell_type": "code",
   "execution_count": 31,
   "id": "a298c16d",
   "metadata": {},
   "outputs": [
    {
     "data": {
      "text/plain": [
       "{'eval_loss': 2.740715265274048,\n",
       " 'eval_runtime': 4.6827,\n",
       " 'eval_samples_per_second': 99.729,\n",
       " 'eval_steps_per_second': 24.986}"
      ]
     },
     "execution_count": 31,
     "metadata": {},
     "output_type": "execute_result"
    }
   ],
   "source": [
    "metrics"
   ]
  },
  {
   "cell_type": "code",
   "execution_count": 32,
   "id": "acb2011d",
   "metadata": {},
   "outputs": [],
   "source": [
    "torch.cuda.empty_cache()"
   ]
  },
  {
   "cell_type": "markdown",
   "id": "7f22a9f3",
   "metadata": {},
   "source": [
    "# Calculate perplexity"
   ]
  },
  {
   "cell_type": "code",
   "execution_count": 33,
   "id": "c27a34a7",
   "metadata": {},
   "outputs": [
    {
     "name": "stdout",
     "output_type": "stream",
     "text": [
      "Perplexity: 15.50\n"
     ]
    }
   ],
   "source": [
    "import math\n",
    "perplexity = math.exp(metrics[\"eval_loss\"])\n",
    "print(f\"Perplexity: {perplexity:.2f}\")"
   ]
  },
  {
   "cell_type": "code",
   "execution_count": null,
   "id": "3c37f39b",
   "metadata": {},
   "outputs": [],
   "source": [
    "# # compute rouge score\n",
    "# from datasets import load_metric\n",
    "# rouge = load_metric(\"rouge\")\n",
    "# predictions = [tokenizer.decode(pred, skip_special_tokens=True) for pred in outputs]\n",
    "# rouge.add_batch(predictions=predictions, references=[response] * len(predictions))\n",
    "# rouge_scores = rouge.compute()"
   ]
  }
 ],
 "metadata": {
  "kernelspec": {
   "display_name": "tf-gpu",
   "language": "python",
   "name": "python3"
  },
  "language_info": {
   "codemirror_mode": {
    "name": "ipython",
    "version": 3
   },
   "file_extension": ".py",
   "mimetype": "text/x-python",
   "name": "python",
   "nbconvert_exporter": "python",
   "pygments_lexer": "ipython3",
   "version": "3.10.11"
  }
 },
 "nbformat": 4,
 "nbformat_minor": 5
}
