{
 "cells": [
  {
   "cell_type": "markdown",
   "id": "9e2b232c",
   "metadata": {},
   "source": [
    "# Load all the log files"
   ]
  },
  {
   "cell_type": "code",
   "execution_count": 2,
   "id": "de462349",
   "metadata": {},
   "outputs": [],
   "source": [
    "import json\n",
    "import pandas as pd\n",
    "import plotly.graph_objects as go\n",
    "from plotly.subplots import make_subplots\n",
    "import numpy as np\n",
    "\n",
    "# Define paths to log files\n",
    "log_paths = {\n",
    "    'fine_tuning_full': '../../down-stream/sentence_classification/fine-tuning/fullset/logs/training_log_20250420_212657.json',\n",
    "    'fine_tuning_subset': '../../down-stream/sentence_classification/fine-tuning/subset/logs/training_log_20250420_201226.json',\n",
    "    'from_scratch_full': '../../down-stream/sentence_classification/from-scratch/fullset/logs/training_log_20250420_204009.json',\n",
    "    'from_scratch_subset': '../../down-stream/sentence_classification/from-scratch/subset/logs/training_log_20250421_015254.json'\n",
    "}\n",
    "\n",
    "# Load all logs\n",
    "logs = {}\n",
    "for name, path in log_paths.items():\n",
    "    with open(path, 'r') as f:\n",
    "        logs[name] = json.load(f)\n",
    "\n",
    "# Extract metrics for each approach\n",
    "metrics = {}\n",
    "for name, log in logs.items():\n",
    "    epochs = []\n",
    "    eval_losses = []\n",
    "    eval_accuracies = []\n",
    "    train_losses = []\n",
    "    \n",
    "    for entry in log:\n",
    "        if 'eval_loss' in entry:\n",
    "            epochs.append(entry['epoch'])\n",
    "            eval_losses.append(entry['eval_loss'])\n",
    "            eval_accuracies.append(entry['eval_accuracy'])\n",
    "        elif 'loss' in entry:\n",
    "            train_losses.append(entry['loss'])\n",
    "    \n",
    "    metrics[name] = {\n",
    "        'epochs': epochs,\n",
    "        'eval_losses': eval_losses,\n",
    "        'eval_accuracies': eval_accuracies,\n",
    "        'train_losses': train_losses\n",
    "    }"
   ]
  },
  {
   "cell_type": "markdown",
   "id": "471e6085",
   "metadata": {},
   "source": [
    "# Training Metrics Comparison\n",
    "\n",
    "Let's compare the training metrics across all approaches:"
   ]
  },
  {
   "cell_type": "code",
   "execution_count": 3,
   "id": "07457073",
   "metadata": {},
   "outputs": [
    {
     "data": {
      "application/vnd.plotly.v1+json": {
       "config": {
        "plotlyServerURL": "https://plot.ly"
       },
       "data": [
        {
         "line": {
          "color": "#1f77b4"
         },
         "name": "Fine-tuning (Full) (Loss)",
         "type": "scatter",
         "x": [
          1,
          2,
          3,
          4,
          5,
          6,
          7,
          8,
          9,
          10
         ],
         "xaxis": "x",
         "y": [
          0.27316516637802124,
          0.28208571672439575,
          0.27936893701553345,
          0.2980090379714966,
          0.30796879529953003,
          0.3629363775253296,
          0.43037480115890503,
          0.4582618772983551,
          0.5097520351409912,
          0.5305415391921997
         ],
         "yaxis": "y"
        },
        {
         "line": {
          "color": "#1f77b4"
         },
         "name": "Fine-tuning (Full) (Acc)",
         "type": "scatter",
         "x": [
          1,
          2,
          3,
          4,
          5,
          6,
          7,
          8,
          9,
          10
         ],
         "xaxis": "x2",
         "y": [
          0.88684,
          0.88896,
          0.8974,
          0.89988,
          0.90044,
          0.89852,
          0.89784,
          0.89744,
          0.89928,
          0.90104
         ],
         "yaxis": "y2"
        },
        {
         "line": {
          "color": "#ff7f0e"
         },
         "name": "Fine-tuning (50%) (Loss)",
         "type": "scatter",
         "x": [
          1,
          2,
          3,
          4,
          5,
          6,
          7,
          8,
          9,
          10
         ],
         "xaxis": "x",
         "y": [
          0.31055134534835815,
          0.29730936884880066,
          0.29191502928733826,
          0.30126485228538513,
          0.3328348696231842,
          0.36387917399406433,
          0.4230346381664276,
          0.49091866612434387,
          0.5251381993293762,
          0.5393058061599731
         ],
         "yaxis": "y"
        },
        {
         "line": {
          "color": "#ff7f0e"
         },
         "name": "Fine-tuning (50%) (Acc)",
         "type": "scatter",
         "x": [
          1,
          2,
          3,
          4,
          5,
          6,
          7,
          8,
          9,
          10
         ],
         "xaxis": "x2",
         "y": [
          0.86876,
          0.8736,
          0.88896,
          0.88864,
          0.89052,
          0.88988,
          0.8912,
          0.88852,
          0.88932,
          0.88904
         ],
         "yaxis": "y2"
        },
        {
         "line": {
          "color": "#2ca02c"
         },
         "name": "From Scratch (Full) (Loss)",
         "type": "scatter",
         "x": [
          1,
          2,
          3,
          4,
          5,
          6,
          7,
          8,
          9,
          10
         ],
         "xaxis": "x",
         "y": [
          0.5043091177940369,
          0.3074481189250946,
          0.31480881571769714,
          0.4323212802410126,
          0.5753242373466492,
          0.7401742339134216,
          0.8668599128723145,
          0.8530956506729126,
          0.9873777627944946,
          1.0260963439941406
         ],
         "yaxis": "y"
        },
        {
         "line": {
          "color": "#2ca02c"
         },
         "name": "From Scratch (Full) (Acc)",
         "type": "scatter",
         "x": [
          1,
          2,
          3,
          4,
          5,
          6,
          7,
          8,
          9,
          10
         ],
         "xaxis": "x2",
         "y": [
          0.767,
          0.86896,
          0.8716,
          0.85916,
          0.86288,
          0.86068,
          0.85644,
          0.85888,
          0.85424,
          0.85448
         ],
         "yaxis": "y2"
        },
        {
         "line": {
          "color": "#d62728"
         },
         "name": "From Scratch (50%) (Loss)",
         "type": "scatter",
         "x": [
          1,
          2,
          3,
          4,
          5,
          6,
          7,
          8,
          9,
          10
         ],
         "xaxis": "x",
         "y": [
          0.4920104444026947,
          0.3664415180683136,
          0.3858794569969177,
          0.5420794486999512,
          0.5041273832321167,
          0.765141487121582,
          0.7957320213317871,
          0.9121775031089783,
          0.8862590789794922,
          0.9772167801856995
         ],
         "yaxis": "y"
        },
        {
         "line": {
          "color": "#d62728"
         },
         "name": "From Scratch (50%) (Acc)",
         "type": "scatter",
         "x": [
          1,
          2,
          3,
          4,
          5,
          6,
          7,
          8,
          9,
          10
         ],
         "xaxis": "x2",
         "y": [
          0.76048,
          0.84628,
          0.84376,
          0.85892,
          0.84844,
          0.8588,
          0.85408,
          0.85164,
          0.85652,
          0.8542
         ],
         "yaxis": "y2"
        }
       ],
       "layout": {
        "annotations": [
         {
          "font": {
           "size": 16
          },
          "showarrow": false,
          "text": "Evaluation Loss",
          "x": 0.5,
          "xanchor": "center",
          "xref": "paper",
          "y": 1,
          "yanchor": "bottom",
          "yref": "paper"
         },
         {
          "font": {
           "size": 16
          },
          "showarrow": false,
          "text": "Evaluation Accuracy",
          "x": 0.5,
          "xanchor": "center",
          "xref": "paper",
          "y": 0.44,
          "yanchor": "bottom",
          "yref": "paper"
         }
        ],
        "height": 800,
        "hovermode": "x unified",
        "showlegend": true,
        "template": {
         "data": {
          "bar": [
           {
            "error_x": {
             "color": "#2a3f5f"
            },
            "error_y": {
             "color": "#2a3f5f"
            },
            "marker": {
             "line": {
              "color": "#E5ECF6",
              "width": 0.5
             },
             "pattern": {
              "fillmode": "overlay",
              "size": 10,
              "solidity": 0.2
             }
            },
            "type": "bar"
           }
          ],
          "barpolar": [
           {
            "marker": {
             "line": {
              "color": "#E5ECF6",
              "width": 0.5
             },
             "pattern": {
              "fillmode": "overlay",
              "size": 10,
              "solidity": 0.2
             }
            },
            "type": "barpolar"
           }
          ],
          "carpet": [
           {
            "aaxis": {
             "endlinecolor": "#2a3f5f",
             "gridcolor": "white",
             "linecolor": "white",
             "minorgridcolor": "white",
             "startlinecolor": "#2a3f5f"
            },
            "baxis": {
             "endlinecolor": "#2a3f5f",
             "gridcolor": "white",
             "linecolor": "white",
             "minorgridcolor": "white",
             "startlinecolor": "#2a3f5f"
            },
            "type": "carpet"
           }
          ],
          "choropleth": [
           {
            "colorbar": {
             "outlinewidth": 0,
             "ticks": ""
            },
            "type": "choropleth"
           }
          ],
          "contour": [
           {
            "colorbar": {
             "outlinewidth": 0,
             "ticks": ""
            },
            "colorscale": [
             [
              0,
              "#0d0887"
             ],
             [
              0.1111111111111111,
              "#46039f"
             ],
             [
              0.2222222222222222,
              "#7201a8"
             ],
             [
              0.3333333333333333,
              "#9c179e"
             ],
             [
              0.4444444444444444,
              "#bd3786"
             ],
             [
              0.5555555555555556,
              "#d8576b"
             ],
             [
              0.6666666666666666,
              "#ed7953"
             ],
             [
              0.7777777777777778,
              "#fb9f3a"
             ],
             [
              0.8888888888888888,
              "#fdca26"
             ],
             [
              1,
              "#f0f921"
             ]
            ],
            "type": "contour"
           }
          ],
          "contourcarpet": [
           {
            "colorbar": {
             "outlinewidth": 0,
             "ticks": ""
            },
            "type": "contourcarpet"
           }
          ],
          "heatmap": [
           {
            "colorbar": {
             "outlinewidth": 0,
             "ticks": ""
            },
            "colorscale": [
             [
              0,
              "#0d0887"
             ],
             [
              0.1111111111111111,
              "#46039f"
             ],
             [
              0.2222222222222222,
              "#7201a8"
             ],
             [
              0.3333333333333333,
              "#9c179e"
             ],
             [
              0.4444444444444444,
              "#bd3786"
             ],
             [
              0.5555555555555556,
              "#d8576b"
             ],
             [
              0.6666666666666666,
              "#ed7953"
             ],
             [
              0.7777777777777778,
              "#fb9f3a"
             ],
             [
              0.8888888888888888,
              "#fdca26"
             ],
             [
              1,
              "#f0f921"
             ]
            ],
            "type": "heatmap"
           }
          ],
          "heatmapgl": [
           {
            "colorbar": {
             "outlinewidth": 0,
             "ticks": ""
            },
            "colorscale": [
             [
              0,
              "#0d0887"
             ],
             [
              0.1111111111111111,
              "#46039f"
             ],
             [
              0.2222222222222222,
              "#7201a8"
             ],
             [
              0.3333333333333333,
              "#9c179e"
             ],
             [
              0.4444444444444444,
              "#bd3786"
             ],
             [
              0.5555555555555556,
              "#d8576b"
             ],
             [
              0.6666666666666666,
              "#ed7953"
             ],
             [
              0.7777777777777778,
              "#fb9f3a"
             ],
             [
              0.8888888888888888,
              "#fdca26"
             ],
             [
              1,
              "#f0f921"
             ]
            ],
            "type": "heatmapgl"
           }
          ],
          "histogram": [
           {
            "marker": {
             "pattern": {
              "fillmode": "overlay",
              "size": 10,
              "solidity": 0.2
             }
            },
            "type": "histogram"
           }
          ],
          "histogram2d": [
           {
            "colorbar": {
             "outlinewidth": 0,
             "ticks": ""
            },
            "colorscale": [
             [
              0,
              "#0d0887"
             ],
             [
              0.1111111111111111,
              "#46039f"
             ],
             [
              0.2222222222222222,
              "#7201a8"
             ],
             [
              0.3333333333333333,
              "#9c179e"
             ],
             [
              0.4444444444444444,
              "#bd3786"
             ],
             [
              0.5555555555555556,
              "#d8576b"
             ],
             [
              0.6666666666666666,
              "#ed7953"
             ],
             [
              0.7777777777777778,
              "#fb9f3a"
             ],
             [
              0.8888888888888888,
              "#fdca26"
             ],
             [
              1,
              "#f0f921"
             ]
            ],
            "type": "histogram2d"
           }
          ],
          "histogram2dcontour": [
           {
            "colorbar": {
             "outlinewidth": 0,
             "ticks": ""
            },
            "colorscale": [
             [
              0,
              "#0d0887"
             ],
             [
              0.1111111111111111,
              "#46039f"
             ],
             [
              0.2222222222222222,
              "#7201a8"
             ],
             [
              0.3333333333333333,
              "#9c179e"
             ],
             [
              0.4444444444444444,
              "#bd3786"
             ],
             [
              0.5555555555555556,
              "#d8576b"
             ],
             [
              0.6666666666666666,
              "#ed7953"
             ],
             [
              0.7777777777777778,
              "#fb9f3a"
             ],
             [
              0.8888888888888888,
              "#fdca26"
             ],
             [
              1,
              "#f0f921"
             ]
            ],
            "type": "histogram2dcontour"
           }
          ],
          "mesh3d": [
           {
            "colorbar": {
             "outlinewidth": 0,
             "ticks": ""
            },
            "type": "mesh3d"
           }
          ],
          "parcoords": [
           {
            "line": {
             "colorbar": {
              "outlinewidth": 0,
              "ticks": ""
             }
            },
            "type": "parcoords"
           }
          ],
          "pie": [
           {
            "automargin": true,
            "type": "pie"
           }
          ],
          "scatter": [
           {
            "fillpattern": {
             "fillmode": "overlay",
             "size": 10,
             "solidity": 0.2
            },
            "type": "scatter"
           }
          ],
          "scatter3d": [
           {
            "line": {
             "colorbar": {
              "outlinewidth": 0,
              "ticks": ""
             }
            },
            "marker": {
             "colorbar": {
              "outlinewidth": 0,
              "ticks": ""
             }
            },
            "type": "scatter3d"
           }
          ],
          "scattercarpet": [
           {
            "marker": {
             "colorbar": {
              "outlinewidth": 0,
              "ticks": ""
             }
            },
            "type": "scattercarpet"
           }
          ],
          "scattergeo": [
           {
            "marker": {
             "colorbar": {
              "outlinewidth": 0,
              "ticks": ""
             }
            },
            "type": "scattergeo"
           }
          ],
          "scattergl": [
           {
            "marker": {
             "colorbar": {
              "outlinewidth": 0,
              "ticks": ""
             }
            },
            "type": "scattergl"
           }
          ],
          "scattermapbox": [
           {
            "marker": {
             "colorbar": {
              "outlinewidth": 0,
              "ticks": ""
             }
            },
            "type": "scattermapbox"
           }
          ],
          "scatterpolar": [
           {
            "marker": {
             "colorbar": {
              "outlinewidth": 0,
              "ticks": ""
             }
            },
            "type": "scatterpolar"
           }
          ],
          "scatterpolargl": [
           {
            "marker": {
             "colorbar": {
              "outlinewidth": 0,
              "ticks": ""
             }
            },
            "type": "scatterpolargl"
           }
          ],
          "scatterternary": [
           {
            "marker": {
             "colorbar": {
              "outlinewidth": 0,
              "ticks": ""
             }
            },
            "type": "scatterternary"
           }
          ],
          "surface": [
           {
            "colorbar": {
             "outlinewidth": 0,
             "ticks": ""
            },
            "colorscale": [
             [
              0,
              "#0d0887"
             ],
             [
              0.1111111111111111,
              "#46039f"
             ],
             [
              0.2222222222222222,
              "#7201a8"
             ],
             [
              0.3333333333333333,
              "#9c179e"
             ],
             [
              0.4444444444444444,
              "#bd3786"
             ],
             [
              0.5555555555555556,
              "#d8576b"
             ],
             [
              0.6666666666666666,
              "#ed7953"
             ],
             [
              0.7777777777777778,
              "#fb9f3a"
             ],
             [
              0.8888888888888888,
              "#fdca26"
             ],
             [
              1,
              "#f0f921"
             ]
            ],
            "type": "surface"
           }
          ],
          "table": [
           {
            "cells": {
             "fill": {
              "color": "#EBF0F8"
             },
             "line": {
              "color": "white"
             }
            },
            "header": {
             "fill": {
              "color": "#C8D4E3"
             },
             "line": {
              "color": "white"
             }
            },
            "type": "table"
           }
          ]
         },
         "layout": {
          "annotationdefaults": {
           "arrowcolor": "#2a3f5f",
           "arrowhead": 0,
           "arrowwidth": 1
          },
          "autotypenumbers": "strict",
          "coloraxis": {
           "colorbar": {
            "outlinewidth": 0,
            "ticks": ""
           }
          },
          "colorscale": {
           "diverging": [
            [
             0,
             "#8e0152"
            ],
            [
             0.1,
             "#c51b7d"
            ],
            [
             0.2,
             "#de77ae"
            ],
            [
             0.3,
             "#f1b6da"
            ],
            [
             0.4,
             "#fde0ef"
            ],
            [
             0.5,
             "#f7f7f7"
            ],
            [
             0.6,
             "#e6f5d0"
            ],
            [
             0.7,
             "#b8e186"
            ],
            [
             0.8,
             "#7fbc41"
            ],
            [
             0.9,
             "#4d9221"
            ],
            [
             1,
             "#276419"
            ]
           ],
           "sequential": [
            [
             0,
             "#0d0887"
            ],
            [
             0.1111111111111111,
             "#46039f"
            ],
            [
             0.2222222222222222,
             "#7201a8"
            ],
            [
             0.3333333333333333,
             "#9c179e"
            ],
            [
             0.4444444444444444,
             "#bd3786"
            ],
            [
             0.5555555555555556,
             "#d8576b"
            ],
            [
             0.6666666666666666,
             "#ed7953"
            ],
            [
             0.7777777777777778,
             "#fb9f3a"
            ],
            [
             0.8888888888888888,
             "#fdca26"
            ],
            [
             1,
             "#f0f921"
            ]
           ],
           "sequentialminus": [
            [
             0,
             "#0d0887"
            ],
            [
             0.1111111111111111,
             "#46039f"
            ],
            [
             0.2222222222222222,
             "#7201a8"
            ],
            [
             0.3333333333333333,
             "#9c179e"
            ],
            [
             0.4444444444444444,
             "#bd3786"
            ],
            [
             0.5555555555555556,
             "#d8576b"
            ],
            [
             0.6666666666666666,
             "#ed7953"
            ],
            [
             0.7777777777777778,
             "#fb9f3a"
            ],
            [
             0.8888888888888888,
             "#fdca26"
            ],
            [
             1,
             "#f0f921"
            ]
           ]
          },
          "colorway": [
           "#636efa",
           "#EF553B",
           "#00cc96",
           "#ab63fa",
           "#FFA15A",
           "#19d3f3",
           "#FF6692",
           "#B6E880",
           "#FF97FF",
           "#FECB52"
          ],
          "font": {
           "color": "#2a3f5f"
          },
          "geo": {
           "bgcolor": "white",
           "lakecolor": "white",
           "landcolor": "#E5ECF6",
           "showlakes": true,
           "showland": true,
           "subunitcolor": "white"
          },
          "hoverlabel": {
           "align": "left"
          },
          "hovermode": "closest",
          "mapbox": {
           "style": "light"
          },
          "paper_bgcolor": "white",
          "plot_bgcolor": "#E5ECF6",
          "polar": {
           "angularaxis": {
            "gridcolor": "white",
            "linecolor": "white",
            "ticks": ""
           },
           "bgcolor": "#E5ECF6",
           "radialaxis": {
            "gridcolor": "white",
            "linecolor": "white",
            "ticks": ""
           }
          },
          "scene": {
           "xaxis": {
            "backgroundcolor": "#E5ECF6",
            "gridcolor": "white",
            "gridwidth": 2,
            "linecolor": "white",
            "showbackground": true,
            "ticks": "",
            "zerolinecolor": "white"
           },
           "yaxis": {
            "backgroundcolor": "#E5ECF6",
            "gridcolor": "white",
            "gridwidth": 2,
            "linecolor": "white",
            "showbackground": true,
            "ticks": "",
            "zerolinecolor": "white"
           },
           "zaxis": {
            "backgroundcolor": "#E5ECF6",
            "gridcolor": "white",
            "gridwidth": 2,
            "linecolor": "white",
            "showbackground": true,
            "ticks": "",
            "zerolinecolor": "white"
           }
          },
          "shapedefaults": {
           "line": {
            "color": "#2a3f5f"
           }
          },
          "ternary": {
           "aaxis": {
            "gridcolor": "white",
            "linecolor": "white",
            "ticks": ""
           },
           "baxis": {
            "gridcolor": "white",
            "linecolor": "white",
            "ticks": ""
           },
           "bgcolor": "#E5ECF6",
           "caxis": {
            "gridcolor": "white",
            "linecolor": "white",
            "ticks": ""
           }
          },
          "title": {
           "x": 0.05
          },
          "xaxis": {
           "automargin": true,
           "gridcolor": "white",
           "linecolor": "white",
           "ticks": "",
           "title": {
            "standoff": 15
           },
           "zerolinecolor": "white",
           "zerolinewidth": 2
          },
          "yaxis": {
           "automargin": true,
           "gridcolor": "white",
           "linecolor": "white",
           "ticks": "",
           "title": {
            "standoff": 15
           },
           "zerolinecolor": "white",
           "zerolinewidth": 2
          }
         }
        },
        "title": {
         "text": "Training Metrics Comparison"
        },
        "xaxis": {
         "anchor": "y",
         "domain": [
          0,
          1
         ],
         "title": {
          "text": "Epoch"
         }
        },
        "xaxis2": {
         "anchor": "y2",
         "domain": [
          0,
          1
         ],
         "title": {
          "text": "Epoch"
         }
        },
        "yaxis": {
         "anchor": "x",
         "domain": [
          0.56,
          1
         ],
         "title": {
          "text": "Loss"
         }
        },
        "yaxis2": {
         "anchor": "x2",
         "domain": [
          0,
          0.44
         ],
         "title": {
          "text": "Accuracy"
         }
        }
       }
      }
     },
     "metadata": {},
     "output_type": "display_data"
    }
   ],
   "source": [
    "# Create figure with secondary y-axis\n",
    "fig = make_subplots(\n",
    "    rows=2, cols=1,\n",
    "    subplot_titles=('Evaluation Loss', 'Evaluation Accuracy'),\n",
    "    vertical_spacing=0.12\n",
    ")\n",
    "\n",
    "colors = {\n",
    "    'fine_tuning_full': '#1f77b4',\n",
    "    'fine_tuning_subset': '#ff7f0e',\n",
    "    'from_scratch_full': '#2ca02c',\n",
    "    'from_scratch_subset': '#d62728'\n",
    "}\n",
    "\n",
    "names = {\n",
    "    'fine_tuning_full': 'Fine-tuning (Full)',\n",
    "    'fine_tuning_subset': 'Fine-tuning (50%)',\n",
    "    'from_scratch_full': 'From Scratch (Full)',\n",
    "    'from_scratch_subset': 'From Scratch (50%)'\n",
    "}\n",
    "\n",
    "# Add traces for each approach\n",
    "for name, metric in metrics.items():\n",
    "    # Loss plot\n",
    "    fig.add_trace(\n",
    "        go.Scatter(\n",
    "            x=metric['epochs'],\n",
    "            y=metric['eval_losses'],\n",
    "            name=f\"{names[name]} (Loss)\",\n",
    "            line=dict(color=colors[name])\n",
    "        ),\n",
    "        row=1, col=1\n",
    "    )\n",
    "    \n",
    "    # Accuracy plot\n",
    "    fig.add_trace(\n",
    "        go.Scatter(\n",
    "            x=metric['epochs'],\n",
    "            y=metric['eval_accuracies'],\n",
    "            name=f\"{names[name]} (Acc)\",\n",
    "            line=dict(color=colors[name])\n",
    "        ),\n",
    "        row=2, col=1\n",
    "    )\n",
    "\n",
    "# Update layout\n",
    "fig.update_layout(\n",
    "    height=800,\n",
    "    showlegend=True,\n",
    "    title_text=\"Training Metrics Comparison\",\n",
    "    hovermode='x unified'\n",
    ")\n",
    "\n",
    "# Update axes labels\n",
    "fig.update_xaxes(title_text=\"Epoch\", row=1, col=1)\n",
    "fig.update_xaxes(title_text=\"Epoch\", row=2, col=1)\n",
    "fig.update_yaxes(title_text=\"Loss\", row=1, col=1)\n",
    "fig.update_yaxes(title_text=\"Accuracy\", row=2, col=1)\n",
    "\n",
    "fig.show()"
   ]
  },
  {
   "cell_type": "markdown",
   "id": "3e4aa9b5",
   "metadata": {},
   "source": [
    "# Performance Analysis\n",
    "\n",
    "Let's analyze the final performance metrics for each approach:"
   ]
  },
  {
   "cell_type": "code",
   "execution_count": 4,
   "id": "f8752bc9",
   "metadata": {},
   "outputs": [
    {
     "data": {
      "text/html": [
       "<style type=\"text/css\">\n",
       "#T_62c26_row0_col1, #T_62c26_row0_col2, #T_62c26_row0_col3, #T_62c26_row0_col4 {\n",
       "  background-color: #006837;\n",
       "  color: #f1f1f1;\n",
       "}\n",
       "#T_62c26_row1_col1 {\n",
       "  background-color: #04703b;\n",
       "  color: #f1f1f1;\n",
       "}\n",
       "#T_62c26_row1_col2 {\n",
       "  background-color: #89cc67;\n",
       "  color: #000000;\n",
       "}\n",
       "#T_62c26_row1_col3 {\n",
       "  background-color: #7ac665;\n",
       "  color: #000000;\n",
       "}\n",
       "#T_62c26_row1_col4 {\n",
       "  background-color: #66bd63;\n",
       "  color: #f1f1f1;\n",
       "}\n",
       "#T_62c26_row2_col1, #T_62c26_row3_col2, #T_62c26_row3_col3, #T_62c26_row3_col4 {\n",
       "  background-color: #a50026;\n",
       "  color: #f1f1f1;\n",
       "}\n",
       "#T_62c26_row2_col2 {\n",
       "  background-color: #a70226;\n",
       "  color: #f1f1f1;\n",
       "}\n",
       "#T_62c26_row2_col3 {\n",
       "  background-color: #fdaf62;\n",
       "  color: #000000;\n",
       "}\n",
       "#T_62c26_row2_col4 {\n",
       "  background-color: #c7e77f;\n",
       "  color: #000000;\n",
       "}\n",
       "#T_62c26_row3_col1 {\n",
       "  background-color: #d62f27;\n",
       "  color: #f1f1f1;\n",
       "}\n",
       "</style>\n",
       "<table id=\"T_62c26\">\n",
       "  <thead>\n",
       "    <tr>\n",
       "      <th class=\"blank level0\" >&nbsp;</th>\n",
       "      <th id=\"T_62c26_level0_col0\" class=\"col_heading level0 col0\" >Approach</th>\n",
       "      <th id=\"T_62c26_level0_col1\" class=\"col_heading level0 col1\" >Final Loss</th>\n",
       "      <th id=\"T_62c26_level0_col2\" class=\"col_heading level0 col2\" >Final Accuracy</th>\n",
       "      <th id=\"T_62c26_level0_col3\" class=\"col_heading level0 col3\" >Best Accuracy</th>\n",
       "      <th id=\"T_62c26_level0_col4\" class=\"col_heading level0 col4\" >Best Loss</th>\n",
       "      <th id=\"T_62c26_level0_col5\" class=\"col_heading level0 col5\" >Num Epochs</th>\n",
       "    </tr>\n",
       "  </thead>\n",
       "  <tbody>\n",
       "    <tr>\n",
       "      <th id=\"T_62c26_level0_row0\" class=\"row_heading level0 row0\" >0</th>\n",
       "      <td id=\"T_62c26_row0_col0\" class=\"data row0 col0\" >Fine-tuning (Full)</td>\n",
       "      <td id=\"T_62c26_row0_col1\" class=\"data row0 col1\" >0.530500</td>\n",
       "      <td id=\"T_62c26_row0_col2\" class=\"data row0 col2\" >0.901000</td>\n",
       "      <td id=\"T_62c26_row0_col3\" class=\"data row0 col3\" >0.901000</td>\n",
       "      <td id=\"T_62c26_row0_col4\" class=\"data row0 col4\" >0.273200</td>\n",
       "      <td id=\"T_62c26_row0_col5\" class=\"data row0 col5\" >10</td>\n",
       "    </tr>\n",
       "    <tr>\n",
       "      <th id=\"T_62c26_level0_row1\" class=\"row_heading level0 row1\" >1</th>\n",
       "      <td id=\"T_62c26_row1_col0\" class=\"data row1 col0\" >Fine-tuning (50%)</td>\n",
       "      <td id=\"T_62c26_row1_col1\" class=\"data row1 col1\" >0.539300</td>\n",
       "      <td id=\"T_62c26_row1_col2\" class=\"data row1 col2\" >0.889000</td>\n",
       "      <td id=\"T_62c26_row1_col3\" class=\"data row1 col3\" >0.891200</td>\n",
       "      <td id=\"T_62c26_row1_col4\" class=\"data row1 col4\" >0.291900</td>\n",
       "      <td id=\"T_62c26_row1_col5\" class=\"data row1 col5\" >10</td>\n",
       "    </tr>\n",
       "    <tr>\n",
       "      <th id=\"T_62c26_level0_row2\" class=\"row_heading level0 row2\" >2</th>\n",
       "      <td id=\"T_62c26_row2_col0\" class=\"data row2 col0\" >From Scratch (Full)</td>\n",
       "      <td id=\"T_62c26_row2_col1\" class=\"data row2 col1\" >1.026100</td>\n",
       "      <td id=\"T_62c26_row2_col2\" class=\"data row2 col2\" >0.854500</td>\n",
       "      <td id=\"T_62c26_row2_col3\" class=\"data row2 col3\" >0.871600</td>\n",
       "      <td id=\"T_62c26_row2_col4\" class=\"data row2 col4\" >0.307400</td>\n",
       "      <td id=\"T_62c26_row2_col5\" class=\"data row2 col5\" >10</td>\n",
       "    </tr>\n",
       "    <tr>\n",
       "      <th id=\"T_62c26_level0_row3\" class=\"row_heading level0 row3\" >3</th>\n",
       "      <td id=\"T_62c26_row3_col0\" class=\"data row3 col0\" >From Scratch (50%)</td>\n",
       "      <td id=\"T_62c26_row3_col1\" class=\"data row3 col1\" >0.977200</td>\n",
       "      <td id=\"T_62c26_row3_col2\" class=\"data row3 col2\" >0.854200</td>\n",
       "      <td id=\"T_62c26_row3_col3\" class=\"data row3 col3\" >0.858900</td>\n",
       "      <td id=\"T_62c26_row3_col4\" class=\"data row3 col4\" >0.366400</td>\n",
       "      <td id=\"T_62c26_row3_col5\" class=\"data row3 col5\" >10</td>\n",
       "    </tr>\n",
       "  </tbody>\n",
       "</table>\n"
      ],
      "text/plain": [
       "<pandas.io.formats.style.Styler at 0x226fd66f280>"
      ]
     },
     "execution_count": 4,
     "metadata": {},
     "output_type": "execute_result"
    }
   ],
   "source": [
    "# Create final metrics comparison\n",
    "final_metrics = []\n",
    "\n",
    "for name, metric in metrics.items():\n",
    "    final_metrics.append({\n",
    "        'Approach': names[name],\n",
    "        'Final Loss': metric['eval_losses'][-1],\n",
    "        'Final Accuracy': metric['eval_accuracies'][-1],\n",
    "        'Best Accuracy': max(metric['eval_accuracies']),\n",
    "        'Best Loss': min(metric['eval_losses']),\n",
    "        'Num Epochs': len(metric['epochs'])\n",
    "    })\n",
    "\n",
    "df_metrics = pd.DataFrame(final_metrics)\n",
    "df_metrics = df_metrics.round(4)\n",
    "df_metrics.style.background_gradient(cmap='RdYlGn', subset=['Final Accuracy', 'Best Accuracy'])\\\n",
    "    .background_gradient(cmap='RdYlGn_r', subset=['Final Loss', 'Best Loss'])"
   ]
  }
 ],
 "metadata": {
  "kernelspec": {
   "display_name": "tf-gpu",
   "language": "python",
   "name": "python3"
  },
  "language_info": {
   "codemirror_mode": {
    "name": "ipython",
    "version": 3
   },
   "file_extension": ".py",
   "mimetype": "text/x-python",
   "name": "python",
   "nbconvert_exporter": "python",
   "pygments_lexer": "ipython3",
   "version": "3.10.11"
  }
 },
 "nbformat": 4,
 "nbformat_minor": 5
}
